{
 "cells": [
  {
   "cell_type": "markdown",
   "id": "1e420fec",
   "metadata": {
    "id": "1e420fec"
   },
   "source": [
    "# Categorisez automatiquement des questions - Nettoyage"
   ]
  },
  {
   "cell_type": "code",
   "execution_count": 2,
   "id": "su1aHDH8FVTd",
   "metadata": {
    "colab": {
     "base_uri": "https://localhost:8080/"
    },
    "id": "su1aHDH8FVTd",
    "outputId": "c2478f56-9c4e-4492-a40b-e77271769e46"
   },
   "outputs": [
    {
     "name": "stdout",
     "output_type": "stream",
     "text": [
      "skipping\n"
     ]
    }
   ],
   "source": [
    "%%script echo skipping\n",
    "from google.colab import drive\n",
    "drive.mount('/content/drive')"
   ]
  },
  {
   "cell_type": "markdown",
   "id": "d122f713",
   "metadata": {
    "id": "d122f713"
   },
   "source": [
    "# SOMMAIRE\n",
    "* [PREPARATION](#PREPARATION)\n",
    "* [CHARGEMENT](#CHARGEMENT)\n",
    "* [CARACTERISTIQUES](#CARACTERISTIQUES)\n",
    "* [NETTOYAGE](#NETTOYAGE)\n",
    "    * [Tokenisation](#Tokenisation)\n",
    "    * [Nettoyage des stopwords](#Nettoyage-des-stopwords)\n",
    "    * [Lemmatisation](#Lemmatisation)\n",
    "* [SAUVEGARDE](#SAUVEGARDE)"
   ]
  },
  {
   "cell_type": "markdown",
   "id": "71f62611",
   "metadata": {
    "id": "71f62611"
   },
   "source": [
    "# PREPARATION"
   ]
  },
  {
   "cell_type": "markdown",
   "id": "753aaabc",
   "metadata": {
    "id": "753aaabc"
   },
   "source": [
    "## Import des librairies"
   ]
  },
  {
   "cell_type": "code",
   "execution_count": 3,
   "id": "e5151aa9",
   "metadata": {
    "colab": {
     "base_uri": "https://localhost:8080/"
    },
    "id": "e5151aa9",
    "outputId": "fde43a2f-58e1-4603-a460-99e99871807d"
   },
   "outputs": [
    {
     "name": "stderr",
     "output_type": "stream",
     "text": [
      "[nltk_data] Downloading package punkt to /Users/hui-guan/nltk_data...\n",
      "[nltk_data]   Unzipping tokenizers/punkt.zip.\n",
      "[nltk_data] Downloading package stopwords to /Users/hui-\n",
      "[nltk_data]     guan/nltk_data...\n",
      "[nltk_data]   Unzipping corpora/stopwords.zip.\n",
      "[nltk_data] Downloading package averaged_perceptron_tagger to\n",
      "[nltk_data]     /Users/hui-guan/nltk_data...\n",
      "[nltk_data]   Unzipping taggers/averaged_perceptron_tagger.zip.\n",
      "[nltk_data] Downloading package wordnet to /Users/hui-\n",
      "[nltk_data]     guan/nltk_data...\n",
      "[nltk_data]   Unzipping corpora/wordnet.zip.\n"
     ]
    }
   ],
   "source": [
    "import time\n",
    "\n",
    "import matplotlib as mplt\n",
    "import matplotlib.pyplot as plt\n",
    "import seaborn as sns\n",
    "\n",
    "import pandas as pd\n",
    "\n",
    "import joblib\n",
    "\n",
    "import re\n",
    "\n",
    "import nltk\n",
    "nltk.download('punkt')\n",
    "nltk.download('stopwords')\n",
    "nltk.download('averaged_perceptron_tagger')\n",
    "nltk.download('wordnet')\n",
    "from nltk.corpus import stopwords, wordnet\n",
    "from nltk.stem import WordNetLemmatizer"
   ]
  },
  {
   "cell_type": "markdown",
   "id": "fdd5477b",
   "metadata": {
    "id": "fdd5477b"
   },
   "source": [
    "## Paramétrage du notebook"
   ]
  },
  {
   "cell_type": "code",
   "execution_count": 4,
   "id": "c07193e3",
   "metadata": {
    "id": "c07193e3"
   },
   "outputs": [],
   "source": [
    "from matplotlib import font_manager\n",
    "\n",
    "font_dirs = ['/Library/Fonts/']\n",
    "font_files = font_manager.findSystemFonts(fontpaths=font_dirs)\n",
    "\n",
    "for font_file in font_files:\n",
    "    font_manager.fontManager.addfont(font_file)\n",
    "\n",
    "# set font\n",
    "plt.rcParams['font.family'] = 'Comic Sans'\n",
    "plt.rcParams['font.sans-serif'] = 'Franklin Gothic Book'"
   ]
  },
  {
   "cell_type": "code",
   "execution_count": 5,
   "id": "ef868628",
   "metadata": {
    "id": "ef868628"
   },
   "outputs": [],
   "source": [
    "sns.set(rc={\n",
    " 'axes.axisbelow': False,\n",
    " 'axes.edgecolor': 'lightgrey',\n",
    " 'axes.facecolor': 'None',\n",
    " 'axes.grid': False,\n",
    " 'axes.labelcolor': 'dimgrey',\n",
    " 'axes.spines.right': False,\n",
    " 'axes.spines.top': False,\n",
    " 'figure.facecolor': 'white',\n",
    " 'lines.solid_capstyle': 'round',\n",
    " 'patch.edgecolor': 'w',\n",
    " 'patch.force_edgecolor': True,\n",
    " 'text.color': 'dimgrey',\n",
    " 'xtick.bottom': False,\n",
    " 'xtick.color': 'dimgrey',\n",
    " 'xtick.direction': 'out',\n",
    " 'xtick.top': False,\n",
    " 'ytick.color': 'dimgrey',\n",
    " 'ytick.direction': 'out',\n",
    " 'ytick.left': False,\n",
    " 'ytick.right': False})\n",
    "\n",
    "#mplt.font_manager._rebuild()\n",
    "#mplt.font_manager.findfont('Franklin Gothic Book',rebuild_if_missing=True)\n",
    "\n",
    "\n",
    "pd.options.display.max_colwidth=120\n",
    "pd.options.display.min_rows=100"
   ]
  },
  {
   "cell_type": "markdown",
   "id": "3961885b",
   "metadata": {
    "id": "3961885b"
   },
   "source": [
    "## Declaration des fonctions"
   ]
  },
  {
   "cell_type": "code",
   "execution_count": 6,
   "id": "86cf8522",
   "metadata": {
    "id": "86cf8522"
   },
   "outputs": [],
   "source": [
    "#%run /Users/hui-guan/Documents/Developpement/Jupyter/Lib/outilsEDA.py\n",
    "\n",
    "def profil(df):\n",
    "    \"\"\"\n",
    "    Fonction qui retourne le profil des données d'un dataframe (moyenne, ecart type, min, max, valeurs manquantes, valeurs uniques)\n",
    "\n",
    "    Parameters\n",
    "    ----------\n",
    "    df : DataFrame\n",
    "        un DataFrame de données\n",
    "\n",
    "    Returns\n",
    "    -------\n",
    "    result : DataFrame\n",
    "        un DataFrame de profil, contenant un résumé statistique des données\n",
    "    \"\"\"\n",
    "    \n",
    "    dfValeursManquantes=pd.concat([df.isna().sum(),100*df.isna().sum()/len(df)],axis=1,keys=[\"missing_values\",\"%_missing_values\"])\n",
    "    dfTypes=pd.DataFrame({'type':df.dtypes})\n",
    "    result=df.describe(include='all',datetime_is_numeric=True).T\n",
    "    result=result.merge(dfTypes,left_index=True,right_index=True)\n",
    "    result=result.merge(dfValeursManquantes,left_index=True,right_index=True)\n",
    "    return result\n",
    "def summarizeFrequenciesDf(df,threshold):\n",
    "    \"\"\"\n",
    "    Fonction mode qui agrege les variables qui sont sous un seuil 'threshold'(pour les très gros dataframe qui ont du mal à plotter)\n",
    "\n",
    "    Parameters\n",
    "    ----------\n",
    "    df : DataFrame\n",
    "        un DataFrame de données\n",
    "    threshold: Int\n",
    "        seuil au dessous duquel le comptage des observations sont agrégées dans la catégorie 'autres'\n",
    "\n",
    "    Returns\n",
    "    -------\n",
    "    result : DataFrame\n",
    "        un DataFrame contenant le comptage des observations au dessus du seuil et tout le reste dans la catégorie 'Autres'\n",
    "    \"\"\"\n",
    "\n",
    "    dfFrequencies=df.value_counts()\n",
    "    dfNormalizedFrequencies=df.value_counts(normalize=True) # frequence normalisée des valeurs de chaque variable\n",
    "    mask = dfNormalizedFrequencies>threshold # masque sur les fréquences > seuil\n",
    "    dfTail= dfFrequencies.loc[~mask].sum()\n",
    "    dfFrequencies=dfFrequencies.loc[mask] # filtre sur les fréquences < seuil\n",
    "    dfFrequencies['Autres']=dfTail # ajout des fréquences > seuil agregées dans la categorie 'Autre'\n",
    "    return pd.DataFrame(dfFrequencies)\n",
    "def plotCategoricalDistributions(plt,df,nrows,ncols,subfigwidth,subfigheight):\n",
    "    \"\"\"\n",
    "    Fonction affiche les distributions des variables categorielles d'un DataFrame\n",
    "\n",
    "    Parameters\n",
    "    ----------\n",
    "    plt: plot\n",
    "        un objet pyplot qui affiche les graphiques\n",
    "    df : DataFrame\n",
    "        un DataFrame de données\n",
    "    nrows: Int\n",
    "        nombre de lignes des sous-figures\n",
    "    ncols: Int\n",
    "        nombre de colonnes des sous-figures\n",
    "    subfigwidth: Int\n",
    "        largeur des sous-figures\n",
    "    subfigheight: Int\n",
    "        hauteur des sous-figures\n",
    "\n",
    "    \n",
    "    Returns\n",
    "    -------\n",
    "    Pas de retours, c'est une procédure d'affichage\n",
    "\n",
    "    \"\"\"\n",
    "    dfCategorical=df.select_dtypes(include=['object','string', 'category'])\n",
    "    \n",
    "    fig, axes = plt.subplots(nrows=nrows, ncols=ncols,figsize=(subfigwidth,subfigheight))\n",
    "\n",
    "    # Titre\n",
    "    fig.suptitle(\"Distribution Variables Categorielles\", fontsize=20)\n",
    "    fig.subplots_adjust(top=1.5)\n",
    "    \n",
    "    # axes est un tableau à 2 dimensions: lignes, colonnes\n",
    "    # pour parcourir les subplot, il faut réduire axes à une dimension avec flatten\n",
    "    axes=axes.flatten()\n",
    "    \n",
    "    # espace vertical entre les rangées de sous graphiques\n",
    "    plt.tight_layout(pad=3)\n",
    "    \n",
    "    i=0\n",
    "    for x in dfCategorical.columns:\n",
    "        # passe les labels sur l'axe des x en arriere plan\n",
    "        axes[i].xaxis.label.set_visible(False)\n",
    "        \n",
    "        # On classe dans la categorie \"Autres\" les variables sous le seuil de 0,5% de frequence d'observation,\n",
    "        dfCurrent=summarizeFrequenciesDf(dfCategorical[x],0.005)\n",
    "    \n",
    "        axes[i].bar(dfCurrent[x].index,dfCurrent[x],color='#ee6352')\n",
    "        axes[i].tick_params(axis='x', rotation=-90)\n",
    "        axes[i].set_title(x,color='#3fa7d6')\n",
    "    \n",
    "        i=i+1\n",
    "    plt.show()\n",
    "        \n",
    "def plotQuantitativeDistributions(plt,df,nrows,ncols,subfigwidth,subfigheight):\n",
    "    \"\"\"\n",
    "    Fonction affiche les distributions des variables quantitatives d'un DataFrame\n",
    "\n",
    "    Parameters\n",
    "    ----------\n",
    "    plt: plot\n",
    "        un objet pyplot qui affiche les graphiques\n",
    "    df : DataFrame\n",
    "        un DataFrame de données\n",
    "    nrows: Int\n",
    "        nombre de lignes des sous-figures\n",
    "    ncols: Int\n",
    "        nombre de colonnes des sous-figures\n",
    "    subfigwidth: Int\n",
    "        largeur des sous-figures\n",
    "    subfigheight: Int\n",
    "        hauteur des sous-figures\n",
    "    \n",
    "    Returns\n",
    "    -------\n",
    "    Pas de retours, c'est une procédure d'affichage\n",
    "\n",
    "    \"\"\"\n",
    "    dfQuantitative=df.select_dtypes(exclude=['object','string', 'category'])\n",
    "    dfQSkew=dfQuantitative.skew(skipna = True).to_frame('SKEW')\n",
    "    dfQColumnsSorted=dfQSkew.sort_values(by='SKEW',ascending=False).T.columns #tri des colonnes par valeur de skew\n",
    "\n",
    "    fig, axes = plt.subplots(nrows=nrows, ncols=ncols,figsize=(subfigwidth,subfigheight))\n",
    "    \n",
    "    # Titre\n",
    "    fig.suptitle(\"Distribution Variables Quantitatives\", fontsize=20)\n",
    "    fig.subplots_adjust(top=1.5)\n",
    "    \n",
    "    # axes est un tableau à 2 dimensions: lignes, colonnes\n",
    "    # pour parcourir les subplot, il faut réduire axes à une dimension avec flatten\n",
    "    axes=axes.flatten()\n",
    "    \n",
    "    # espace vertical entre les rangées de sous graphiques\n",
    "    plt.tight_layout(pad=3)\n",
    "    \n",
    "    dfQuantitative\n",
    "    i=0\n",
    "    for x in dfQColumnsSorted:\n",
    "        #dfCurrent=dfNumerical[x].sample(1000,replace=True).sort_index() #optimisation pour les large datasets\n",
    "        dfCurrent=dfQuantitative[x].dropna(axis=0)\n",
    "        # passe les labels sur l'axe des x en arriere plan\n",
    "        axes[i].xaxis.label.set_visible(False)    \n",
    "        \n",
    "        axes[i].hist(dfCurrent,color='#3fa7d6')\n",
    "        axes[i].tick_params(axis='x', rotation=-90)\n",
    "        axes[i].set_title(x,color='#ee6352')\n",
    "    \n",
    "        i=i+1\n",
    "    plt.show()\n",
    "def plotCorrelationHeatmap(plt,df):\n",
    "    \"\"\"\n",
    "    Fonction affiche la heatmap des correlation d'un DataFrame\n",
    "\n",
    "    Parameters\n",
    "    ----------\n",
    "    plt: plot\n",
    "        un objet pyplot qui affiche les graphiques\n",
    "    df : DataFrame\n",
    "        un DataFrame de données\n",
    "    \n",
    "    Returns\n",
    "    -------\n",
    "    Pas de retours, c'est une procédure d'affichage\n",
    "\n",
    "    \"\"\"\n",
    "    dfCorr=df.corr()\n",
    "    plt.rcParams[\"figure.figsize\"] = (10,10)\n",
    "    plt.matshow(dfCorr,cmap='coolwarm',interpolation='nearest')\n",
    "    plt.xticks(range(len(dfCorr.columns)), dfCorr.columns, size='small',rotation='vertical');\n",
    "    plt.yticks(range(len(dfCorr.columns)), dfCorr.columns, size='small');\n",
    "    plt.show()\n",
    "    \n",
    "def plotBoxes(plt,df,nrows,ncols):\n",
    "    \"\"\"\n",
    "    Fonction affiche les boites à moustache des variables quantitatives d'un DataFrame\n",
    "\n",
    "    Parameters\n",
    "    ----------\n",
    "    plt: plot\n",
    "        un objet pyplot qui affiche les graphiques\n",
    "    df : DataFrame\n",
    "        un DataFrame de données\n",
    "    nrows: Int\n",
    "        nombre de lignes des sous-figures\n",
    "    ncols: Int\n",
    "        nombre de colonnes des sous-figures\n",
    "    \n",
    "    Returns\n",
    "    -------\n",
    "    Pas de retours, c'est une procédure d'affichage\n",
    "    \"\"\"\n",
    "    dfQuantitative=df.select_dtypes(exclude=['object','string', 'category'])\n",
    "\n",
    "    fig, axes = plt.subplots(nrows=nrows, ncols=ncols,figsize=(14,20))\n",
    "    \n",
    "    # espace vertical entre les rangées de sous graphiques\n",
    "    plt.tight_layout(pad=3)\n",
    "\n",
    "\n",
    "    # axes est un tableau à 2 dimensions: lignes, colonnes\n",
    "    # pour parcourir les subplot, il faut réduire axes à une dimension avec flatten\n",
    "    axes=axes.flatten()\n",
    "    \n",
    "    i=0\n",
    "    for x in dfQuantitative.columns:\n",
    "            axes[i].boxplot(dfQuantitative[x].dropna())\n",
    "            axes[i].set_title(x,color='#3fa7d6')\n",
    "            i+=1\n",
    "    plt.show()\n",
    "\n",
    "def tokenize(text):\n",
    "    tokens=re.findall(r'\\w{2,}', text)\n",
    "    return tokens\n",
    "# On remarque que la lemmatisation de base n'est pas tout à fait correcte: \n",
    "# Parce que \"are\" n'est pas converti en \"to be\" et \"hanging\" n'est pas converti en \"hang\" comme attendu. \n",
    "# Cela peut être corrigé si nous fournissons la balise \"part of speech\" correcte (balise POS) comme deuxième argument de lemmatize()\n",
    "def get_wordnet_pos(word):\n",
    "    \"\"\"Map POS tag to first character lemmatize() accepts\"\"\"\n",
    "    tag = nltk.pos_tag([word])[0][1][0].upper()\n",
    "    tag_dict = {\"J\": wordnet.ADJ,\n",
    "                \"N\": wordnet.NOUN,\n",
    "                \"V\": wordnet.VERB,\n",
    "                \"R\": wordnet.ADV}\n",
    "\n",
    "    return tag_dict.get(tag, wordnet.NOUN)\n",
    "\n",
    "def lemmatize(tokens):\n",
    "    lemmatizer = WordNetLemmatizer()\n",
    "    lemmas = [lemmatizer.lemmatize(token,get_wordnet_pos(token)) for token in tokens]\n",
    "    return lemmas"
   ]
  },
  {
   "cell_type": "markdown",
   "id": "c55a160a",
   "metadata": {
    "id": "c55a160a"
   },
   "source": [
    "# CHARGEMENT"
   ]
  },
  {
   "cell_type": "code",
   "execution_count": 7,
   "id": "bcdc35e8",
   "metadata": {
    "id": "bcdc35e8"
   },
   "outputs": [],
   "source": [
    "# Calculate the time elapsed in seconds\n",
    "start = time.time()"
   ]
  },
  {
   "cell_type": "code",
   "execution_count": 8,
   "id": "e5608c46",
   "metadata": {
    "colab": {
     "base_uri": "https://localhost:8080/"
    },
    "id": "e5608c46",
    "outputId": "efce8648-97dc-4bbd-fc23-a359f5b52708",
    "scrolled": true
   },
   "outputs": [
    {
     "name": "stdout",
     "output_type": "stream",
     "text": [
      "<class 'pandas.core.frame.DataFrame'>\n",
      "RangeIndex: 50000 entries, 0 to 49999\n",
      "Data columns (total 23 columns):\n",
      " #   Column                 Non-Null Count  Dtype  \n",
      "---  ------                 --------------  -----  \n",
      " 0   Id                     50000 non-null  int64  \n",
      " 1   PostTypeId             50000 non-null  int64  \n",
      " 2   AcceptedAnswerId       29765 non-null  float64\n",
      " 3   ParentId               0 non-null      float64\n",
      " 4   CreationDate           50000 non-null  object \n",
      " 5   DeletionDate           0 non-null      float64\n",
      " 6   Score                  50000 non-null  int64  \n",
      " 7   ViewCount              50000 non-null  int64  \n",
      " 8   Body                   50000 non-null  object \n",
      " 9   OwnerUserId            49047 non-null  float64\n",
      " 10  OwnerDisplayName       2786 non-null   object \n",
      " 11  LastEditorUserId       27684 non-null  float64\n",
      " 12  LastEditorDisplayName  1531 non-null   object \n",
      " 13  LastEditDate           28133 non-null  object \n",
      " 14  LastActivityDate       50000 non-null  object \n",
      " 15  Title                  50000 non-null  object \n",
      " 16  Tags                   50000 non-null  object \n",
      " 17  AnswerCount            50000 non-null  int64  \n",
      " 18  CommentCount           50000 non-null  int64  \n",
      " 19  FavoriteCount          15172 non-null  float64\n",
      " 20  ClosedDate             2267 non-null   object \n",
      " 21  CommunityOwnedDate     177 non-null    object \n",
      " 22  ContentLicense         50000 non-null  object \n",
      "dtypes: float64(6), int64(6), object(11)\n",
      "memory usage: 8.8+ MB\n",
      "CPU times: user 1.11 s, sys: 175 ms, total: 1.29 s\n",
      "Wall time: 1.3 s\n"
     ]
    }
   ],
   "source": [
    "%%time\n",
    "#df=pd.read_csv(\"drive/MyDrive/Colab Notebooks/Datasets/stackoverfllow_qa.csv\")\n",
    "df=pd.read_csv(\"../Dataset/stackoverfllow_qa.csv\")\n",
    "df.info()"
   ]
  },
  {
   "cell_type": "code",
   "execution_count": 9,
   "id": "9f7162d2",
   "metadata": {
    "colab": {
     "base_uri": "https://localhost:8080/",
     "height": 904
    },
    "id": "9f7162d2",
    "outputId": "35b00bf0-c57c-4b8b-b5c7-46d8bcf8c1fd"
   },
   "outputs": [
    {
     "data": {
      "text/html": [
       "<div>\n",
       "<style scoped>\n",
       "    .dataframe tbody tr th:only-of-type {\n",
       "        vertical-align: middle;\n",
       "    }\n",
       "\n",
       "    .dataframe tbody tr th {\n",
       "        vertical-align: top;\n",
       "    }\n",
       "\n",
       "    .dataframe thead th {\n",
       "        text-align: right;\n",
       "    }\n",
       "</style>\n",
       "<table border=\"1\" class=\"dataframe\">\n",
       "  <thead>\n",
       "    <tr style=\"text-align: right;\">\n",
       "      <th></th>\n",
       "      <th>Id</th>\n",
       "      <th>PostTypeId</th>\n",
       "      <th>AcceptedAnswerId</th>\n",
       "      <th>ParentId</th>\n",
       "      <th>CreationDate</th>\n",
       "      <th>DeletionDate</th>\n",
       "      <th>Score</th>\n",
       "      <th>ViewCount</th>\n",
       "      <th>Body</th>\n",
       "      <th>OwnerUserId</th>\n",
       "      <th>OwnerDisplayName</th>\n",
       "      <th>LastEditorUserId</th>\n",
       "      <th>LastEditorDisplayName</th>\n",
       "      <th>LastEditDate</th>\n",
       "      <th>LastActivityDate</th>\n",
       "      <th>Title</th>\n",
       "      <th>Tags</th>\n",
       "      <th>AnswerCount</th>\n",
       "      <th>CommentCount</th>\n",
       "      <th>FavoriteCount</th>\n",
       "      <th>ClosedDate</th>\n",
       "      <th>CommunityOwnedDate</th>\n",
       "      <th>ContentLicense</th>\n",
       "    </tr>\n",
       "  </thead>\n",
       "  <tbody>\n",
       "    <tr>\n",
       "      <th>11116</th>\n",
       "      <td>52130806</td>\n",
       "      <td>1</td>\n",
       "      <td>NaN</td>\n",
       "      <td>NaN</td>\n",
       "      <td>2018-09-01 17:58:55</td>\n",
       "      <td>NaN</td>\n",
       "      <td>-3</td>\n",
       "      <td>71</td>\n",
       "      <td>&lt;p&gt;I want to create dynamic number of columns based on some condition given in R:&lt;/p&gt;\\n\\n&lt;p&gt;Say,I've a dataframe cal...</td>\n",
       "      <td>9999850.0</td>\n",
       "      <td>NaN</td>\n",
       "      <td>6326565.0</td>\n",
       "      <td>NaN</td>\n",
       "      <td>2018-09-02 14:44:07</td>\n",
       "      <td>2018-09-02 14:44:07</td>\n",
       "      <td>How to create specific number of columns dynamically based on a condition given a column in R</td>\n",
       "      <td>&lt;r&gt;&lt;dataframe&gt;</td>\n",
       "      <td>1</td>\n",
       "      <td>1</td>\n",
       "      <td>NaN</td>\n",
       "      <td>NaN</td>\n",
       "      <td>NaN</td>\n",
       "      <td>CC BY-SA 4.0</td>\n",
       "    </tr>\n",
       "    <tr>\n",
       "      <th>44054</th>\n",
       "      <td>62820834</td>\n",
       "      <td>1</td>\n",
       "      <td>63740881.0</td>\n",
       "      <td>NaN</td>\n",
       "      <td>2020-07-09 17:53:08</td>\n",
       "      <td>NaN</td>\n",
       "      <td>2</td>\n",
       "      <td>1968</td>\n",
       "      <td>&lt;p&gt;I am running into below error during terraform apply.&lt;/p&gt;\\n&lt;pre&gt;&lt;code&gt;Error: timeout while waiting for plugin to ...</td>\n",
       "      <td>12368716.0</td>\n",
       "      <td>NaN</td>\n",
       "      <td>1839482.0</td>\n",
       "      <td>NaN</td>\n",
       "      <td>2020-07-09 18:36:40</td>\n",
       "      <td>2020-09-04 12:05:46</td>\n",
       "      <td>Terraform apply throwing Error \"timeout while waiting for plugin to start\"</td>\n",
       "      <td>&lt;kubernetes&gt;&lt;terraform&gt;&lt;terraform-provider-aws&gt;&lt;iaas&gt;&lt;terraform0.12+&gt;</td>\n",
       "      <td>1</td>\n",
       "      <td>3</td>\n",
       "      <td>NaN</td>\n",
       "      <td>NaN</td>\n",
       "      <td>NaN</td>\n",
       "      <td>CC BY-SA 4.0</td>\n",
       "    </tr>\n",
       "    <tr>\n",
       "      <th>34879</th>\n",
       "      <td>3403629</td>\n",
       "      <td>1</td>\n",
       "      <td>3403744.0</td>\n",
       "      <td>NaN</td>\n",
       "      <td>2010-08-04 07:58:08</td>\n",
       "      <td>NaN</td>\n",
       "      <td>3</td>\n",
       "      <td>912</td>\n",
       "      <td>&lt;p&gt;I am generating an automatically generated periodical report with Sweave. In order to create a nice header I use ...</td>\n",
       "      <td>366256.0</td>\n",
       "      <td>NaN</td>\n",
       "      <td>3885376.0</td>\n",
       "      <td>NaN</td>\n",
       "      <td>2017-10-29 19:56:59</td>\n",
       "      <td>2017-10-29 19:56:59</td>\n",
       "      <td>How to use Sweave (R) code inside a fancyhdr?</td>\n",
       "      <td>&lt;r&gt;&lt;latex&gt;&lt;sweave&gt;</td>\n",
       "      <td>2</td>\n",
       "      <td>0</td>\n",
       "      <td>NaN</td>\n",
       "      <td>NaN</td>\n",
       "      <td>NaN</td>\n",
       "      <td>CC BY-SA 3.0</td>\n",
       "    </tr>\n",
       "    <tr>\n",
       "      <th>43463</th>\n",
       "      <td>54154888</td>\n",
       "      <td>1</td>\n",
       "      <td>54155223.0</td>\n",
       "      <td>NaN</td>\n",
       "      <td>2019-01-11 22:28:49</td>\n",
       "      <td>NaN</td>\n",
       "      <td>-2</td>\n",
       "      <td>42</td>\n",
       "      <td>&lt;p&gt;Whenever I run this I got something like ' 196875307' as the total, could \\nsomeone tell me whats wrong with it.H...</td>\n",
       "      <td>10850719.0</td>\n",
       "      <td>NaN</td>\n",
       "      <td>10850719.0</td>\n",
       "      <td>NaN</td>\n",
       "      <td>2019-01-11 22:47:18</td>\n",
       "      <td>2019-01-11 23:09:30</td>\n",
       "      <td>Can someone explain me whats wrong with finding total part in this code</td>\n",
       "      <td>&lt;c&gt;</td>\n",
       "      <td>2</td>\n",
       "      <td>1</td>\n",
       "      <td>NaN</td>\n",
       "      <td>NaN</td>\n",
       "      <td>NaN</td>\n",
       "      <td>CC BY-SA 4.0</td>\n",
       "    </tr>\n",
       "    <tr>\n",
       "      <th>27023</th>\n",
       "      <td>3385820</td>\n",
       "      <td>1</td>\n",
       "      <td>3385844.0</td>\n",
       "      <td>NaN</td>\n",
       "      <td>2010-08-02 07:31:12</td>\n",
       "      <td>NaN</td>\n",
       "      <td>0</td>\n",
       "      <td>15188</td>\n",
       "      <td>&lt;p&gt;HI,&lt;/p&gt;\\n\\n&lt;p&gt;I'm having a JSON parsed return object set.&lt;/p&gt;\\n\\n&lt;pre&gt;&lt;code&gt;{\\n  \"word\":[\\n      \"offered\",\\n    ...</td>\n",
       "      <td>403255.0</td>\n",
       "      <td>NaN</td>\n",
       "      <td>21234.0</td>\n",
       "      <td>NaN</td>\n",
       "      <td>2010-08-02 07:31:47</td>\n",
       "      <td>2012-08-03 08:43:30</td>\n",
       "      <td>JSON - Find the length of objects</td>\n",
       "      <td>&lt;javascript&gt;&lt;json&gt;</td>\n",
       "      <td>2</td>\n",
       "      <td>0</td>\n",
       "      <td>2.0</td>\n",
       "      <td>NaN</td>\n",
       "      <td>NaN</td>\n",
       "      <td>CC BY-SA 2.5</td>\n",
       "    </tr>\n",
       "  </tbody>\n",
       "</table>\n",
       "</div>"
      ],
      "text/plain": [
       "             Id  PostTypeId  AcceptedAnswerId  ParentId         CreationDate  \\\n",
       "11116  52130806           1               NaN       NaN  2018-09-01 17:58:55   \n",
       "44054  62820834           1        63740881.0       NaN  2020-07-09 17:53:08   \n",
       "34879   3403629           1         3403744.0       NaN  2010-08-04 07:58:08   \n",
       "43463  54154888           1        54155223.0       NaN  2019-01-11 22:28:49   \n",
       "27023   3385820           1         3385844.0       NaN  2010-08-02 07:31:12   \n",
       "\n",
       "       DeletionDate  Score  ViewCount  \\\n",
       "11116           NaN     -3         71   \n",
       "44054           NaN      2       1968   \n",
       "34879           NaN      3        912   \n",
       "43463           NaN     -2         42   \n",
       "27023           NaN      0      15188   \n",
       "\n",
       "                                                                                                                          Body  \\\n",
       "11116  <p>I want to create dynamic number of columns based on some condition given in R:</p>\\n\\n<p>Say,I've a dataframe cal...   \n",
       "44054  <p>I am running into below error during terraform apply.</p>\\n<pre><code>Error: timeout while waiting for plugin to ...   \n",
       "34879  <p>I am generating an automatically generated periodical report with Sweave. In order to create a nice header I use ...   \n",
       "43463  <p>Whenever I run this I got something like ' 196875307' as the total, could \\nsomeone tell me whats wrong with it.H...   \n",
       "27023  <p>HI,</p>\\n\\n<p>I'm having a JSON parsed return object set.</p>\\n\\n<pre><code>{\\n  \"word\":[\\n      \"offered\",\\n    ...   \n",
       "\n",
       "       OwnerUserId OwnerDisplayName  LastEditorUserId LastEditorDisplayName  \\\n",
       "11116    9999850.0              NaN         6326565.0                   NaN   \n",
       "44054   12368716.0              NaN         1839482.0                   NaN   \n",
       "34879     366256.0              NaN         3885376.0                   NaN   \n",
       "43463   10850719.0              NaN        10850719.0                   NaN   \n",
       "27023     403255.0              NaN           21234.0                   NaN   \n",
       "\n",
       "              LastEditDate     LastActivityDate  \\\n",
       "11116  2018-09-02 14:44:07  2018-09-02 14:44:07   \n",
       "44054  2020-07-09 18:36:40  2020-09-04 12:05:46   \n",
       "34879  2017-10-29 19:56:59  2017-10-29 19:56:59   \n",
       "43463  2019-01-11 22:47:18  2019-01-11 23:09:30   \n",
       "27023  2010-08-02 07:31:47  2012-08-03 08:43:30   \n",
       "\n",
       "                                                                                               Title  \\\n",
       "11116  How to create specific number of columns dynamically based on a condition given a column in R   \n",
       "44054                     Terraform apply throwing Error \"timeout while waiting for plugin to start\"   \n",
       "34879                                                  How to use Sweave (R) code inside a fancyhdr?   \n",
       "43463                        Can someone explain me whats wrong with finding total part in this code   \n",
       "27023                                                              JSON - Find the length of objects   \n",
       "\n",
       "                                                                        Tags  \\\n",
       "11116                                                         <r><dataframe>   \n",
       "44054  <kubernetes><terraform><terraform-provider-aws><iaas><terraform0.12+>   \n",
       "34879                                                     <r><latex><sweave>   \n",
       "43463                                                                    <c>   \n",
       "27023                                                     <javascript><json>   \n",
       "\n",
       "       AnswerCount  CommentCount  FavoriteCount ClosedDate CommunityOwnedDate  \\\n",
       "11116            1             1            NaN        NaN                NaN   \n",
       "44054            1             3            NaN        NaN                NaN   \n",
       "34879            2             0            NaN        NaN                NaN   \n",
       "43463            2             1            NaN        NaN                NaN   \n",
       "27023            2             0            2.0        NaN                NaN   \n",
       "\n",
       "      ContentLicense  \n",
       "11116   CC BY-SA 4.0  \n",
       "44054   CC BY-SA 4.0  \n",
       "34879   CC BY-SA 3.0  \n",
       "43463   CC BY-SA 4.0  \n",
       "27023   CC BY-SA 2.5  "
      ]
     },
     "execution_count": 9,
     "metadata": {},
     "output_type": "execute_result"
    }
   ],
   "source": [
    "pd.set_option(\"display.max_columns\",23)\n",
    "df.sample(5)"
   ]
  },
  {
   "cell_type": "markdown",
   "id": "523f842e",
   "metadata": {
    "id": "523f842e"
   },
   "source": [
    "# CARACTERISTIQUES"
   ]
  },
  {
   "cell_type": "code",
   "execution_count": 10,
   "id": "03845e71",
   "metadata": {
    "colab": {
     "base_uri": "https://localhost:8080/",
     "height": 813
    },
    "id": "03845e71",
    "outputId": "d2e13a05-1afa-4fab-e9e5-fe96a4970a77"
   },
   "outputs": [
    {
     "data": {
      "text/html": [
       "<div>\n",
       "<style scoped>\n",
       "    .dataframe tbody tr th:only-of-type {\n",
       "        vertical-align: middle;\n",
       "    }\n",
       "\n",
       "    .dataframe tbody tr th {\n",
       "        vertical-align: top;\n",
       "    }\n",
       "\n",
       "    .dataframe thead th {\n",
       "        text-align: right;\n",
       "    }\n",
       "</style>\n",
       "<table border=\"1\" class=\"dataframe\">\n",
       "  <thead>\n",
       "    <tr style=\"text-align: right;\">\n",
       "      <th></th>\n",
       "      <th>missing_values</th>\n",
       "      <th>%_missing_values</th>\n",
       "    </tr>\n",
       "  </thead>\n",
       "  <tbody>\n",
       "    <tr>\n",
       "      <th>Id</th>\n",
       "      <td>0</td>\n",
       "      <td>0.000</td>\n",
       "    </tr>\n",
       "    <tr>\n",
       "      <th>PostTypeId</th>\n",
       "      <td>0</td>\n",
       "      <td>0.000</td>\n",
       "    </tr>\n",
       "    <tr>\n",
       "      <th>AcceptedAnswerId</th>\n",
       "      <td>20235</td>\n",
       "      <td>40.470</td>\n",
       "    </tr>\n",
       "    <tr>\n",
       "      <th>ParentId</th>\n",
       "      <td>50000</td>\n",
       "      <td>100.000</td>\n",
       "    </tr>\n",
       "    <tr>\n",
       "      <th>CreationDate</th>\n",
       "      <td>0</td>\n",
       "      <td>0.000</td>\n",
       "    </tr>\n",
       "    <tr>\n",
       "      <th>DeletionDate</th>\n",
       "      <td>50000</td>\n",
       "      <td>100.000</td>\n",
       "    </tr>\n",
       "    <tr>\n",
       "      <th>Score</th>\n",
       "      <td>0</td>\n",
       "      <td>0.000</td>\n",
       "    </tr>\n",
       "    <tr>\n",
       "      <th>ViewCount</th>\n",
       "      <td>0</td>\n",
       "      <td>0.000</td>\n",
       "    </tr>\n",
       "    <tr>\n",
       "      <th>Body</th>\n",
       "      <td>0</td>\n",
       "      <td>0.000</td>\n",
       "    </tr>\n",
       "    <tr>\n",
       "      <th>OwnerUserId</th>\n",
       "      <td>953</td>\n",
       "      <td>1.906</td>\n",
       "    </tr>\n",
       "    <tr>\n",
       "      <th>OwnerDisplayName</th>\n",
       "      <td>47214</td>\n",
       "      <td>94.428</td>\n",
       "    </tr>\n",
       "    <tr>\n",
       "      <th>LastEditorUserId</th>\n",
       "      <td>22316</td>\n",
       "      <td>44.632</td>\n",
       "    </tr>\n",
       "    <tr>\n",
       "      <th>LastEditorDisplayName</th>\n",
       "      <td>48469</td>\n",
       "      <td>96.938</td>\n",
       "    </tr>\n",
       "    <tr>\n",
       "      <th>LastEditDate</th>\n",
       "      <td>21867</td>\n",
       "      <td>43.734</td>\n",
       "    </tr>\n",
       "    <tr>\n",
       "      <th>LastActivityDate</th>\n",
       "      <td>0</td>\n",
       "      <td>0.000</td>\n",
       "    </tr>\n",
       "    <tr>\n",
       "      <th>Title</th>\n",
       "      <td>0</td>\n",
       "      <td>0.000</td>\n",
       "    </tr>\n",
       "    <tr>\n",
       "      <th>Tags</th>\n",
       "      <td>0</td>\n",
       "      <td>0.000</td>\n",
       "    </tr>\n",
       "    <tr>\n",
       "      <th>AnswerCount</th>\n",
       "      <td>0</td>\n",
       "      <td>0.000</td>\n",
       "    </tr>\n",
       "    <tr>\n",
       "      <th>CommentCount</th>\n",
       "      <td>0</td>\n",
       "      <td>0.000</td>\n",
       "    </tr>\n",
       "    <tr>\n",
       "      <th>FavoriteCount</th>\n",
       "      <td>34828</td>\n",
       "      <td>69.656</td>\n",
       "    </tr>\n",
       "    <tr>\n",
       "      <th>ClosedDate</th>\n",
       "      <td>47733</td>\n",
       "      <td>95.466</td>\n",
       "    </tr>\n",
       "    <tr>\n",
       "      <th>CommunityOwnedDate</th>\n",
       "      <td>49823</td>\n",
       "      <td>99.646</td>\n",
       "    </tr>\n",
       "    <tr>\n",
       "      <th>ContentLicense</th>\n",
       "      <td>0</td>\n",
       "      <td>0.000</td>\n",
       "    </tr>\n",
       "  </tbody>\n",
       "</table>\n",
       "</div>"
      ],
      "text/plain": [
       "                       missing_values  %_missing_values\n",
       "Id                                  0             0.000\n",
       "PostTypeId                          0             0.000\n",
       "AcceptedAnswerId                20235            40.470\n",
       "ParentId                        50000           100.000\n",
       "CreationDate                        0             0.000\n",
       "DeletionDate                    50000           100.000\n",
       "Score                               0             0.000\n",
       "ViewCount                           0             0.000\n",
       "Body                                0             0.000\n",
       "OwnerUserId                       953             1.906\n",
       "OwnerDisplayName                47214            94.428\n",
       "LastEditorUserId                22316            44.632\n",
       "LastEditorDisplayName           48469            96.938\n",
       "LastEditDate                    21867            43.734\n",
       "LastActivityDate                    0             0.000\n",
       "Title                               0             0.000\n",
       "Tags                                0             0.000\n",
       "AnswerCount                         0             0.000\n",
       "CommentCount                        0             0.000\n",
       "FavoriteCount                   34828            69.656\n",
       "ClosedDate                      47733            95.466\n",
       "CommunityOwnedDate              49823            99.646\n",
       "ContentLicense                      0             0.000"
      ]
     },
     "execution_count": 10,
     "metadata": {},
     "output_type": "execute_result"
    }
   ],
   "source": [
    "dfProfil=profil(df)\n",
    "dfProfil[[\"missing_values\",\"%_missing_values\"]]"
   ]
  },
  {
   "cell_type": "code",
   "execution_count": 61,
   "id": "4182ff3b",
   "metadata": {
    "colab": {
     "base_uri": "https://localhost:8080/",
     "height": 700
    },
    "id": "4182ff3b",
    "outputId": "a2ac4fe8-8b76-4a0e-e522-14a6a47b5886"
   },
   "outputs": [
    {
     "data": {
      "image/png": "[encoded data removed]",
      "text/plain": [
       "<Figure size 720x720 with 16 Axes>"
      ]
     },
     "metadata": {},
     "output_type": "display_data"
    }
   ],
   "source": [
    "plotCategoricalDistributions(plt,df,4,4,10,10)"
   ]
  },
  {
   "cell_type": "code",
   "execution_count": 62,
   "id": "b6c9f831",
   "metadata": {
    "colab": {
     "base_uri": "https://localhost:8080/",
     "height": 721
    },
    "id": "b6c9f831",
    "outputId": "5539d8ac-f507-4b6b-9f38-3c39a180c09f"
   },
   "outputs": [
    {
     "data": {
      "image/png": "[encoded data removed]",
      "text/plain": [
       "<Figure size 720x720 with 12 Axes>"
      ]
     },
     "metadata": {},
     "output_type": "display_data"
    }
   ],
   "source": [
    "plotQuantitativeDistributions(plt,df,3,4,10,10)"
   ]
  },
  {
   "cell_type": "code",
   "execution_count": 63,
   "id": "bfb33d92",
   "metadata": {
    "colab": {
     "base_uri": "https://localhost:8080/",
     "height": 1000
    },
    "id": "bfb33d92",
    "outputId": "8e606758-7b05-463d-96bf-10433e7fc055",
    "scrolled": true
   },
   "outputs": [
    {
     "data": {
      "image/png": "[encoded data removed]",
      "text/plain": [
       "<Figure size 1008x1440 with 12 Axes>"
      ]
     },
     "metadata": {},
     "output_type": "display_data"
    }
   ],
   "source": [
    "plotBoxes(plt,df,3,4)"
   ]
  },
  {
   "cell_type": "code",
   "execution_count": 64,
   "id": "81daf84e",
   "metadata": {
    "colab": {
     "base_uri": "https://localhost:8080/",
     "height": 697
    },
    "id": "81daf84e",
    "outputId": "5ca5a392-e5c6-40e2-f347-399f3f0dcb57"
   },
   "outputs": [
    {
     "data": {
      "image/png": "[encoded data removed]",
      "text/plain": [
       "<Figure size 720x720 with 1 Axes>"
      ]
     },
     "metadata": {},
     "output_type": "display_data"
    }
   ],
   "source": [
    "plotCorrelationHeatmap(plt,df)"
   ]
  },
  {
   "cell_type": "markdown",
   "id": "6d31efa1",
   "metadata": {
    "id": "6d31efa1"
   },
   "source": [
    "Pour catégoriser les questions, nous utiliserons les colonnes title, body et tag car ces colonnes contiennent du texte et n'ont pas de valeurs manquantes.  \n",
    "Les colonnes OwnerDisplayName et LastEditorDisplayName auraient pu être intéressantes mais elles ont toutes les deux plus de 94% de valeurs manquantes.  \n",
    "Nous ne les garderons donc pas."
   ]
  },
  {
   "cell_type": "markdown",
   "id": "2ef996e8",
   "metadata": {
    "id": "2ef996e8"
   },
   "source": [
    "# NETTOYAGE"
   ]
  },
  {
   "cell_type": "code",
   "execution_count": 65,
   "id": "974d7653",
   "metadata": {
    "colab": {
     "base_uri": "https://localhost:8080/",
     "height": 752
    },
    "id": "974d7653",
    "outputId": "1ecb0d0e-e492-4ba9-a4e0-8689d975cf84"
   },
   "outputs": [
    {
     "data": {
      "text/html": [
       "<div>\n",
       "<style scoped>\n",
       "    .dataframe tbody tr th:only-of-type {\n",
       "        vertical-align: middle;\n",
       "    }\n",
       "\n",
       "    .dataframe tbody tr th {\n",
       "        vertical-align: top;\n",
       "    }\n",
       "\n",
       "    .dataframe thead th {\n",
       "        text-align: right;\n",
       "    }\n",
       "</style>\n",
       "<table border=\"1\" class=\"dataframe\">\n",
       "  <thead>\n",
       "    <tr style=\"text-align: right;\">\n",
       "      <th></th>\n",
       "      <th>Title</th>\n",
       "      <th>Body</th>\n",
       "      <th>Tags</th>\n",
       "    </tr>\n",
       "  </thead>\n",
       "  <tbody>\n",
       "    <tr>\n",
       "      <th>0</th>\n",
       "      <td>comprehensive image processing example using cocoa api</td>\n",
       "      <td>&lt;p&gt;can someone point out a comprehensive example on image processing using cocoa api? i am developing an application...</td>\n",
       "      <td>&lt;cocoa&gt;&lt;image-processing&gt;</td>\n",
       "    </tr>\n",
       "    <tr>\n",
       "      <th>1</th>\n",
       "      <td>testing gps in iphone simulator problem</td>\n",
       "      <td>&lt;p&gt;i found some various articles about testing the gps (corelocation) in the iphone simulator. \\nit seems pretty str...</td>\n",
       "      <td>&lt;iphone&gt;&lt;gps&gt;&lt;core-location&gt;</td>\n",
       "    </tr>\n",
       "    <tr>\n",
       "      <th>2</th>\n",
       "      <td>create pdf inapp ios</td>\n",
       "      <td>&lt;blockquote&gt;\\n  &lt;p&gt;&lt;strong&gt;possible duplicate:&lt;/strong&gt;&lt;br&gt;\\n  &lt;a href=\"https://stackoverflow.com/questions/1360912/...</td>\n",
       "      <td>&lt;ios&gt;&lt;pdf&gt;&lt;pdf-generation&gt;</td>\n",
       "    </tr>\n",
       "    <tr>\n",
       "      <th>3</th>\n",
       "      <td>flex 4 stopping an embbeded swf</td>\n",
       "      <td>&lt;p&gt;i have this flex 4.1 script:&lt;/p&gt;\\n\\n&lt;pre&gt;&lt;code&gt;&amp;lt;fx:script&amp;gt;\\n    &amp;lt;![cdata[\\n        [embed(source=\"res/sw...</td>\n",
       "      <td>&lt;apache-flex&gt;&lt;actionscript-3&gt;</td>\n",
       "    </tr>\n",
       "    <tr>\n",
       "      <th>4</th>\n",
       "      <td>html form - firing the form submit using the enter key does not work when focus is on a select list</td>\n",
       "      <td>&lt;p&gt;i'm stuck on the above problem. i have a simple form as follows, with a text input, a select list and a submit bu...</td>\n",
       "      <td>&lt;html&gt;&lt;forms&gt;&lt;submit&gt;</td>\n",
       "    </tr>\n",
       "  </tbody>\n",
       "</table>\n",
       "</div>"
      ],
      "text/plain": [
       "                                                                                                 Title  \\\n",
       "0                                               comprehensive image processing example using cocoa api   \n",
       "1                                                              testing gps in iphone simulator problem   \n",
       "2                                                                                 create pdf inapp ios   \n",
       "3                                                                      flex 4 stopping an embbeded swf   \n",
       "4  html form - firing the form submit using the enter key does not work when focus is on a select list   \n",
       "\n",
       "                                                                                                                      Body  \\\n",
       "0  <p>can someone point out a comprehensive example on image processing using cocoa api? i am developing an application...   \n",
       "1  <p>i found some various articles about testing the gps (corelocation) in the iphone simulator. \\nit seems pretty str...   \n",
       "2  <blockquote>\\n  <p><strong>possible duplicate:</strong><br>\\n  <a href=\"https://stackoverflow.com/questions/1360912/...   \n",
       "3  <p>i have this flex 4.1 script:</p>\\n\\n<pre><code>&lt;fx:script&gt;\\n    &lt;![cdata[\\n        [embed(source=\"res/sw...   \n",
       "4  <p>i'm stuck on the above problem. i have a simple form as follows, with a text input, a select list and a submit bu...   \n",
       "\n",
       "                            Tags  \n",
       "0      <cocoa><image-processing>  \n",
       "1   <iphone><gps><core-location>  \n",
       "2     <ios><pdf><pdf-generation>  \n",
       "3  <apache-flex><actionscript-3>  \n",
       "4          <html><forms><submit>  "
      ]
     },
     "execution_count": 65,
     "metadata": {},
     "output_type": "execute_result"
    }
   ],
   "source": [
    "# on ne garde que les colonnes contenant du texte\n",
    "dfCleaned=df[['Title','Body','Tags']]\n",
    "\n",
    "# uniformisation du dataframe en minuscule\n",
    "dfCleaned=dfCleaned.astype(str).apply(lambda x: x.str.lower())\n",
    "# aperçu des données\n",
    "dfCleaned.head(5)"
   ]
  },
  {
   "cell_type": "code",
   "execution_count": 66,
   "id": "5bc05ce6",
   "metadata": {
    "id": "5bc05ce6"
   },
   "outputs": [],
   "source": [
    "# Titre: suppression des caracteres speciaux et ponctuations\n",
    "dfCleaned['CleanedTitle']=dfCleaned['Title'].replace('[\"!\\\"#$%&\\(\\)\\*\\+-\\.\\/:;<=>\\?\\@\\\\^_`\\{\\|\\}~\\n\"]',' ',regex=True).astype(str)\n",
    "\n",
    "# Corps: suppression des balises html, \\n,;,//,date ou chiffres,chaine contenant le caractere _, ponctuations  dans le Body\n",
    "dfCleaned['CleanedBody']=dfCleaned['Body'].replace('(<\\/?[a-z]+>|&lt;|&gt;|//|[\"!\\\"#$%&\\(\\)\\*\\+-\\.\\/:;<=>\\?\\@\\\\^_\\'`\\{\\|\\}~\\n\"]|\\d+.\\d+|\\S+_\\S+|\\*+|[0-9]+[a-z]+|[\\d+]|[abcd]{2,}[a-z]*)', ' ',regex=True).astype(str)\n",
    "#suppression des blancs superflus\n",
    "dfCleaned['CleanedBody']=dfCleaned['CleanedBody'].str.strip()\n",
    "\n",
    "# suppression des <,>  dans les Tags\n",
    "dfCleaned['Tags']=dfCleaned['Tags'].replace('[<>]', ' ',regex=True).astype(str)"
   ]
  },
  {
   "cell_type": "markdown",
   "id": "1e834cc0",
   "metadata": {
    "id": "1e834cc0"
   },
   "source": [
    "## Nettoyage des stopwords"
   ]
  },
  {
   "cell_type": "code",
   "execution_count": 67,
   "id": "8514079b",
   "metadata": {
    "colab": {
     "base_uri": "https://localhost:8080/"
    },
    "id": "8514079b",
    "outputId": "645f56a1-b11d-4f9a-8779-56ee1d4ae9a8",
    "scrolled": true
   },
   "outputs": [
    {
     "name": "stdout",
     "output_type": "stream",
     "text": [
      "CPU times: user 3.42 s, sys: 16.9 ms, total: 3.44 s\n",
      "Wall time: 3.44 s\n"
     ]
    }
   ],
   "source": [
    "%%time\n",
    "#  suppression des stopwords dans le body, alimente la colonne FilteredBody\n",
    "stop_words = set(stopwords.words('english'))\n",
    "\n",
    "filteredBody=[]\n",
    "for i in range(len(dfCleaned['CleanedBody'])):\n",
    "    filteredBody.append(' '.join([word for word in re.split(r\"\\W+\", dfCleaned['CleanedBody'][i]) if word not in stop_words]))\n",
    "dfCleaned['FilteredBody']=filteredBody\n",
    "\n",
    "filteredTitle=[]\n",
    "for i in range(len(dfCleaned['CleanedTitle'])):\n",
    "    filteredTitle.append(' '.join([word for word in re.split(r\"\\W+\", dfCleaned['CleanedTitle'][i]) if word not in stop_words]))\n",
    "dfCleaned['FilteredTitle']=filteredTitle"
   ]
  },
  {
   "cell_type": "code",
   "execution_count": 68,
   "id": "d9ceef88",
   "metadata": {
    "id": "d9ceef88"
   },
   "outputs": [],
   "source": [
    "del dfCleaned['CleanedBody']\n",
    "del dfCleaned['CleanedTitle']"
   ]
  },
  {
   "cell_type": "code",
   "execution_count": 69,
   "id": "8dbc18a2",
   "metadata": {
    "colab": {
     "base_uri": "https://localhost:8080/",
     "height": 580
    },
    "id": "8dbc18a2",
    "outputId": "6cc076ea-c4f1-4f1b-a42a-03ac99f0383c",
    "scrolled": true
   },
   "outputs": [
    {
     "data": {
      "text/html": [
       "<div>\n",
       "<style scoped>\n",
       "    .dataframe tbody tr th:only-of-type {\n",
       "        vertical-align: middle;\n",
       "    }\n",
       "\n",
       "    .dataframe tbody tr th {\n",
       "        vertical-align: top;\n",
       "    }\n",
       "\n",
       "    .dataframe thead th {\n",
       "        text-align: right;\n",
       "    }\n",
       "</style>\n",
       "<table border=\"1\" class=\"dataframe\">\n",
       "  <thead>\n",
       "    <tr style=\"text-align: right;\">\n",
       "      <th></th>\n",
       "      <th>Title</th>\n",
       "      <th>Body</th>\n",
       "      <th>Tags</th>\n",
       "      <th>FilteredBody</th>\n",
       "      <th>FilteredTitle</th>\n",
       "    </tr>\n",
       "  </thead>\n",
       "  <tbody>\n",
       "    <tr>\n",
       "      <th>526</th>\n",
       "      <td>entity class from database....error invalid resource _pm</td>\n",
       "      <td>&lt;p&gt;i have created a database and table in mysql through phpmyadmin. i am trying to connect this to my project using ...</td>\n",
       "      <td>mysql  jdbc  netbeans  entity</td>\n",
       "      <td>created mysql phpmy trying connect project using entity class however get following error run project com sun appser...</td>\n",
       "      <td>entity class database error invalid resource pm</td>\n",
       "    </tr>\n",
       "    <tr>\n",
       "      <th>48647</th>\n",
       "      <td>formatting using decimalformat throws exception - \"cannot format given object as a number\"</td>\n",
       "      <td>&lt;p&gt;this might look like a repeated question but i tried in all the below links and can't get a proper answer.&lt;/p&gt;\\n\\...</td>\n",
       "      <td>java  exception  overloading  illegalargumentexception  decimalformat</td>\n",
       "      <td>might look like repeated question tried links get proper answer href https st com questions format given object numb...</td>\n",
       "      <td>formatting using decimalformat throws exception cannot format given object number</td>\n",
       "    </tr>\n",
       "    <tr>\n",
       "      <th>32283</th>\n",
       "      <td>jsf links not working on facelets</td>\n",
       "      <td>&lt;p&gt;i have created a jsf 2 page which uses facelets to define the structure of the page.&lt;/p&gt;\\n\\n&lt;pre&gt;&lt;code&gt;&amp;lt;div cl...</td>\n",
       "      <td>jsf  jakarta-ee  jsf-2  facelets</td>\n",
       "      <td>created jsf page uses f define structure page div class page div class content ui insert name content ui insert div ...</td>\n",
       "      <td>jsf links working facelets</td>\n",
       "    </tr>\n",
       "    <tr>\n",
       "      <th>8080</th>\n",
       "      <td>angularjs - ng-disabled doesn't work as expected</td>\n",
       "      <td>&lt;p&gt;i am trying to disable file &lt;code&gt;input&lt;/code&gt; tag, after user selected a file.&lt;/p&gt;\\n\\n&lt;p&gt;html:&lt;/p&gt;\\n\\n&lt;pre&gt;&lt;code...</td>\n",
       "      <td>javascript  html  angularjs</td>\n",
       "      <td>trying dis file input tag user selected file html div ng controller firstcontroller div ng controller secon input ty...</td>\n",
       "      <td>angularjs ng disabled work expected</td>\n",
       "    </tr>\n",
       "    <tr>\n",
       "      <th>12463</th>\n",
       "      <td>split string delimited by comma without respect to commas in brackets</td>\n",
       "      <td>&lt;p&gt;i've got a string like&lt;/p&gt;\\n\\n&lt;pre&gt;&lt;code&gt;s=\"abc, 3rncd (23uh, sdfuh), 32h(q23q)89 (as), dwe8h, edt (1,wer,345,rtz...</td>\n",
       "      <td>java  regex  string  split</td>\n",
       "      <td>got string like sdfuh q dwe edt wer rtz tr nope want split string string parts sdfuh q dwe edt wer rtz tr nope simpl...</td>\n",
       "      <td>split string delimited comma without respect commas brackets</td>\n",
       "    </tr>\n",
       "    <tr>\n",
       "      <th>43886</th>\n",
       "      <td>nant merge task not executing</td>\n",
       "      <td>&lt;p&gt;i have a nant merge task aimed at a nunit test output.xml  i have installed the relevant xsl transform files and ...</td>\n",
       "      <td>.net  cruisecontrol.net  nant</td>\n",
       "      <td>nant merge task aimed nunit test output xml installed relevant xsl transform files menu option show see nunit detail...</td>\n",
       "      <td>nant merge task executing</td>\n",
       "    </tr>\n",
       "    <tr>\n",
       "      <th>40164</th>\n",
       "      <td>delphi rtti get property - why does this results in av?</td>\n",
       "      <td>&lt;p&gt;i am trying to write a spec utility library.&lt;/p&gt;\\n\\n&lt;p&gt;one of the specification is a texpressionspecification. ba...</td>\n",
       "      <td>delphi  generics  rtti</td>\n",
       "      <td>trying write spec utility library one specifi texpressionspecifi implements specifi pattern evaluating inner texpres...</td>\n",
       "      <td>delphi rtti get property results av</td>\n",
       "    </tr>\n",
       "    <tr>\n",
       "      <th>10440</th>\n",
       "      <td>arduino - about data types</td>\n",
       "      <td>&lt;p&gt;i am writing a delay function for arduino to be used in a project. the reason is that timer0 (the default timer u...</td>\n",
       "      <td>c++  arduino-uno</td>\n",
       "      <td>writing delay function arduino used project reason timer default timer used arduino delay pwm control test code dela...</td>\n",
       "      <td>arduino data types</td>\n",
       "    </tr>\n",
       "    <tr>\n",
       "      <th>10531</th>\n",
       "      <td>is there any blog plugin which i can use with my existing rails3 application?</td>\n",
       "      <td>&lt;p&gt;i need to add a blog to my existing rails application. i am looking for a such blog-plugin which also give me abi...</td>\n",
       "      <td>ruby-on-rails  ruby-on-rails-3  plugins</td>\n",
       "      <td>need blog existing rails appli looking blog plugin also give tagging blogs seo friendly urls kind plugin gem avail c...</td>\n",
       "      <td>blog plugin use existing rails3 application</td>\n",
       "    </tr>\n",
       "    <tr>\n",
       "      <th>4052</th>\n",
       "      <td>update some chrome extension files from own server</td>\n",
       "      <td>&lt;p&gt;i am writing a chrome extension in which some script and an xml file in which i data is to be read by the script ...</td>\n",
       "      <td>google-chrome-extension  auto-update</td>\n",
       "      <td>writing chrome extension script xml file script changed almost twice per include link every page lo hosting server l...</td>\n",
       "      <td>update chrome extension files server</td>\n",
       "    </tr>\n",
       "  </tbody>\n",
       "</table>\n",
       "</div>"
      ],
      "text/plain": [
       "                                                                                            Title  \\\n",
       "526                                      entity class from database....error invalid resource _pm   \n",
       "48647  formatting using decimalformat throws exception - \"cannot format given object as a number\"   \n",
       "32283                                                           jsf links not working on facelets   \n",
       "8080                                             angularjs - ng-disabled doesn't work as expected   \n",
       "12463                       split string delimited by comma without respect to commas in brackets   \n",
       "43886                                                               nant merge task not executing   \n",
       "40164                                     delphi rtti get property - why does this results in av?   \n",
       "10440                                                                  arduino - about data types   \n",
       "10531               is there any blog plugin which i can use with my existing rails3 application?   \n",
       "4052                                           update some chrome extension files from own server   \n",
       "\n",
       "                                                                                                                          Body  \\\n",
       "526    <p>i have created a database and table in mysql through phpmyadmin. i am trying to connect this to my project using ...   \n",
       "48647  <p>this might look like a repeated question but i tried in all the below links and can't get a proper answer.</p>\\n\\...   \n",
       "32283  <p>i have created a jsf 2 page which uses facelets to define the structure of the page.</p>\\n\\n<pre><code>&lt;div cl...   \n",
       "8080   <p>i am trying to disable file <code>input</code> tag, after user selected a file.</p>\\n\\n<p>html:</p>\\n\\n<pre><code...   \n",
       "12463  <p>i've got a string like</p>\\n\\n<pre><code>s=\"abc, 3rncd (23uh, sdfuh), 32h(q23q)89 (as), dwe8h, edt (1,wer,345,rtz...   \n",
       "43886  <p>i have a nant merge task aimed at a nunit test output.xml  i have installed the relevant xsl transform files and ...   \n",
       "40164  <p>i am trying to write a spec utility library.</p>\\n\\n<p>one of the specification is a texpressionspecification. ba...   \n",
       "10440  <p>i am writing a delay function for arduino to be used in a project. the reason is that timer0 (the default timer u...   \n",
       "10531  <p>i need to add a blog to my existing rails application. i am looking for a such blog-plugin which also give me abi...   \n",
       "4052   <p>i am writing a chrome extension in which some script and an xml file in which i data is to be read by the script ...   \n",
       "\n",
       "                                                                          Tags  \\\n",
       "526                                             mysql  jdbc  netbeans  entity    \n",
       "48647   java  exception  overloading  illegalargumentexception  decimalformat    \n",
       "32283                                        jsf  jakarta-ee  jsf-2  facelets    \n",
       "8080                                              javascript  html  angularjs    \n",
       "12463                                              java  regex  string  split    \n",
       "43886                                           .net  cruisecontrol.net  nant    \n",
       "40164                                                  delphi  generics  rtti    \n",
       "10440                                                        c++  arduino-uno    \n",
       "10531                                 ruby-on-rails  ruby-on-rails-3  plugins    \n",
       "4052                                     google-chrome-extension  auto-update    \n",
       "\n",
       "                                                                                                                  FilteredBody  \\\n",
       "526    created mysql phpmy trying connect project using entity class however get following error run project com sun appser...   \n",
       "48647  might look like repeated question tried links get proper answer href https st com questions format given object numb...   \n",
       "32283  created jsf page uses f define structure page div class page div class content ui insert name content ui insert div ...   \n",
       "8080   trying dis file input tag user selected file html div ng controller firstcontroller div ng controller secon input ty...   \n",
       "12463  got string like sdfuh q dwe edt wer rtz tr nope want split string string parts sdfuh q dwe edt wer rtz tr nope simpl...   \n",
       "43886  nant merge task aimed nunit test output xml installed relevant xsl transform files menu option show see nunit detail...   \n",
       "40164  trying write spec utility library one specifi texpressionspecifi implements specifi pattern evaluating inner texpres...   \n",
       "10440  writing delay function arduino used project reason timer default timer used arduino delay pwm control test code dela...   \n",
       "10531  need blog existing rails appli looking blog plugin also give tagging blogs seo friendly urls kind plugin gem avail c...   \n",
       "4052   writing chrome extension script xml file script changed almost twice per include link every page lo hosting server l...   \n",
       "\n",
       "                                                                            FilteredTitle  \n",
       "526                                       entity class database error invalid resource pm  \n",
       "48647  formatting using decimalformat throws exception cannot format given object number   \n",
       "32283                                                          jsf links working facelets  \n",
       "8080                                                  angularjs ng disabled work expected  \n",
       "12463                        split string delimited comma without respect commas brackets  \n",
       "43886                                                           nant merge task executing  \n",
       "40164                                                delphi rtti get property results av   \n",
       "10440                                                                  arduino data types  \n",
       "10531                                        blog plugin use existing rails3 application   \n",
       "4052                                                 update chrome extension files server  "
      ]
     },
     "execution_count": 69,
     "metadata": {},
     "output_type": "execute_result"
    }
   ],
   "source": [
    "dfCleaned.sample(10)"
   ]
  },
  {
   "cell_type": "markdown",
   "id": "bb7fcf90",
   "metadata": {
    "id": "10425915"
   },
   "source": [
    "## Tokenisation"
   ]
  },
  {
   "cell_type": "code",
   "execution_count": 70,
   "id": "3e97c339",
   "metadata": {},
   "outputs": [
    {
     "name": "stdout",
     "output_type": "stream",
     "text": [
      "CPU times: user 1.35 s, sys: 130 ms, total: 1.48 s\n",
      "Wall time: 1.48 s\n"
     ]
    }
   ],
   "source": [
    "%%time\n",
    "\n",
    "# conversion du corpus de chaque document en tokens unique\n",
    "dfCleaned['BodyTokens']=dfCleaned['FilteredBody'].map(tokenize)"
   ]
  },
  {
   "cell_type": "code",
   "execution_count": 71,
   "id": "04cb0823",
   "metadata": {},
   "outputs": [],
   "source": [
    "dfCleaned['TitleTokens']=dfCleaned['FilteredTitle'].map(tokenize)"
   ]
  },
  {
   "cell_type": "code",
   "execution_count": 72,
   "id": "7813a4e6",
   "metadata": {},
   "outputs": [
    {
     "data": {
      "text/html": [
       "<div>\n",
       "<style scoped>\n",
       "    .dataframe tbody tr th:only-of-type {\n",
       "        vertical-align: middle;\n",
       "    }\n",
       "\n",
       "    .dataframe tbody tr th {\n",
       "        vertical-align: top;\n",
       "    }\n",
       "\n",
       "    .dataframe thead th {\n",
       "        text-align: right;\n",
       "    }\n",
       "</style>\n",
       "<table border=\"1\" class=\"dataframe\">\n",
       "  <thead>\n",
       "    <tr style=\"text-align: right;\">\n",
       "      <th></th>\n",
       "      <th>Title</th>\n",
       "      <th>Body</th>\n",
       "      <th>Tags</th>\n",
       "      <th>FilteredBody</th>\n",
       "      <th>FilteredTitle</th>\n",
       "      <th>BodyTokens</th>\n",
       "      <th>TitleTokens</th>\n",
       "    </tr>\n",
       "  </thead>\n",
       "  <tbody>\n",
       "    <tr>\n",
       "      <th>30057</th>\n",
       "      <td>swap arrays by using pointers in c++</td>\n",
       "      <td>&lt;p&gt;i have two arrays of pointers to doubles that i need to swap. rather than just copy the data within the arrays, i...</td>\n",
       "      <td>c++  arrays  pointers  swap</td>\n",
       "      <td>two arrays pointers doubles need swap rather copy within arrays would efficient swap pointers arrays always impressi...</td>\n",
       "      <td>swap arrays using pointers c</td>\n",
       "      <td>[two, arrays, pointers, doubles, need, swap, rather, copy, within, arrays, would, efficient, swap, pointers, arrays,...</td>\n",
       "      <td>[swap, arrays, using, pointers]</td>\n",
       "    </tr>\n",
       "    <tr>\n",
       "      <th>17182</th>\n",
       "      <td>heroku 409 error when python dash app calls api</td>\n",
       "      <td>&lt;p&gt;starting process with command from procfile works.&lt;/p&gt;\\n\\n&lt;p&gt;then as soon as it starts reading the python file, a...</td>\n",
       "      <td>python  api  heroku  server  plotly-dash</td>\n",
       "      <td>starting process command procfile works soon starts python file pulling api get error exception worker process tr ra...</td>\n",
       "      <td>heroku 409 error python dash app calls api</td>\n",
       "      <td>[starting, process, command, procfile, works, soon, starts, python, file, pulling, api, get, error, exception, worke...</td>\n",
       "      <td>[heroku, 409, error, python, dash, app, calls, api]</td>\n",
       "    </tr>\n",
       "    <tr>\n",
       "      <th>5076</th>\n",
       "      <td>set a usercontrol property to not show up in vs properties window</td>\n",
       "      <td>&lt;p&gt;i have a usercontrol in my asp.net project that has a public property. i do not want this property to show up in ...</td>\n",
       "      <td>c#  asp.net  visual-studio  properties  attributes</td>\n",
       "      <td>usercontrol asp net project public property want property show visual studio property window user highlights instanc...</td>\n",
       "      <td>set usercontrol property show vs properties window</td>\n",
       "      <td>[usercontrol, asp, net, project, public, property, want, property, show, visual, studio, property, window, user, hig...</td>\n",
       "      <td>[set, usercontrol, property, show, vs, properties, window]</td>\n",
       "    </tr>\n",
       "    <tr>\n",
       "      <th>12878</th>\n",
       "      <td>how can we define one-to-one, one-to-many, many-to-one, and many-to-many lstm neural networks in keras?</td>\n",
       "      <td>&lt;p&gt;i am reading &lt;a href=\"http://karpathy.github.io/2015/05/21/rnn-effectiveness/\" rel=\"noreferrer\"&gt;this&lt;/a&gt; article ...</td>\n",
       "      <td>python  neural-network  keras  lstm  recurrent-neural-network</td>\n",
       "      <td>href http karpathy github io rnn effectiveness rel noreferrer article unreason effectiveness recurrent neural networ...</td>\n",
       "      <td>define one one one many many one many many lstm neural networks keras</td>\n",
       "      <td>[href, http, karpathy, github, io, rnn, effectiveness, rel, noreferrer, article, unreason, effectiveness, recurrent,...</td>\n",
       "      <td>[define, one, one, one, many, many, one, many, many, lstm, neural, networks, keras]</td>\n",
       "    </tr>\n",
       "    <tr>\n",
       "      <th>27534</th>\n",
       "      <td>is it necessary to upgrade to jquery 1.4?</td>\n",
       "      <td>&lt;p&gt;i have been using jquery 1.23 till now and nowadays most of the plugins are being developed for the 1.4 version. ...</td>\n",
       "      <td>jquery</td>\n",
       "      <td>using jquery till plugins developed version want know necessary upgr jquery mean modules right still work</td>\n",
       "      <td>necessary upgrade jquery 1 4</td>\n",
       "      <td>[using, jquery, till, plugins, developed, version, want, know, necessary, upgr, jquery, mean, modules, right, still,...</td>\n",
       "      <td>[necessary, upgrade, jquery]</td>\n",
       "    </tr>\n",
       "    <tr>\n",
       "      <th>21290</th>\n",
       "      <td>making a class behave like a bunch of keyword arguments in python</td>\n",
       "      <td>&lt;p&gt;so i have a class that will have a lot of attributes. is there a way to make this class behave in a way that i ca...</td>\n",
       "      <td>python</td>\n",
       "      <td>class lot attributes way make class behave way pass kwarg function class foo object def self self self b b foo foo s...</td>\n",
       "      <td>making class behave like bunch keyword arguments python</td>\n",
       "      <td>[class, lot, attributes, way, make, class, behave, way, pass, kwarg, function, class, foo, object, def, self, self, ...</td>\n",
       "      <td>[making, class, behave, like, bunch, keyword, arguments, python]</td>\n",
       "    </tr>\n",
       "    <tr>\n",
       "      <th>33326</th>\n",
       "      <td>output gzipped result as a stream</td>\n",
       "      <td>&lt;p&gt;i have a simple php script that output a sitemap from a list of urls. &lt;/p&gt;\\n\\n&lt;p&gt;the sitemap is generated on the ...</td>\n",
       "      <td>php  gzip</td>\n",
       "      <td>simple php script output sitemap list urls sitemap generated fly far output xml directly works think compressed xml ...</td>\n",
       "      <td>output gzipped result stream</td>\n",
       "      <td>[simple, php, script, output, sitemap, list, urls, sitemap, generated, fly, far, output, xml, directly, works, think...</td>\n",
       "      <td>[output, gzipped, result, stream]</td>\n",
       "    </tr>\n",
       "    <tr>\n",
       "      <th>45971</th>\n",
       "      <td>java.lang.classcastexception: org.jboss.ws.core.soap.textimpl cannot be cast to javax.xml.soap.soapelement</td>\n",
       "      <td>&lt;p&gt;i am working on &lt;strong&gt;ibm sterling v 9.3&lt;/strong&gt;. i have exposed an service as &lt;strong&gt;jax-ws web service&lt;/str...</td>\n",
       "      <td>web-services  jboss  jax-ws  soapui  ibm-sterling</td>\n",
       "      <td>working ibm sterling v exposed service jax ws web service using steps provided knowledge center su jboss app server ...</td>\n",
       "      <td>java lang classcastexception org jboss ws core soap textimpl cannot cast javax xml soap soapelement</td>\n",
       "      <td>[working, ibm, sterling, exposed, service, jax, ws, web, service, using, steps, provided, knowledge, center, su, jbo...</td>\n",
       "      <td>[java, lang, classcastexception, org, jboss, ws, core, soap, textimpl, cannot, cast, javax, xml, soap, soapelement]</td>\n",
       "    </tr>\n",
       "  </tbody>\n",
       "</table>\n",
       "</div>"
      ],
      "text/plain": [
       "                                                                                                            Title  \\\n",
       "30057                                                                        swap arrays by using pointers in c++   \n",
       "17182                                                             heroku 409 error when python dash app calls api   \n",
       "5076                                            set a usercontrol property to not show up in vs properties window   \n",
       "12878     how can we define one-to-one, one-to-many, many-to-one, and many-to-many lstm neural networks in keras?   \n",
       "27534                                                                   is it necessary to upgrade to jquery 1.4?   \n",
       "21290                                           making a class behave like a bunch of keyword arguments in python   \n",
       "33326                                                                           output gzipped result as a stream   \n",
       "45971  java.lang.classcastexception: org.jboss.ws.core.soap.textimpl cannot be cast to javax.xml.soap.soapelement   \n",
       "\n",
       "                                                                                                                          Body  \\\n",
       "30057  <p>i have two arrays of pointers to doubles that i need to swap. rather than just copy the data within the arrays, i...   \n",
       "17182  <p>starting process with command from procfile works.</p>\\n\\n<p>then as soon as it starts reading the python file, a...   \n",
       "5076   <p>i have a usercontrol in my asp.net project that has a public property. i do not want this property to show up in ...   \n",
       "12878  <p>i am reading <a href=\"http://karpathy.github.io/2015/05/21/rnn-effectiveness/\" rel=\"noreferrer\">this</a> article ...   \n",
       "27534  <p>i have been using jquery 1.23 till now and nowadays most of the plugins are being developed for the 1.4 version. ...   \n",
       "21290  <p>so i have a class that will have a lot of attributes. is there a way to make this class behave in a way that i ca...   \n",
       "33326  <p>i have a simple php script that output a sitemap from a list of urls. </p>\\n\\n<p>the sitemap is generated on the ...   \n",
       "45971  <p>i am working on <strong>ibm sterling v 9.3</strong>. i have exposed an service as <strong>jax-ws web service</str...   \n",
       "\n",
       "                                                                  Tags  \\\n",
       "30057                                     c++  arrays  pointers  swap    \n",
       "17182                        python  api  heroku  server  plotly-dash    \n",
       "5076               c#  asp.net  visual-studio  properties  attributes    \n",
       "12878   python  neural-network  keras  lstm  recurrent-neural-network    \n",
       "27534                                                          jquery    \n",
       "21290                                                          python    \n",
       "33326                                                       php  gzip    \n",
       "45971               web-services  jboss  jax-ws  soapui  ibm-sterling    \n",
       "\n",
       "                                                                                                                  FilteredBody  \\\n",
       "30057  two arrays pointers doubles need swap rather copy within arrays would efficient swap pointers arrays always impressi...   \n",
       "17182  starting process command procfile works soon starts python file pulling api get error exception worker process tr ra...   \n",
       "5076   usercontrol asp net project public property want property show visual studio property window user highlights instanc...   \n",
       "12878  href http karpathy github io rnn effectiveness rel noreferrer article unreason effectiveness recurrent neural networ...   \n",
       "27534                using jquery till plugins developed version want know necessary upgr jquery mean modules right still work   \n",
       "21290  class lot attributes way make class behave way pass kwarg function class foo object def self self self b b foo foo s...   \n",
       "33326  simple php script output sitemap list urls sitemap generated fly far output xml directly works think compressed xml ...   \n",
       "45971  working ibm sterling v exposed service jax ws web service using steps provided knowledge center su jboss app server ...   \n",
       "\n",
       "                                                                                             FilteredTitle  \\\n",
       "30057                                                                        swap arrays using pointers c    \n",
       "17182                                                           heroku 409 error python dash app calls api   \n",
       "5076                                                    set usercontrol property show vs properties window   \n",
       "12878                               define one one one many many one many many lstm neural networks keras    \n",
       "27534                                                                        necessary upgrade jquery 1 4    \n",
       "21290                                              making class behave like bunch keyword arguments python   \n",
       "33326                                                                         output gzipped result stream   \n",
       "45971  java lang classcastexception org jboss ws core soap textimpl cannot cast javax xml soap soapelement   \n",
       "\n",
       "                                                                                                                    BodyTokens  \\\n",
       "30057  [two, arrays, pointers, doubles, need, swap, rather, copy, within, arrays, would, efficient, swap, pointers, arrays,...   \n",
       "17182  [starting, process, command, procfile, works, soon, starts, python, file, pulling, api, get, error, exception, worke...   \n",
       "5076   [usercontrol, asp, net, project, public, property, want, property, show, visual, studio, property, window, user, hig...   \n",
       "12878  [href, http, karpathy, github, io, rnn, effectiveness, rel, noreferrer, article, unreason, effectiveness, recurrent,...   \n",
       "27534  [using, jquery, till, plugins, developed, version, want, know, necessary, upgr, jquery, mean, modules, right, still,...   \n",
       "21290  [class, lot, attributes, way, make, class, behave, way, pass, kwarg, function, class, foo, object, def, self, self, ...   \n",
       "33326  [simple, php, script, output, sitemap, list, urls, sitemap, generated, fly, far, output, xml, directly, works, think...   \n",
       "45971  [working, ibm, sterling, exposed, service, jax, ws, web, service, using, steps, provided, knowledge, center, su, jbo...   \n",
       "\n",
       "                                                                                                               TitleTokens  \n",
       "30057                                                                                      [swap, arrays, using, pointers]  \n",
       "17182                                                                  [heroku, 409, error, python, dash, app, calls, api]  \n",
       "5076                                                            [set, usercontrol, property, show, vs, properties, window]  \n",
       "12878                                  [define, one, one, one, many, many, one, many, many, lstm, neural, networks, keras]  \n",
       "27534                                                                                         [necessary, upgrade, jquery]  \n",
       "21290                                                     [making, class, behave, like, bunch, keyword, arguments, python]  \n",
       "33326                                                                                    [output, gzipped, result, stream]  \n",
       "45971  [java, lang, classcastexception, org, jboss, ws, core, soap, textimpl, cannot, cast, javax, xml, soap, soapelement]  "
      ]
     },
     "execution_count": 72,
     "metadata": {},
     "output_type": "execute_result"
    }
   ],
   "source": [
    "dfCleaned.sample(8)"
   ]
  },
  {
   "cell_type": "markdown",
   "id": "811c7269",
   "metadata": {
    "id": "811c7269"
   },
   "source": [
    "## Lemmatisation"
   ]
  },
  {
   "cell_type": "code",
   "execution_count": 73,
   "id": "9fce225f",
   "metadata": {
    "scrolled": true
   },
   "outputs": [
    {
     "name": "stdout",
     "output_type": "stream",
     "text": [
      "CPU times: user 8min 20s, sys: 1min 14s, total: 9min 35s\n",
      "Wall time: 9min 36s\n"
     ]
    }
   ],
   "source": [
    "%%time\n",
    "dfCleaned['BodyLemmas']=dfCleaned['BodyTokens'].map(lemmatize)"
   ]
  },
  {
   "cell_type": "code",
   "execution_count": 74,
   "id": "93d024d5",
   "metadata": {
    "scrolled": true
   },
   "outputs": [
    {
     "name": "stdout",
     "output_type": "stream",
     "text": [
      "CPU times: user 31.4 s, sys: 4.62 s, total: 36.1 s\n",
      "Wall time: 36.1 s\n"
     ]
    }
   ],
   "source": [
    "%%time\n",
    "dfCleaned['TitleLemmas']=dfCleaned['TitleTokens'].map(lemmatize)"
   ]
  },
  {
   "cell_type": "code",
   "execution_count": 75,
   "id": "6dbf585d",
   "metadata": {},
   "outputs": [],
   "source": [
    "def highlight_cols(s):\n",
    "    color = 'lightgrey'\n",
    "    return 'background-color: %s' % color"
   ]
  },
  {
   "cell_type": "code",
   "execution_count": 82,
   "id": "be89c3e9",
   "metadata": {
    "scrolled": true
   },
   "outputs": [
    {
     "data": {
      "text/html": [
       "<style type=\"text/css\">\n",
       "#T_25042_row0_col0, #T_25042_row0_col1, #T_25042_row0_col2, #T_25042_row1_col0, #T_25042_row1_col1, #T_25042_row1_col2, #T_25042_row2_col0, #T_25042_row2_col1, #T_25042_row2_col2 {\n",
       "  background-color: lightgrey;\n",
       "}\n",
       "</style>\n",
       "<table id=\"T_25042_\">\n",
       "  <thead>\n",
       "    <tr>\n",
       "      <th class=\"blank level0\" >&nbsp;</th>\n",
       "      <th class=\"col_heading level0 col0\" >Title</th>\n",
       "      <th class=\"col_heading level0 col1\" >Body</th>\n",
       "      <th class=\"col_heading level0 col2\" >Tags</th>\n",
       "      <th class=\"col_heading level0 col3\" >FilteredBody</th>\n",
       "      <th class=\"col_heading level0 col4\" >FilteredTitle</th>\n",
       "      <th class=\"col_heading level0 col5\" >BodyTokens</th>\n",
       "      <th class=\"col_heading level0 col6\" >TitleTokens</th>\n",
       "      <th class=\"col_heading level0 col7\" >BodyLemmas</th>\n",
       "      <th class=\"col_heading level0 col8\" >TitleLemmas</th>\n",
       "    </tr>\n",
       "  </thead>\n",
       "  <tbody>\n",
       "    <tr>\n",
       "      <th id=\"T_25042_level0_row0\" class=\"row_heading level0 row0\" >45583</th>\n",
       "      <td id=\"T_25042_row0_col0\" class=\"data row0 col0\" >wordpress > create category as child of \"uncategorized\" (catid=1)</td>\n",
       "      <td id=\"T_25042_row0_col1\" class=\"data row0 col1\" ><p>i've got a script in my functions.php file that checks for the existence of several categories that are required by my theme, and if they are not present, it creates them...</p>\n",
       "\n",
       "<pre><code>if(!get_cat_id('my-category')){wp_create_category('my-category');}\n",
       "</code></pre>\n",
       "\n",
       "<p>i need to modify this script in two ways...</p>\n",
       "\n",
       "<p>first, i need to create the category so that its parent category is the \"uncategorized\" category (or id 1).</p>\n",
       "\n",
       "<p>second, if the category already exists, but its parent is not id 1, i need to make it so.</p>\n",
       "</td>\n",
       "      <td id=\"T_25042_row0_col2\" class=\"data row0 col2\" > wordpress  categories </td>\n",
       "      <td id=\"T_25042_row0_col3\" class=\"data row0 col3\" >got script functions php file checks existence several required theme present creates need modify script two ways first need create parent un id second alre exists parent id need make</td>\n",
       "      <td id=\"T_25042_row0_col4\" class=\"data row0 col4\" >wordpress create category child uncategorized catid 1 </td>\n",
       "      <td id=\"T_25042_row0_col5\" class=\"data row0 col5\" >['got', 'script', 'functions', 'php', 'file', 'checks', 'existence', 'several', 'required', 'theme', 'present', 'creates', 'need', 'modify', 'script', 'two', 'ways', 'first', 'need', 'create', 'parent', 'un', 'id', 'second', 'alre', 'exists', 'parent', 'id', 'need', 'make']</td>\n",
       "      <td id=\"T_25042_row0_col6\" class=\"data row0 col6\" >['wordpress', 'create', 'category', 'child', 'uncategorized', 'catid']</td>\n",
       "      <td id=\"T_25042_row0_col7\" class=\"data row0 col7\" >['get', 'script', 'function', 'php', 'file', 'check', 'existence', 'several', 'require', 'theme', 'present', 'creates', 'need', 'modify', 'script', 'two', 'way', 'first', 'need', 'create', 'parent', 'un', 'id', 'second', 'alre', 'exists', 'parent', 'id', 'need', 'make']</td>\n",
       "      <td id=\"T_25042_row0_col8\" class=\"data row0 col8\" >['wordpress', 'create', 'category', 'child', 'uncategorized', 'catid']</td>\n",
       "    </tr>\n",
       "    <tr>\n",
       "      <th id=\"T_25042_level0_row1\" class=\"row_heading level0 row1\" >23834</th>\n",
       "      <td id=\"T_25042_row1_col0\" class=\"data row1 col0\" >how to reshape matlab matrices for this example?</td>\n",
       "      <td id=\"T_25042_row1_col1\" class=\"data row1 col1\" ><p>i have a 40x16 matrix or 8 5x16 one below the other i.e. aligned vertically. \n",
       "i want to get a 5x128 matrix from that such that i align the 8 5x16 matrices horizontally.\n",
       "is there an efficient/quicker (rather than the hardcoded for loops) way to do this?</p>\n",
       "\n",
       "<p>i want the individual 5x16 matrices intact.</p>\n",
       "</td>\n",
       "      <td id=\"T_25042_row1_col2\" class=\"data row1 col2\" > matlab  matrix  reshape </td>\n",
       "      <td id=\"T_25042_row1_col3\" class=\"data row1 col3\" >matrix x one e aligned verti want get matrix align x matrices horizontally efficient quicker rather har loops way want individual matrices int</td>\n",
       "      <td id=\"T_25042_row1_col4\" class=\"data row1 col4\" >reshape matlab matrices example </td>\n",
       "      <td id=\"T_25042_row1_col5\" class=\"data row1 col5\" >['matrix', 'one', 'aligned', 'verti', 'want', 'get', 'matrix', 'align', 'matrices', 'horizontally', 'efficient', 'quicker', 'rather', 'har', 'loops', 'way', 'want', 'individual', 'matrices', 'int']</td>\n",
       "      <td id=\"T_25042_row1_col6\" class=\"data row1 col6\" >['reshape', 'matlab', 'matrices', 'example']</td>\n",
       "      <td id=\"T_25042_row1_col7\" class=\"data row1 col7\" >['matrix', 'one', 'align', 'verti', 'want', 'get', 'matrix', 'align', 'matrix', 'horizontally', 'efficient', 'quicker', 'rather', 'har', 'loop', 'way', 'want', 'individual', 'matrix', 'int']</td>\n",
       "      <td id=\"T_25042_row1_col8\" class=\"data row1 col8\" >['reshape', 'matlab', 'matrix', 'example']</td>\n",
       "    </tr>\n",
       "    <tr>\n",
       "      <th id=\"T_25042_level0_row2\" class=\"row_heading level0 row2\" >24110</th>\n",
       "      <td id=\"T_25042_row2_col0\" class=\"data row2 col0\" >regex syntax validator</td>\n",
       "      <td id=\"T_25042_row2_col1\" class=\"data row2 col1\" ><p>does anybody know any tool for validating the syntax of an regular expression? i dont want to validate if it matches or not with some text but i want to see if there are syntax errors in the regex (missing parenthisis etc).</p>\n",
       "\n",
       "<p>also, what about syntax highlighting? it would be a great help when writing complex regex.</p>\n",
       "</td>\n",
       "      <td id=\"T_25042_row2_col2\" class=\"data row2 col2\" > regex  syntax  highlighting  validation </td>\n",
       "      <td id=\"T_25042_row2_col3\" class=\"data row2 col3\" >anybody know tool vali syntax regular expression dont want vali matches text want see syntax errors regex missing parenthisis etc also syntax highlighting would great help writing complex regex</td>\n",
       "      <td id=\"T_25042_row2_col4\" class=\"data row2 col4\" >regex syntax validator</td>\n",
       "      <td id=\"T_25042_row2_col5\" class=\"data row2 col5\" >['anybody', 'know', 'tool', 'vali', 'syntax', 'regular', 'expression', 'dont', 'want', 'vali', 'matches', 'text', 'want', 'see', 'syntax', 'errors', 'regex', 'missing', 'parenthisis', 'etc', 'also', 'syntax', 'highlighting', 'would', 'great', 'help', 'writing', 'complex', 'regex']</td>\n",
       "      <td id=\"T_25042_row2_col6\" class=\"data row2 col6\" >['regex', 'syntax', 'validator']</td>\n",
       "      <td id=\"T_25042_row2_col7\" class=\"data row2 col7\" >['anybody', 'know', 'tool', 'vali', 'syntax', 'regular', 'expression', 'dont', 'want', 'vali', 'match', 'text', 'want', 'see', 'syntax', 'error', 'regex', 'miss', 'parenthisis', 'etc', 'also', 'syntax', 'highlight', 'would', 'great', 'help', 'write', 'complex', 'regex']</td>\n",
       "      <td id=\"T_25042_row2_col8\" class=\"data row2 col8\" >['regex', 'syntax', 'validator']</td>\n",
       "    </tr>\n",
       "  </tbody>\n",
       "</table>\n"
      ],
      "text/plain": [
       "<pandas.io.formats.style.Styler at 0x7fe15a76e4f0>"
      ]
     },
     "execution_count": 82,
     "metadata": {},
     "output_type": "execute_result"
    }
   ],
   "source": [
    "dfCleaned.sample(3).style.applymap(highlight_cols, subset=pd.IndexSlice[:, ['Title', 'Body','Tags']])"
   ]
  },
  {
   "cell_type": "code",
   "execution_count": 77,
   "id": "110f4f20",
   "metadata": {
    "scrolled": true
   },
   "outputs": [
    {
     "data": {
      "text/html": [
       "<div>\n",
       "<style scoped>\n",
       "    .dataframe tbody tr th:only-of-type {\n",
       "        vertical-align: middle;\n",
       "    }\n",
       "\n",
       "    .dataframe tbody tr th {\n",
       "        vertical-align: top;\n",
       "    }\n",
       "\n",
       "    .dataframe thead th {\n",
       "        text-align: right;\n",
       "    }\n",
       "</style>\n",
       "<table border=\"1\" class=\"dataframe\">\n",
       "  <thead>\n",
       "    <tr style=\"text-align: right;\">\n",
       "      <th></th>\n",
       "      <th>Title</th>\n",
       "      <th>Body</th>\n",
       "      <th>Tags</th>\n",
       "      <th>FilteredBody</th>\n",
       "      <th>FilteredTitle</th>\n",
       "      <th>BodyTokens</th>\n",
       "      <th>TitleTokens</th>\n",
       "      <th>BodyLemmas</th>\n",
       "      <th>TitleLemmas</th>\n",
       "    </tr>\n",
       "  </thead>\n",
       "  <tbody>\n",
       "    <tr>\n",
       "      <th>14013</th>\n",
       "      <td>add custom field inside a do_shortcode</td>\n",
       "      <td>&lt;p&gt;i'm trying to add a contact form into a page template with contact form 7. however, i want the destination email ...</td>\n",
       "      <td>php  wordpress  advanced-custom-fields  shortcode  contact-form-7</td>\n",
       "      <td>trying cont form page template cont form however want destination email come custom field created code pulls custom ...</td>\n",
       "      <td>add custom field inside shortcode</td>\n",
       "      <td>[trying, cont, form, page, template, cont, form, however, want, destination, email, come, custom, field, created, co...</td>\n",
       "      <td>[add, custom, field, inside, shortcode]</td>\n",
       "      <td>[try, cont, form, page, template, cont, form, however, want, destination, email, come, custom, field, create, code, ...</td>\n",
       "      <td>[add, custom, field, inside, shortcode]</td>\n",
       "    </tr>\n",
       "    <tr>\n",
       "      <th>46753</th>\n",
       "      <td>(some function) is not defined with sympy lambdify</td>\n",
       "      <td>&lt;p&gt;so i'm writing a script that evaluates taylor series. however, i want it to evaluate for all types of functions. ...</td>\n",
       "      <td>python  numpy  sympy</td>\n",
       "      <td>writing script evaluates taylor series however want evaluate types functions tried example using function x x sy sym...</td>\n",
       "      <td>function defined sympy lambdify</td>\n",
       "      <td>[writing, script, evaluates, taylor, series, however, want, evaluate, types, functions, tried, example, using, funct...</td>\n",
       "      <td>[function, defined, sympy, lambdify]</td>\n",
       "      <td>[write, script, evaluates, taylor, series, however, want, evaluate, type, function, try, example, use, function, sy,...</td>\n",
       "      <td>[function, define, sympy, lambdify]</td>\n",
       "    </tr>\n",
       "    <tr>\n",
       "      <th>48067</th>\n",
       "      <td>how can i pass parameters to a jquery $.getjson callback method?</td>\n",
       "      <td>&lt;p&gt;i'm trying to use jquery to call some custom api via &lt;code&gt;ajax/$.getjson&lt;/code&gt;. &lt;/p&gt;\\n\\n&lt;p&gt;i'm trying to pass a...</td>\n",
       "      <td>javascript  jquery  callback</td>\n",
       "      <td>trying use jquery custom api via ajax getjson trying pass custom value ajax method value getting passed getting over...</td>\n",
       "      <td>pass parameters jquery getjson callback method</td>\n",
       "      <td>[trying, use, jquery, custom, api, via, ajax, getjson, trying, pass, custom, value, ajax, method, value, getting, pa...</td>\n",
       "      <td>[pass, parameters, jquery, getjson, callback, method]</td>\n",
       "      <td>[try, use, jquery, custom, api, via, ajax, getjson, try, pas, custom, value, ajax, method, value, get, pass, get, ov...</td>\n",
       "      <td>[pas, parameter, jquery, getjson, callback, method]</td>\n",
       "    </tr>\n",
       "  </tbody>\n",
       "</table>\n",
       "</div>"
      ],
      "text/plain": [
       "                                                                  Title  \\\n",
       "14013                            add custom field inside a do_shortcode   \n",
       "46753                (some function) is not defined with sympy lambdify   \n",
       "48067  how can i pass parameters to a jquery $.getjson callback method?   \n",
       "\n",
       "                                                                                                                          Body  \\\n",
       "14013  <p>i'm trying to add a contact form into a page template with contact form 7. however, i want the destination email ...   \n",
       "46753  <p>so i'm writing a script that evaluates taylor series. however, i want it to evaluate for all types of functions. ...   \n",
       "48067  <p>i'm trying to use jquery to call some custom api via <code>ajax/$.getjson</code>. </p>\\n\\n<p>i'm trying to pass a...   \n",
       "\n",
       "                                                                      Tags  \\\n",
       "14013   php  wordpress  advanced-custom-fields  shortcode  contact-form-7    \n",
       "46753                                                python  numpy  sympy    \n",
       "48067                                        javascript  jquery  callback    \n",
       "\n",
       "                                                                                                                  FilteredBody  \\\n",
       "14013  trying cont form page template cont form however want destination email come custom field created code pulls custom ...   \n",
       "46753  writing script evaluates taylor series however want evaluate types functions tried example using function x x sy sym...   \n",
       "48067  trying use jquery custom api via ajax getjson trying pass custom value ajax method value getting passed getting over...   \n",
       "\n",
       "                                         FilteredTitle  \\\n",
       "14013                add custom field inside shortcode   \n",
       "46753                  function defined sympy lambdify   \n",
       "48067  pass parameters jquery getjson callback method    \n",
       "\n",
       "                                                                                                                    BodyTokens  \\\n",
       "14013  [trying, cont, form, page, template, cont, form, however, want, destination, email, come, custom, field, created, co...   \n",
       "46753  [writing, script, evaluates, taylor, series, however, want, evaluate, types, functions, tried, example, using, funct...   \n",
       "48067  [trying, use, jquery, custom, api, via, ajax, getjson, trying, pass, custom, value, ajax, method, value, getting, pa...   \n",
       "\n",
       "                                                 TitleTokens  \\\n",
       "14013                [add, custom, field, inside, shortcode]   \n",
       "46753                   [function, defined, sympy, lambdify]   \n",
       "48067  [pass, parameters, jquery, getjson, callback, method]   \n",
       "\n",
       "                                                                                                                    BodyLemmas  \\\n",
       "14013  [try, cont, form, page, template, cont, form, however, want, destination, email, come, custom, field, create, code, ...   \n",
       "46753  [write, script, evaluates, taylor, series, however, want, evaluate, type, function, try, example, use, function, sy,...   \n",
       "48067  [try, use, jquery, custom, api, via, ajax, getjson, try, pas, custom, value, ajax, method, value, get, pass, get, ov...   \n",
       "\n",
       "                                               TitleLemmas  \n",
       "14013              [add, custom, field, inside, shortcode]  \n",
       "46753                  [function, define, sympy, lambdify]  \n",
       "48067  [pas, parameter, jquery, getjson, callback, method]  "
      ]
     },
     "execution_count": 77,
     "metadata": {},
     "output_type": "execute_result"
    }
   ],
   "source": [
    "dfCleaned.sample(3)"
   ]
  },
  {
   "cell_type": "markdown",
   "id": "11a28466",
   "metadata": {
    "id": "11a28466"
   },
   "source": [
    "# SAUVEGARDE"
   ]
  },
  {
   "cell_type": "code",
   "execution_count": 25,
   "id": "8d1831ba",
   "metadata": {},
   "outputs": [],
   "source": [
    "dfCleaned.drop(['FilteredBody','FilteredTitle','BodyTokens','TitleTokens'], axis=1, inplace=True)"
   ]
  },
  {
   "cell_type": "code",
   "execution_count": 26,
   "id": "2d03615c",
   "metadata": {},
   "outputs": [
    {
     "data": {
      "text/plain": [
       "['dfCleaned5000.jbl.bz2']"
      ]
     },
     "execution_count": 26,
     "metadata": {},
     "output_type": "execute_result"
    }
   ],
   "source": [
    "joblib.dump(dfCleaned.sample(5000),'dfCleaned5000.jbl.bz2')"
   ]
  },
  {
   "cell_type": "code",
   "execution_count": 27,
   "id": "631630f8",
   "metadata": {
    "colab": {
     "base_uri": "https://localhost:8080/"
    },
    "id": "631630f8",
    "outputId": "9dc04ef2-ba2e-459b-9de7-66e2bb3f31fa"
   },
   "outputs": [
    {
     "data": {
      "text/plain": [
       "['dfCleaned.jbl.bz2']"
      ]
     },
     "execution_count": 27,
     "metadata": {},
     "output_type": "execute_result"
    }
   ],
   "source": [
    "joblib.dump(dfCleaned,'dfCleaned.jbl.bz2')\n",
    "\n",
    "#joblib.dump(dfCleaned,\"drive/MyDrive/Colab Notebooks/Datasets/dfCleaned.jbl.bz2\")"
   ]
  },
  {
   "cell_type": "code",
   "execution_count": 28,
   "id": "0dd91f20",
   "metadata": {
    "colab": {
     "base_uri": "https://localhost:8080/"
    },
    "id": "0dd91f20",
    "outputId": "789ca6da-adc8-49c5-8a54-6978e2bd3a24",
    "scrolled": true
   },
   "outputs": [
    {
     "data": {
      "text/plain": [
       "678.3514068126678"
      ]
     },
     "execution_count": 28,
     "metadata": {},
     "output_type": "execute_result"
    }
   ],
   "source": [
    "elapsed=time.time() - start\n",
    "elapsed"
   ]
  }
 ],
 "metadata": {
  "accelerator": "TPU",
  "colab": {
   "collapsed_sections": [
    "3961885b"
   ],
   "name": "P06_01_Categorisez-automatiquement-des-questions_Nettoyage.ipynb",
   "provenance": []
  },
  "kernelspec": {
   "display_name": "Python 3.8",
   "language": "python",
   "name": "python3.8"
  },
  "language_info": {
   "codemirror_mode": {
    "name": "ipython",
    "version": 3
   },
   "file_extension": ".py",
   "mimetype": "text/x-python",
   "name": "python",
   "nbconvert_exporter": "python",
   "pygments_lexer": "ipython3",
   "version": "3.8.12"
  }
 },
 "nbformat": 4,
 "nbformat_minor": 5
}
