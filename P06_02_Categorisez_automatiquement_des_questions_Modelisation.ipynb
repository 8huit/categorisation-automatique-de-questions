{
 "cells": [
  {
   "cell_type": "markdown",
   "id": "5b6a556a",
   "metadata": {},
   "source": [
    "# Categorisez automatiquement des questions - Modelisation"
   ]
  },
  {
   "cell_type": "code",
   "execution_count": 1,
   "id": "dc35b45b",
   "metadata": {},
   "outputs": [
    {
     "name": "stdout",
     "output_type": "stream",
     "text": [
      "skipping\n"
     ]
    }
   ],
   "source": [
    "%%script echo skipping\n",
    "from google.colab import drive\n",
    "drive.mount('/content/drive')"
   ]
  },
  {
   "cell_type": "markdown",
   "id": "17eec42a",
   "metadata": {},
   "source": [
    "# SOMMAIRE\n",
    "* [PREPARATION](#PREPARATION)\n",
    "* [CHARGEMENT](#CHARGEMENT)\n",
    "* [MODELISATION](#Modelisation)\n",
    "    * [Bayes naïf](#Bayes-naïf)\n",
    "    * [Random forest](#Random-forest)\n",
    "    * [XGBoost](#XGBoost)\n",
    "    * [Reseau de neurones](#Reseau-de-neurones)\n",
    "    * [LDA](#LDA)"
   ]
  },
  {
   "cell_type": "markdown",
   "id": "133e27d5",
   "metadata": {},
   "source": [
    "# PREPARATION"
   ]
  },
  {
   "cell_type": "markdown",
   "id": "db80b056",
   "metadata": {},
   "source": [
    "## import des librairies"
   ]
  },
  {
   "cell_type": "code",
   "execution_count": 73,
   "id": "042076b2",
   "metadata": {},
   "outputs": [],
   "source": [
    "import joblib\n",
    "import pandas as pd\n",
    "import matplotlib as mplt\n",
    "import matplotlib.pyplot as plt\n",
    "from matplotlib import cm #colormap\n",
    "import numpy as np\n",
    "\n",
    "import seaborn as sns\n",
    "import re\n",
    "\n",
    "from sklearn.decomposition import LatentDirichletAllocation\n",
    "\n",
    "from sklearn.model_selection import train_test_split\n",
    "from sklearn import naive_bayes\n",
    "from sklearn.metrics import r2_score, accuracy_score\n",
    "from sklearn.ensemble import RandomForestClassifier\n",
    "\n",
    "from sklearn import linear_model\n",
    "\n",
    "from xgboost import XGBClassifier\n",
    "\n",
    "import tensorflow as tf"
   ]
  },
  {
   "cell_type": "markdown",
   "id": "bdae30ee",
   "metadata": {},
   "source": [
    "## Paramétrage du notebook"
   ]
  },
  {
   "cell_type": "code",
   "execution_count": 3,
   "id": "7ee06614",
   "metadata": {},
   "outputs": [],
   "source": [
    "from matplotlib import font_manager\n",
    "\n",
    "font_dirs = ['/Library/Fonts/']\n",
    "font_files = font_manager.findSystemFonts(fontpaths=font_dirs)\n",
    "\n",
    "for font_file in font_files:\n",
    "    font_manager.fontManager.addfont(font_file)\n",
    "\n",
    "# set font\n",
    "plt.rcParams['font.family'] = 'Comic Sans'\n",
    "plt.rcParams['font.sans-serif'] = 'Franklin Gothic Book'"
   ]
  },
  {
   "cell_type": "code",
   "execution_count": 4,
   "id": "d6b075ed",
   "metadata": {},
   "outputs": [],
   "source": [
    "sns.set(rc={\n",
    " 'axes.axisbelow': False,\n",
    " 'axes.edgecolor': 'lightgrey',\n",
    " 'axes.facecolor': 'None',\n",
    " 'axes.grid': False,\n",
    " 'axes.labelcolor': 'dimgrey',\n",
    " 'axes.spines.right': False,\n",
    " 'axes.spines.top': False,\n",
    " 'figure.facecolor': 'white',\n",
    " 'lines.solid_capstyle': 'round',\n",
    " 'patch.edgecolor': 'w',\n",
    " 'patch.force_edgecolor': True,\n",
    " 'text.color': 'dimgrey',\n",
    " 'xtick.bottom': False,\n",
    " 'xtick.color': 'dimgrey',\n",
    " 'xtick.direction': 'out',\n",
    " 'xtick.top': False,\n",
    " 'ytick.color': 'dimgrey',\n",
    " 'ytick.direction': 'out',\n",
    " 'ytick.left': False,\n",
    " 'ytick.right': False})\n",
    "\n",
    "#mplt.font_manager._rebuild()\n",
    "#mplt.font_manager.findfont('Franklin Gothic Book',rebuild_if_missing=True)\n",
    "\n",
    "\n",
    "pd.options.display.max_colwidth=200\n",
    "pd.options.display.min_rows=25\n",
    "pd.options.display.max_columns=50"
   ]
  },
  {
   "cell_type": "markdown",
   "id": "510039b0",
   "metadata": {},
   "source": [
    "## Declaration des fonctions"
   ]
  },
  {
   "cell_type": "code",
   "execution_count": 5,
   "id": "bca481c8",
   "metadata": {},
   "outputs": [],
   "source": [
    "def confusionMatrixAcc(y_true, y_pred):\n",
    "    \"\"\"\n",
    "    Fonction qui retourne la matrice de confusion\n",
    "\n",
    "    Parameters\n",
    "    ----------\n",
    "    y_true : pandas Series\n",
    "        une Serie de valeurs (labels) reelles\n",
    "    y_pred : pandas Series\n",
    "        une Serie de valeurs (labels) predites\n",
    "    Returns\n",
    "    -------\n",
    "    confusionMatrix : DataFrame\n",
    "        la matrice de confusion\n",
    "    \"\"\"\n",
    "\n",
    "    dfConfusion=pd.crosstab(y_test, y_pred_test,rownames=['Reel'], colnames=['Predit'], margins=False)\n",
    "    confusionMatrix=pd.DataFrame()\n",
    "\n",
    "    for c in dfConfusion.columns:\n",
    "        TP=dfConfusion.loc[c,c]\n",
    "        FP=dfConfusion.loc[:,c].sum()-dfConfusion.loc[c,c]\n",
    "        TN=np.diagonal(dfConfusion).sum()-dfConfusion.loc[c,c]\n",
    "        FN=dfConfusion.loc[c,:].sum()-dfConfusion.loc[c,c]\n",
    "        TPR=TP/(TP+FN) # taux de vrai positif\n",
    "        FPR=FP/(FP+TN) # taux de faux positifs\n",
    "        Accuracy=(TP+TN)/(TP+FP+TN+FN)\n",
    "        confusionMatrix=pd.concat([confusionMatrix,\n",
    "        pd.DataFrame({\n",
    "            'Class':c,\n",
    "            'TP':[TP],\n",
    "            'FP':[FP],\n",
    "            'TN':[TN],\n",
    "            'FN':[FN],\n",
    "            'TPR':[TPR],\n",
    "            'FPR':[FPR],\n",
    "            'Accuracy':[Accuracy]})\n",
    "            ])\n",
    "    \n",
    "    confusionMatrix.reset_index(drop=True,inplace=True)\n",
    "    confusionMatrix=confusionMatrix.sort_values('Accuracy',ascending=False)\n",
    "    return confusionMatrix\n",
    "\n",
    "def getClass(row):\n",
    "    # no de colonne ayant le TFIDF max\n",
    "    if row.max()==0: # TF IDF nul pour toute la ligne\n",
    "        return -1\n",
    "    else:\n",
    "        tags=row.idxmax().split() #separation du bigramme\n",
    "        print(tags)\n",
    "        rowclass=tagclass.get(tags[0],-1)\n",
    "        if rowclass<0:\n",
    "            print('row negative')\n",
    "            rowclass=tagclass.get(tags[1],-1)\n",
    "        return rowclass"
   ]
  },
  {
   "cell_type": "markdown",
   "id": "0291751f",
   "metadata": {},
   "source": [
    "# CHARGEMENT"
   ]
  },
  {
   "cell_type": "code",
   "execution_count": 6,
   "id": "dbbb83a2",
   "metadata": {},
   "outputs": [],
   "source": [
    "dfCleaned=joblib.load('dfCleaned2000.jbl.bz2')\n",
    "dfTFIDFCommon=joblib.load('dfTFIDFCommon.jbl.bz2')\n",
    "dfTFIDFCommonTarget=joblib.load('dfTFIDFCommonTarget.jbl.bz2')\n",
    "tagclass=joblib.load('tagclass.jbl.bz2')"
   ]
  },
  {
   "cell_type": "markdown",
   "id": "c7aa4bad",
   "metadata": {},
   "source": [
    "# Modelisation"
   ]
  },
  {
   "cell_type": "code",
   "execution_count": 7,
   "id": "a659c421",
   "metadata": {},
   "outputs": [],
   "source": [
    "X=dfTFIDFCommon.values"
   ]
  },
  {
   "cell_type": "code",
   "execution_count": 8,
   "id": "0fa7327d",
   "metadata": {},
   "outputs": [
    {
     "name": "stdout",
     "output_type": "stream",
     "text": [
      "['sql', 'query']\n",
      "['set', 'html']\n",
      "row negative\n",
      "['php', 'file']\n",
      "['json', 'parse']\n",
      "['html', 'cs']\n",
      "['mysql', 'field']\n",
      "['parse', 'html']\n",
      "row negative\n",
      "['version', 'net']\n",
      "row negative\n",
      "['python', 'request']\n",
      "['like', 'java']\n",
      "row negative\n",
      "['uninstalled', 'android']\n",
      "row negative\n",
      "['mysql', 'query']\n",
      "['android', 'studio']\n",
      "['mysql', 'select']\n",
      "['network', 'connection']\n",
      "row negative\n",
      "['android', 'app']\n",
      "['sql', 'query']\n",
      "['launch', 'android']\n",
      "row negative\n",
      "['index', 'php']\n",
      "row negative\n",
      "['html', 'php']\n",
      "['sql', 'query']\n",
      "['vb', 'net']\n",
      "row negative\n",
      "['file', 'json']\n",
      "row negative\n",
      "['library', 'ruby']\n",
      "row negative\n",
      "['asp', 'net']\n",
      "['screen', 'android']\n",
      "row negative\n",
      "['android', 'widget']\n",
      "['java', 'util']\n",
      "['show', 'html']\n",
      "row negative\n",
      "['define', 'python']\n",
      "row negative\n",
      "['java', 'code']\n",
      "['check', 'javascript']\n",
      "row negative\n",
      "['android', 'text']\n",
      "['use', 'python']\n",
      "row negative\n",
      "['file', 'server']\n",
      "row negative\n",
      "['change', 'html']\n",
      "row negative\n",
      "['php', 'generate']\n",
      "['use', 'jquery']\n",
      "row negative\n",
      "['optimize', 'mysql']\n",
      "row negative\n",
      "['use', 'javax']\n",
      "row negative\n",
      "['javascript', 'function']\n",
      "['php', 'query']\n",
      "['internet', 'connection']\n",
      "row negative\n",
      "['netbeans', 'netbeans']\n",
      "row negative\n",
      "['url', 'php']\n",
      "row negative\n",
      "['index', 'php']\n",
      "row negative\n",
      "['file', 'php']\n",
      "row negative\n",
      "['use', 'php']\n",
      "row negative\n",
      "['javascript', 'function']\n",
      "['python', 'code']\n",
      "['work', 'sql']\n",
      "row negative\n",
      "['javascript', 'api']\n",
      "['sql', 'statement']\n",
      "['ml', 'server']\n",
      "row negative\n",
      "['javascript', 'error']\n",
      "['array', 'javascript']\n",
      "row negative\n",
      "['file', 'javascript']\n",
      "row negative\n",
      "['android', 'widget']\n",
      "['file', 'python']\n",
      "row negative\n",
      "['server', 'use']\n",
      "['json', 'response']\n",
      "['asp', 'net']\n",
      "['vb', 'net']\n",
      "row negative\n",
      "['asp', 'net']\n",
      "['vista', 'server']\n",
      "row negative\n",
      "['use', 'php']\n",
      "row negative\n",
      "['android', 'image']\n",
      "['netbeans', 'directory']\n",
      "row negative\n",
      "['convert', 'python']\n",
      "row negative\n",
      "['server', 'run']\n",
      "['iphone', 'simulator']\n",
      "['server', 'set']\n",
      "['connect', 'iphone']\n",
      "row negative\n",
      "['problem', 'javascript']\n",
      "row negative\n",
      "['java', 'use']\n",
      "['create', 'sql']\n",
      "row negative\n",
      "['test', 'jasper']\n",
      "row negative\n",
      "['string', 'server']\n",
      "row negative\n",
      "['jasper', 'report']\n",
      "row negative\n",
      "['java', 'util']\n",
      "['column', 'mysql']\n",
      "row negative\n",
      "['server', 'code']\n",
      "['javascript', 'class']\n",
      "['iphone', 'game']\n",
      "['html', 'tag']\n",
      "['javascript', 'class']\n",
      "['via', 'puphpet']\n",
      "row negative\n",
      "['server', 'user']\n",
      "['use', 'android']\n",
      "row negative\n",
      "['nest', 'json']\n",
      "row negative\n",
      "['android', 'app']\n",
      "['remote', 'server']\n",
      "row negative\n",
      "['textview', 'android']\n",
      "row negative\n",
      "['file', 'json']\n",
      "row negative\n",
      "['javascript', 'jquery']\n",
      "['android', 'webview']\n",
      "['serialization', 'net']\n",
      "row negative\n",
      "['asp', 'net']\n",
      "['asp', 'gridview']\n",
      "['php', 'error']\n",
      "['program', 'python']\n",
      "row negative\n",
      "['single', 'mysql']\n",
      "row negative\n",
      "['function', 'python']\n",
      "row negative\n",
      "['asp', 'net']\n",
      "['net', 'mvc']\n",
      "['optimize', 'sql']\n",
      "row negative\n",
      "['linq', 'sql']\n",
      "row negative\n",
      "['sql', 'server']\n",
      "['python', 'script']\n",
      "['json', 'pojo']\n",
      "['java', 'could']\n",
      "['div', 'jquery']\n",
      "row negative\n",
      "['java', 'code']\n",
      "['php', 'code']\n",
      "['internet', 'connection']\n",
      "row negative\n",
      "['android', 'widget']\n",
      "['android', 'asynctask']\n",
      "['wpf', 'window']\n",
      "['post', 'html']\n",
      "row negative\n",
      "['server', 'file']\n",
      "['use', 'php']\n",
      "row negative\n",
      "['java', 'need']\n",
      "['use', 'jquery']\n",
      "row negative\n",
      "['asp', 'net']\n",
      "['net', 'urlconnection']\n",
      "['server', 'http']\n",
      "['server', 'run']\n",
      "['file', 'javascript']\n",
      "row negative\n",
      "['internet', 'explorer']\n",
      "row negative\n",
      "['json', 'parse']\n",
      "['file', 'python']\n",
      "row negative\n",
      "['android', 'development']\n",
      "['php', 'api']\n",
      "['mqtt', 'server']\n",
      "row negative\n",
      "['javascript', 'api']\n",
      "['learn', 'android']\n",
      "row negative\n",
      "['wpf', 'window']\n",
      "['php', 'file']\n",
      "['via', 'java']\n",
      "row negative\n",
      "['function', 'python']\n",
      "row negative\n",
      "['html', 'file']\n",
      "['server', 'run']\n",
      "['sql', 'query']\n",
      "['use', 'javax']\n",
      "row negative\n",
      "['like', 'sql']\n",
      "row negative\n",
      "['sql', 'query']\n",
      "['python', 'module']\n",
      "['java', 'program']\n",
      "['sql', 'constraint']\n",
      "['dialog', 'iphone']\n",
      "row negative\n",
      "['main', 'java']\n",
      "row negative\n",
      "['jquery', 'work']\n",
      "['time', 'mysql']\n",
      "row negative\n",
      "['ps', 'net']\n",
      "row negative\n",
      "['use', 'java']\n",
      "row negative\n",
      "['event', 'java']\n",
      "row negative\n",
      "['function', 'python']\n",
      "row negative\n",
      "['main', 'java']\n",
      "row negative\n",
      "['javascript', 'file']\n",
      "['service', 'asp']\n",
      "row negative\n",
      "['android', 'volley']\n",
      "['service', 'asp']\n",
      "row negative\n",
      "['java', 'lang']\n",
      "['javascript', 'code']\n",
      "['function', 'php']\n",
      "row negative\n",
      "['project', 'server']\n",
      "row negative\n",
      "['main', 'java']\n",
      "row negative\n",
      "['net', 'form']\n",
      "['vbscript', 'jscript']\n",
      "row negative\n",
      "['java', 'installation']\n",
      "['html', 'form']\n",
      "['server', 'side']\n",
      "['php', 'file']\n",
      "['without', 'javascript']\n",
      "row negative\n",
      "['time', 'mysql']\n",
      "row negative\n",
      "['set', 'html']\n",
      "row negative\n",
      "['function', 'python']\n",
      "row negative\n",
      "['pythonic', 'way']\n",
      "row negative\n",
      "['net', 'mvc']\n",
      "['jquery', 'method']\n",
      "['php', 'use']\n",
      "['internet', 'explorer']\n",
      "row negative\n",
      "['web', 'server']\n",
      "row negative\n",
      "['send', 'server']\n",
      "row negative\n",
      "['url', 'php']\n",
      "row negative\n",
      "['response', 'server']\n",
      "row negative\n",
      "['ironpython', 'class']\n",
      "row negative\n",
      "['python', 'script']\n",
      "['connect', 'mysql']\n",
      "row negative\n",
      "['android', 'studio']\n",
      "['sql', 'server']\n",
      "['response', 'server']\n",
      "row negative\n",
      "['get', 'server']\n",
      "row negative\n",
      "['jquery', 'post']\n",
      "['list', 'json']\n",
      "row negative\n",
      "['key', 'json']\n",
      "row negative\n",
      "['html', 'element']\n",
      "['ruby', 'rail']\n",
      "['asp', 'net']\n",
      "['java', 'util']\n",
      "['sql', 'code']\n",
      "['use', 'python']\n",
      "row negative\n",
      "['equivalent', 'sql']\n",
      "row negative\n",
      "['kubernetes', 'cluster']\n",
      "row negative\n",
      "['mysql', 'select']\n",
      "['php', 'use']\n",
      "['html', 'select']\n",
      "['invalid', 'html']\n",
      "row negative\n",
      "['function', 'javascript']\n",
      "row negative\n",
      "['url', 'jsp']\n",
      "row negative\n",
      "['file', 'server']\n",
      "row negative\n",
      "['server', 'restart']\n",
      "['java', 'proxy']\n",
      "['html', 'element']\n",
      "['aspect', 'ratio']\n",
      "row negative\n",
      "['net', 'core']\n",
      "['use', 'python']\n",
      "row negative\n",
      "['asp', 'net']\n",
      "['java', 'proxy']\n",
      "['string', 'server']\n",
      "row negative\n",
      "['json', 'array']\n",
      "['dot', 'net']\n",
      "row negative\n",
      "['server', 'connect']\n",
      "['textview', 'android']\n",
      "row negative\n",
      "['prebid', 'server']\n",
      "row negative\n",
      "['html', 'file']\n",
      "['html', 'render']\n",
      "['php', 'function']\n",
      "['debug', 'android']\n",
      "row negative\n",
      "['main', 'java']\n",
      "row negative\n",
      "['java', 'lang']\n",
      "['file', 'python']\n",
      "row negative\n",
      "['php', 'function']\n",
      "['recognize', 'json']\n",
      "row negative\n",
      "['vb', 'net']\n",
      "row negative\n",
      "['php', 'multidimensional']\n",
      "['java', 'code']\n",
      "['php', 'rename']\n",
      "['animation', 'wpf']\n",
      "row negative\n",
      "['java', 'util']\n",
      "['internal', 'server']\n",
      "row negative\n",
      "['java', 'util']\n",
      "['vb', 'net']\n",
      "row negative\n",
      "['file', 'server']\n",
      "row negative\n",
      "['android', 'app']\n",
      "['jquery', 'ui']\n",
      "['library', 'ruby']\n",
      "row negative\n",
      "['asp', 'net']\n",
      "['javascript', 'jquery']\n",
      "['jquery', 'work']\n",
      "['python', 'code']\n",
      "['jquery', 'ui']\n",
      "['sql', 'bulk']\n",
      "['send', 'server']\n",
      "row negative\n",
      "['server', 'explorer']\n",
      "['job', 'asp']\n",
      "row negative\n",
      "['java', 'util']\n",
      "['image', 'php']\n",
      "row negative\n",
      "['java', 'web']\n",
      "['php', 'query']\n",
      "['java', 'servlet']\n",
      "['optimize', 'sql']\n",
      "row negative\n",
      "['asp', 'net']\n",
      "['html', 'element']\n",
      "['html', 'element']\n",
      "['server', 'error']\n",
      "['mvc', 'net']\n",
      "row negative\n",
      "['sql', 'query']\n",
      "['net', 'mvc']\n",
      "['java', 'lang']\n",
      "['convert', 'sql']\n",
      "row negative\n",
      "['file', 'server']\n",
      "row negative\n",
      "['net', 'mvc']\n",
      "['sql', 'server']\n",
      "['use', 'python']\n",
      "row negative\n",
      "['jquery', 'method']\n",
      "['sql', 'server']\n",
      "['marionette', 'layoutview']\n",
      "row negative\n",
      "['file', 'server']\n",
      "row negative\n",
      "['java', 'lang']\n",
      "['android', 'market']\n",
      "['netbeans', 'recognize']\n",
      "row negative\n",
      "['net', 'core']\n",
      "['asp', 'net']\n",
      "['android', 'studio']\n",
      "['iphone', 'app']\n",
      "['use', 'java']\n",
      "row negative\n",
      "['file', 'php']\n",
      "row negative\n",
      "['search', 'server']\n",
      "row negative\n",
      "['jquery', 'post']\n",
      "['android', 'textview']\n",
      "['wpf', 'combobox']\n",
      "['asp', 'net']\n",
      "['java', 'lang']\n",
      "['use', 'jquery']\n",
      "row negative\n",
      "['php', 'url']\n",
      "['connect', 'server']\n",
      "row negative\n",
      "['java', 'web']\n",
      "['server', 'hostname']\n",
      "['java', 'util']\n",
      "['like', 'python']\n",
      "row negative\n",
      "['server', 'client']\n",
      "['java', 'util']\n",
      "['jsp', 'tag']\n",
      "row negative\n",
      "['jquery', 'event']\n",
      "['type', 'sql']\n",
      "row negative\n",
      "['android', 'widget']\n",
      "['server', 'error']\n",
      "['sql', 'server']\n",
      "['connection', 'server']\n",
      "row negative\n",
      "['imageview', 'android']\n",
      "row negative\n",
      "['asp', 'net']\n",
      "['use', 'php']\n",
      "row negative\n",
      "['loop', 'mysql']\n",
      "row negative\n",
      "['server', 'via']\n",
      "['html', 'cs']\n",
      "['service', 'python']\n",
      "row negative\n",
      "['array', 'php']\n",
      "row negative\n",
      "['heisenbugs', 'java']\n",
      "row negative\n",
      "['new', 'java']\n",
      "row negative\n",
      "['dot', 'net']\n",
      "row negative\n",
      "['java', 'applet']\n",
      "['column', 'mysql']\n",
      "row negative\n",
      "['java', 'util']\n",
      "['server', 'error']\n",
      "['php', 'send']\n",
      "['live', 'server']\n",
      "row negative\n",
      "['php', 'use']\n",
      "['index', 'php']\n",
      "row negative\n",
      "['connection', 'server']\n",
      "row negative\n",
      "['net', 'mvc']\n",
      "['asp', 'gridview']\n",
      "['use', 'android']\n",
      "row negative\n",
      "['net', 'website']\n",
      "['ajax', 'php']\n",
      "row negative\n",
      "['live', 'server']\n",
      "row negative\n",
      "['javascript', 'code']\n",
      "['java', 'code']\n",
      "['connect', 'mysql']\n",
      "row negative\n",
      "['server', 'error']\n",
      "['jquery', 'ui']\n",
      "['problem', 'javascript']\n",
      "row negative\n",
      "['vb', 'net']\n",
      "row negative\n",
      "['project', 'server']\n",
      "row negative\n",
      "['web', 'server']\n",
      "row negative\n",
      "['python', 'module']\n",
      "['html', 'form']\n",
      "['java', 'code']\n",
      "['function', 'php']\n",
      "row negative\n",
      "['python', 'list']\n",
      "['server', 'code']\n",
      "['create', 'sql']\n",
      "row negative\n",
      "['change', 'php']\n",
      "row negative\n",
      "['like', 'sql']\n",
      "row negative\n",
      "['server', 'explorer']\n",
      "['android', 'app']\n",
      "['use', 'java']\n",
      "row negative\n",
      "['asp', 'net']\n",
      "['php', 'mysql']\n",
      "['javascript', 'function']\n",
      "['java', 'util']\n",
      "['net', 'website']\n",
      "['send', 'server']\n",
      "row negative\n",
      "['error', 'java']\n",
      "row negative\n",
      "['sql', 'server']\n",
      "['server', 'user']\n",
      "['php', 'file']\n",
      "['ruby', 'rail']\n",
      "['asp', 'net']\n",
      "['pear', 'php']\n",
      "row negative\n",
      "['android', 'app']\n",
      "['set', 'html']\n",
      "row negative\n",
      "['javascript', 'java']\n",
      "['json', 'parse']\n",
      "['android', 'image']\n",
      "['use', 'php']\n",
      "row negative\n",
      "['python', 'module']\n",
      "['sql', 'server']\n",
      "['new', 'java']\n",
      "row negative\n",
      "['sql', 'server']\n",
      "['sql', 'query']\n",
      "['jquery', 'get']\n",
      "['remote', 'server']\n",
      "row negative\n",
      "['example', 'html']\n",
      "row negative\n",
      "['jquery', 'ui']\n",
      "['snappy', 'wkhtmltopdf']\n",
      "row negative\n",
      "['html', 'select']\n",
      "['java', 'util']\n",
      "['java', 'program']\n",
      "['server', 'run']\n",
      "['php', 'code']\n",
      "['php', 'function']\n",
      "['start', 'jstatd']\n",
      "row negative\n",
      "['server', 'http']\n",
      "['internal', 'server']\n",
      "row negative\n",
      "['option', 'html']\n",
      "row negative\n",
      "['server', 'restart']\n",
      "['php', 'mysql']\n",
      "['ruby', 'rail']\n",
      "['server', 'side']\n",
      "['server', 'error']\n",
      "['create', 'sql']\n",
      "row negative\n",
      "['server', 'file']\n",
      "['template', 'html']\n",
      "row negative\n",
      "['javascript', 'function']\n",
      "['asp', 'net']\n",
      "['node', 'kubernetes']\n",
      "row negative\n",
      "['asp', 'net']\n",
      "['screen', 'android']\n",
      "row negative\n",
      "['java', 'error']\n",
      "['sql', 'server']\n",
      "['asp', 'net']\n",
      "['textview', 'android']\n",
      "row negative\n",
      "['use', 'android']\n",
      "row negative\n",
      "['php', 'url']\n",
      "['log', 'kubernetes']\n",
      "row negative\n",
      "['javascript', 'jquery']\n",
      "['iphone', 'app']\n",
      "['php', 'code']\n",
      "['gprs', 'internet']\n",
      "row negative\n",
      "['array', 'php']\n",
      "row negative\n",
      "['server', 'use']\n",
      "['problem', 'sql']\n",
      "row negative\n",
      "['html', 'twig']\n",
      "['subnet', 'mask']\n",
      "row negative\n",
      "['jquery', 'get']\n",
      "['java', 'error']\n",
      "['python', 'code']\n",
      "['external', 'python']\n",
      "row negative\n",
      "['program', 'python']\n",
      "row negative\n",
      "['server', 'side']\n",
      "['web', 'server']\n",
      "row negative\n",
      "['java', 'util']\n",
      "['json', 'file']\n",
      "['internet', 'explorer']\n",
      "row negative\n",
      "['php', 'file']\n",
      "['php', 'file']\n",
      "['html', 'element']\n",
      "['asp', 'net']\n",
      "['big', 'html']\n",
      "row negative\n",
      "['parse', 'json']\n",
      "row negative\n",
      "['android', 'asynctask']\n",
      "['android', 'widget']\n",
      "['server', 'side']\n",
      "['android', 'webview']\n",
      "['php', 'file']\n",
      "['json', 'file']\n",
      "['android', 'studio']\n",
      "['android', 'asynctask']\n",
      "['net', 'core']\n",
      "['server', 'user']\n",
      "['unsigned', 'mysql']\n",
      "row negative\n",
      "['show', 'html']\n",
      "row negative\n",
      "['index', 'php']\n",
      "row negative\n",
      "['file', 'php']\n",
      "row negative\n",
      "['php', 'function']\n",
      "['string', 'server']\n",
      "row negative\n",
      "['exception', 'java']\n",
      "row negative\n",
      "['div', 'jquery']\n",
      "row negative\n",
      "['sql', 'file']\n",
      "['java', 'lang']\n",
      "['php', 'url']\n",
      "['example', 'html']\n",
      "row negative\n",
      "['client', 'java']\n",
      "row negative\n",
      "['net', 'framework']\n",
      "['php', 'error']\n",
      "['iphone', 'flash']\n",
      "['index', 'php']\n",
      "row negative\n",
      "['index', 'php']\n",
      "row negative\n",
      "['java', 'lang']\n",
      "['server', 'side']\n",
      "['sql', 'server']\n",
      "['server', 'user']\n",
      "['iphone', 'app']\n",
      "['internet', 'connection']\n",
      "row negative\n",
      "['php', 'send']\n",
      "['use', 'php']\n",
      "row negative\n",
      "['android', 'studio']\n",
      "['program', 'python']\n",
      "row negative\n",
      "['element', 'sql']\n",
      "row negative\n",
      "['java', 'ee']\n",
      "['android', 'text']\n",
      "['html', 'form']\n",
      "['sql', 'server']\n",
      "['html', 'list']\n",
      "['python', 'script']\n",
      "['connect', 'server']\n",
      "row negative\n",
      "['net', 'framework']\n",
      "['mysql', 'php']\n",
      "['linq', 'sql']\n",
      "row negative\n",
      "['invoke', 'sqlcmd']\n",
      "row negative\n",
      "['server', 'ip']\n",
      "['android', 'app']\n",
      "['remote', 'server']\n",
      "row negative\n",
      "['sql', 'server']\n",
      "['via', 'java']\n",
      "row negative\n",
      "['javascript', 'array']\n",
      "['check', 'javascript']\n",
      "row negative\n",
      "['json', 'parse']\n",
      "['template', 'html']\n",
      "row negative\n",
      "['jquery', 'like']\n",
      "['jquery', 'countdown']\n",
      "['android', 'app']\n",
      "['problem', 'sql']\n",
      "row negative\n",
      "['net', 'website']\n",
      "['json', 'parse']\n",
      "['index', 'php']\n",
      "row negative\n",
      "['html', 'email']\n"
     ]
    },
    {
     "name": "stdout",
     "output_type": "stream",
     "text": [
      "['json', 'parse']\n",
      "['textview', 'android']\n",
      "row negative\n",
      "['jquery', 'cycle']\n",
      "['sql', 'statement']\n",
      "['use', 'python']\n",
      "row negative\n",
      "['net', 'mvc']\n",
      "['jquery', 'post']\n",
      "['javascript', 'file']\n",
      "['java', 'swing']\n",
      "['check', 'javascript']\n",
      "row negative\n",
      "['file', 'server']\n",
      "row negative\n",
      "['set', 'html']\n",
      "row negative\n",
      "['android', 'studio']\n",
      "['asp', 'net']\n",
      "['asp', 'net']\n",
      "['asp', 'net']\n",
      "['collection', 'java']\n",
      "row negative\n",
      "['work', 'sql']\n",
      "row negative\n",
      "['iphone', 'app']\n",
      "['java', 'program']\n",
      "['like', 'python']\n",
      "row negative\n",
      "['sql', 'server']\n",
      "['use', 'java']\n",
      "row negative\n",
      "['json', 'content']\n",
      "['div', 'jquery']\n",
      "row negative\n",
      "['pythonic', 'way']\n",
      "row negative\n",
      "['mysql', 'query']\n",
      "['optimize', 'sql']\n",
      "row negative\n",
      "['wpf', 'window']\n",
      "['mysql', 'query']\n",
      "['like', 'java']\n",
      "row negative\n",
      "['asp', 'net']\n",
      "['parse', 'json']\n",
      "row negative\n",
      "['java', 'lang']\n",
      "['border', 'android']\n",
      "row negative\n",
      "['python', 'list']\n",
      "['textview', 'android']\n",
      "row negative\n",
      "['change', 'html']\n",
      "row negative\n",
      "['iphone', 'simulator']\n",
      "['use', 'python']\n",
      "row negative\n",
      "['web', 'server']\n",
      "row negative\n",
      "['use', 'python']\n",
      "row negative\n",
      "['internet', 'connection']\n",
      "row negative\n",
      "['sql', 'check']\n",
      "['asp', 'net']\n",
      "['net', 'core']\n",
      "['connect', 'mysql']\n",
      "row negative\n",
      "['html', 'cs']\n",
      "['html', 'content']\n",
      "['sql', 'server']\n",
      "['javascript', 'error']\n",
      "['aspect', 'ratio']\n",
      "row negative\n",
      "['use', 'python']\n",
      "row negative\n",
      "['vb', 'net']\n",
      "row negative\n",
      "['net', 'mvc']\n",
      "['html', 'file']\n",
      "['java', 'util']\n",
      "['server', 'via']\n",
      "['use', 'server']\n",
      "row negative\n",
      "['ajax', 'php']\n",
      "row negative\n",
      "['ssh', 'net']\n",
      "row negative\n",
      "['asp', 'net']\n",
      "['buffer', 'xaudiojs']\n",
      "row negative\n",
      "['post', 'html']\n",
      "row negative\n",
      "['network', 'policy']\n",
      "row negative\n",
      "['java', 'web']\n",
      "['iphone', 'simulator']\n",
      "['wpf', 'polyline']\n",
      "['another', 'html']\n",
      "row negative\n",
      "['android', 'webview']\n",
      "['java', 'use']\n",
      "['asp', 'net']\n",
      "['object', 'json']\n",
      "row negative\n",
      "['android', 'studio']\n",
      "['asp', 'net']\n",
      "['jquery', 'ui']\n",
      "['stingray', 'objective']\n",
      "row negative\n",
      "['sql', 'server']\n",
      "['size', 'python']\n",
      "row negative\n",
      "['java', 'util']\n",
      "['image', 'html']\n",
      "row negative\n",
      "['html', 'cs']\n",
      "['click', 'javascript']\n",
      "row negative\n",
      "['server', 'use']\n",
      "['vb', 'net']\n",
      "row negative\n",
      "['net', 'mvc']\n",
      "['asp', 'net']\n",
      "['html', 'form']\n",
      "['authorization', 'net']\n",
      "row negative\n",
      "['java', 'code']\n",
      "['internal', 'server']\n",
      "row negative\n",
      "['json', 'content']\n",
      "['sql', 'server']\n",
      "['javascript', 'function']\n",
      "['via', 'sqlalchemy']\n",
      "row negative\n",
      "['pecl', 'php']\n",
      "row negative\n",
      "['div', 'jquery']\n",
      "row negative\n",
      "['jquery', 'ajax']\n",
      "['sql', 'code']\n",
      "['java', 'net']\n",
      "['use', 'jquery']\n",
      "row negative\n",
      "['loop', 'mysql']\n",
      "row negative\n"
     ]
    }
   ],
   "source": [
    "y=dfTFIDFCommonTarget.apply(lambda row:getClass(row),axis=1)"
   ]
  },
  {
   "cell_type": "code",
   "execution_count": 9,
   "id": "4bb75483",
   "metadata": {},
   "outputs": [
    {
     "data": {
      "text/plain": [
       "<AxesSubplot:>"
      ]
     },
     "execution_count": 9,
     "metadata": {},
     "output_type": "execute_result"
    },
    {
     "data": {
      "image/png": "[encoded data removed]",
      "text/plain": [
       "<Figure size 432x288 with 1 Axes>"
      ]
     },
     "metadata": {},
     "output_type": "display_data"
    }
   ],
   "source": [
    "y.hist()"
   ]
  },
  {
   "cell_type": "code",
   "execution_count": 10,
   "id": "0080d433",
   "metadata": {},
   "outputs": [
    {
     "data": {
      "text/plain": [
       "((1400, 2964), (600, 2964), (1400,), (600,))"
      ]
     },
     "execution_count": 10,
     "metadata": {},
     "output_type": "execute_result"
    }
   ],
   "source": [
    "X_train, X_test, y_train, y_test=train_test_split(X,y,test_size=0.3,random_state = 49)\n",
    "X_train.shape, X_test.shape, y_train.shape, y_test.shape"
   ]
  },
  {
   "cell_type": "markdown",
   "id": "12037e59",
   "metadata": {},
   "source": [
    "## Bayes naïf"
   ]
  },
  {
   "cell_type": "code",
   "execution_count": 11,
   "id": "caef413f",
   "metadata": {},
   "outputs": [
    {
     "data": {
      "text/plain": [
       "((1400,), (600,))"
      ]
     },
     "execution_count": 11,
     "metadata": {},
     "output_type": "execute_result"
    }
   ],
   "source": [
    "NaiveBayes = naive_bayes.GaussianNB().fit(X_train, y_train)\n",
    "y_pred_train=NaiveBayes.predict(X_train)\n",
    "y_pred_test=NaiveBayes.predict(X_test)\n",
    "y_pred_train.shape,y_pred_test.shape"
   ]
  },
  {
   "cell_type": "code",
   "execution_count": 12,
   "id": "bd34f0f4",
   "metadata": {},
   "outputs": [
    {
     "data": {
      "text/plain": [
       "array([-1,  0,  1,  2,  3,  4,  5,  6,  7,  8,  9, 10, 11, 13, 14, 16, 17,\n",
       "       18])"
      ]
     },
     "execution_count": 12,
     "metadata": {},
     "output_type": "execute_result"
    }
   ],
   "source": [
    "np.unique(y_pred_train)"
   ]
  },
  {
   "cell_type": "code",
   "execution_count": 13,
   "id": "7f887aec",
   "metadata": {},
   "outputs": [
    {
     "data": {
      "text/plain": [
       "(array([881.,  94.,  80.,  55.,  85.,  43.,  13.,   8.,  57.,  84.]),\n",
       " array([-1. ,  0.9,  2.8,  4.7,  6.6,  8.5, 10.4, 12.3, 14.2, 16.1, 18. ]),\n",
       " <BarContainer object of 10 artists>)"
      ]
     },
     "execution_count": 13,
     "metadata": {},
     "output_type": "execute_result"
    },
    {
     "data": {
      "image/png": "[encoded data removed]",
      "text/plain": [
       "<Figure size 432x288 with 1 Axes>"
      ]
     },
     "metadata": {},
     "output_type": "display_data"
    }
   ],
   "source": [
    "plt.hist(y_pred_train)"
   ]
  },
  {
   "cell_type": "code",
   "execution_count": 14,
   "id": "4ac26720",
   "metadata": {},
   "outputs": [
    {
     "data": {
      "text/plain": [
       "(0.5066666666666667, -2.4850252326731415)"
      ]
     },
     "execution_count": 14,
     "metadata": {},
     "output_type": "execute_result"
    }
   ],
   "source": [
    "# scores exactitude, r2\n",
    "accuracy = accuracy_score(y_test, y_pred_test) \n",
    "r2 = r2_score(y_test,y_pred_test)\n",
    "accuracy, r2"
   ]
  },
  {
   "cell_type": "code",
   "execution_count": 15,
   "id": "918f0bd4",
   "metadata": {},
   "outputs": [
    {
     "data": {
      "text/plain": [
       "(array([-1,  0,  1,  2,  3,  4,  5,  6,  7,  8,  9, 10, 11, 13, 16, 17, 18]),\n",
       " array([-1,  0,  1,  2,  3,  4,  5,  6,  7,  8,  9, 10, 11, 13, 16, 17, 18]))"
      ]
     },
     "execution_count": 15,
     "metadata": {},
     "output_type": "execute_result"
    }
   ],
   "source": [
    "np.unique(y_test), np.unique(y_pred_test)"
   ]
  },
  {
   "cell_type": "code",
   "execution_count": 16,
   "id": "c7aa4ec2",
   "metadata": {},
   "outputs": [
    {
     "data": {
      "text/html": [
       "<div>\n",
       "<style scoped>\n",
       "    .dataframe tbody tr th:only-of-type {\n",
       "        vertical-align: middle;\n",
       "    }\n",
       "\n",
       "    .dataframe tbody tr th {\n",
       "        vertical-align: top;\n",
       "    }\n",
       "\n",
       "    .dataframe thead th {\n",
       "        text-align: right;\n",
       "    }\n",
       "</style>\n",
       "<table border=\"1\" class=\"dataframe\">\n",
       "  <thead>\n",
       "    <tr style=\"text-align: right;\">\n",
       "      <th></th>\n",
       "      <th>Class</th>\n",
       "      <th>TP</th>\n",
       "      <th>FP</th>\n",
       "      <th>TN</th>\n",
       "      <th>FN</th>\n",
       "      <th>TPR</th>\n",
       "      <th>FPR</th>\n",
       "      <th>Accuracy</th>\n",
       "    </tr>\n",
       "  </thead>\n",
       "  <tbody>\n",
       "    <tr>\n",
       "      <th>0</th>\n",
       "      <td>-1</td>\n",
       "      <td>248</td>\n",
       "      <td>72</td>\n",
       "      <td>56</td>\n",
       "      <td>190</td>\n",
       "      <td>0.566210</td>\n",
       "      <td>0.562500</td>\n",
       "      <td>0.537102</td>\n",
       "    </tr>\n",
       "    <tr>\n",
       "      <th>1</th>\n",
       "      <td>0</td>\n",
       "      <td>0</td>\n",
       "      <td>4</td>\n",
       "      <td>304</td>\n",
       "      <td>8</td>\n",
       "      <td>0.000000</td>\n",
       "      <td>0.012987</td>\n",
       "      <td>0.962025</td>\n",
       "    </tr>\n",
       "    <tr>\n",
       "      <th>2</th>\n",
       "      <td>1</td>\n",
       "      <td>5</td>\n",
       "      <td>12</td>\n",
       "      <td>299</td>\n",
       "      <td>6</td>\n",
       "      <td>0.454545</td>\n",
       "      <td>0.038585</td>\n",
       "      <td>0.944099</td>\n",
       "    </tr>\n",
       "    <tr>\n",
       "      <th>3</th>\n",
       "      <td>2</td>\n",
       "      <td>8</td>\n",
       "      <td>21</td>\n",
       "      <td>296</td>\n",
       "      <td>6</td>\n",
       "      <td>0.571429</td>\n",
       "      <td>0.066246</td>\n",
       "      <td>0.918429</td>\n",
       "    </tr>\n",
       "    <tr>\n",
       "      <th>4</th>\n",
       "      <td>3</td>\n",
       "      <td>10</td>\n",
       "      <td>14</td>\n",
       "      <td>294</td>\n",
       "      <td>12</td>\n",
       "      <td>0.454545</td>\n",
       "      <td>0.045455</td>\n",
       "      <td>0.921212</td>\n",
       "    </tr>\n",
       "    <tr>\n",
       "      <th>5</th>\n",
       "      <td>4</td>\n",
       "      <td>7</td>\n",
       "      <td>13</td>\n",
       "      <td>297</td>\n",
       "      <td>10</td>\n",
       "      <td>0.411765</td>\n",
       "      <td>0.041935</td>\n",
       "      <td>0.929664</td>\n",
       "    </tr>\n",
       "    <tr>\n",
       "      <th>6</th>\n",
       "      <td>5</td>\n",
       "      <td>2</td>\n",
       "      <td>5</td>\n",
       "      <td>302</td>\n",
       "      <td>6</td>\n",
       "      <td>0.250000</td>\n",
       "      <td>0.016287</td>\n",
       "      <td>0.965079</td>\n",
       "    </tr>\n",
       "    <tr>\n",
       "      <th>7</th>\n",
       "      <td>6</td>\n",
       "      <td>1</td>\n",
       "      <td>5</td>\n",
       "      <td>303</td>\n",
       "      <td>9</td>\n",
       "      <td>0.100000</td>\n",
       "      <td>0.016234</td>\n",
       "      <td>0.955975</td>\n",
       "    </tr>\n",
       "    <tr>\n",
       "      <th>8</th>\n",
       "      <td>7</td>\n",
       "      <td>5</td>\n",
       "      <td>12</td>\n",
       "      <td>299</td>\n",
       "      <td>11</td>\n",
       "      <td>0.312500</td>\n",
       "      <td>0.038585</td>\n",
       "      <td>0.929664</td>\n",
       "    </tr>\n",
       "    <tr>\n",
       "      <th>9</th>\n",
       "      <td>8</td>\n",
       "      <td>8</td>\n",
       "      <td>12</td>\n",
       "      <td>296</td>\n",
       "      <td>2</td>\n",
       "      <td>0.800000</td>\n",
       "      <td>0.038961</td>\n",
       "      <td>0.955975</td>\n",
       "    </tr>\n",
       "    <tr>\n",
       "      <th>10</th>\n",
       "      <td>9</td>\n",
       "      <td>0</td>\n",
       "      <td>6</td>\n",
       "      <td>304</td>\n",
       "      <td>4</td>\n",
       "      <td>0.000000</td>\n",
       "      <td>0.019355</td>\n",
       "      <td>0.968153</td>\n",
       "    </tr>\n",
       "    <tr>\n",
       "      <th>11</th>\n",
       "      <td>10</td>\n",
       "      <td>1</td>\n",
       "      <td>14</td>\n",
       "      <td>303</td>\n",
       "      <td>5</td>\n",
       "      <td>0.166667</td>\n",
       "      <td>0.044164</td>\n",
       "      <td>0.941176</td>\n",
       "    </tr>\n",
       "    <tr>\n",
       "      <th>12</th>\n",
       "      <td>11</td>\n",
       "      <td>0</td>\n",
       "      <td>2</td>\n",
       "      <td>304</td>\n",
       "      <td>1</td>\n",
       "      <td>0.000000</td>\n",
       "      <td>0.006536</td>\n",
       "      <td>0.990228</td>\n",
       "    </tr>\n",
       "    <tr>\n",
       "      <th>13</th>\n",
       "      <td>13</td>\n",
       "      <td>1</td>\n",
       "      <td>4</td>\n",
       "      <td>303</td>\n",
       "      <td>0</td>\n",
       "      <td>1.000000</td>\n",
       "      <td>0.013029</td>\n",
       "      <td>0.987013</td>\n",
       "    </tr>\n",
       "    <tr>\n",
       "      <th>14</th>\n",
       "      <td>16</td>\n",
       "      <td>5</td>\n",
       "      <td>19</td>\n",
       "      <td>299</td>\n",
       "      <td>20</td>\n",
       "      <td>0.200000</td>\n",
       "      <td>0.059748</td>\n",
       "      <td>0.886297</td>\n",
       "    </tr>\n",
       "    <tr>\n",
       "      <th>15</th>\n",
       "      <td>17</td>\n",
       "      <td>1</td>\n",
       "      <td>67</td>\n",
       "      <td>303</td>\n",
       "      <td>0</td>\n",
       "      <td>1.000000</td>\n",
       "      <td>0.181081</td>\n",
       "      <td>0.819407</td>\n",
       "    </tr>\n",
       "    <tr>\n",
       "      <th>16</th>\n",
       "      <td>18</td>\n",
       "      <td>2</td>\n",
       "      <td>14</td>\n",
       "      <td>302</td>\n",
       "      <td>6</td>\n",
       "      <td>0.250000</td>\n",
       "      <td>0.044304</td>\n",
       "      <td>0.938272</td>\n",
       "    </tr>\n",
       "  </tbody>\n",
       "</table>\n",
       "</div>"
      ],
      "text/plain": [
       "    Class   TP  FP   TN   FN       TPR       FPR  Accuracy\n",
       "0      -1  248  72   56  190  0.566210  0.562500  0.537102\n",
       "1       0    0   4  304    8  0.000000  0.012987  0.962025\n",
       "2       1    5  12  299    6  0.454545  0.038585  0.944099\n",
       "3       2    8  21  296    6  0.571429  0.066246  0.918429\n",
       "4       3   10  14  294   12  0.454545  0.045455  0.921212\n",
       "5       4    7  13  297   10  0.411765  0.041935  0.929664\n",
       "6       5    2   5  302    6  0.250000  0.016287  0.965079\n",
       "7       6    1   5  303    9  0.100000  0.016234  0.955975\n",
       "8       7    5  12  299   11  0.312500  0.038585  0.929664\n",
       "9       8    8  12  296    2  0.800000  0.038961  0.955975\n",
       "10      9    0   6  304    4  0.000000  0.019355  0.968153\n",
       "11     10    1  14  303    5  0.166667  0.044164  0.941176\n",
       "12     11    0   2  304    1  0.000000  0.006536  0.990228\n",
       "13     13    1   4  303    0  1.000000  0.013029  0.987013\n",
       "14     16    5  19  299   20  0.200000  0.059748  0.886297\n",
       "15     17    1  67  303    0  1.000000  0.181081  0.819407\n",
       "16     18    2  14  302    6  0.250000  0.044304  0.938272"
      ]
     },
     "execution_count": 16,
     "metadata": {},
     "output_type": "execute_result"
    }
   ],
   "source": [
    "dfConfusion=confusionMatrixAcc(y_test, y_pred_test)\n",
    "dfConfusion.sort_values(by='Class')"
   ]
  },
  {
   "cell_type": "markdown",
   "id": "b0804251",
   "metadata": {},
   "source": [
    "## Random forest"
   ]
  },
  {
   "cell_type": "code",
   "execution_count": 47,
   "id": "98c5e760",
   "metadata": {},
   "outputs": [
    {
     "data": {
      "text/plain": [
       "RandomForestClassifier(random_state=0)"
      ]
     },
     "execution_count": 47,
     "metadata": {},
     "output_type": "execute_result"
    }
   ],
   "source": [
    "rfc = RandomForestClassifier(random_state=0)\n",
    "\n",
    "rfc.fit(X_train, y_train)"
   ]
  },
  {
   "cell_type": "code",
   "execution_count": 48,
   "id": "9b941efc",
   "metadata": {},
   "outputs": [
    {
     "data": {
      "text/plain": [
       "array([-1,  0,  1,  2,  3,  4,  5,  6,  7,  8,  9, 10, 11, 13, 14, 16, 17,\n",
       "       18])"
      ]
     },
     "execution_count": 48,
     "metadata": {},
     "output_type": "execute_result"
    }
   ],
   "source": [
    "y_pred_train=rfc.predict(X_train)\n",
    "y_pred_test=rfc.predict(X_test)\n",
    "np.unique(y_pred_train)"
   ]
  },
  {
   "cell_type": "code",
   "execution_count": 51,
   "id": "d0180dc1",
   "metadata": {},
   "outputs": [
    {
     "data": {
      "text/plain": [
       "(array([1.012e+03, 3.800e+01, 4.500e+01, 4.600e+01, 1.700e+01, 1.900e+01,\n",
       "        2.700e+01, 3.300e+01, 3.500e+01, 1.500e+01, 2.700e+01, 1.000e+01,\n",
       "        0.000e+00, 5.000e+00, 1.000e+00, 0.000e+00, 5.200e+01, 1.800e+01]),\n",
       " array([-1.        ,  0.05555556,  1.11111111,  2.16666667,  3.22222222,\n",
       "         4.27777778,  5.33333333,  6.38888889,  7.44444444,  8.5       ,\n",
       "         9.55555556, 10.61111111, 11.66666667, 12.72222222, 13.77777778,\n",
       "        14.83333333, 15.88888889, 16.94444444, 18.        ]),\n",
       " <BarContainer object of 18 artists>)"
      ]
     },
     "execution_count": 51,
     "metadata": {},
     "output_type": "execute_result"
    },
    {
     "data": {
      "image/png": "[encoded data removed]",
      "text/plain": [
       "<Figure size 432x288 with 1 Axes>"
      ]
     },
     "metadata": {},
     "output_type": "display_data"
    }
   ],
   "source": [
    "bins=len(np.unique(y_pred_train))\n",
    "plt.hist(y_pred_train,bins=bins)"
   ]
  },
  {
   "cell_type": "code",
   "execution_count": 20,
   "id": "b0006822",
   "metadata": {},
   "outputs": [
    {
     "data": {
      "text/plain": [
       "(0.8383333333333334, 0.09577638018918178)"
      ]
     },
     "execution_count": 20,
     "metadata": {},
     "output_type": "execute_result"
    }
   ],
   "source": [
    "# scores exactitude, r2\n",
    "accuracy = accuracy_score(y_test, y_pred_test) \n",
    "r2 = r2_score(y_test,y_pred_test)\n",
    "accuracy, r2"
   ]
  },
  {
   "cell_type": "code",
   "execution_count": 21,
   "id": "b38a0c42",
   "metadata": {},
   "outputs": [
    {
     "data": {
      "text/plain": [
       "((600,), (600,))"
      ]
     },
     "execution_count": 21,
     "metadata": {},
     "output_type": "execute_result"
    }
   ],
   "source": [
    "y_test.shape,y_pred_test.shape"
   ]
  },
  {
   "cell_type": "code",
   "execution_count": 22,
   "id": "7c6e8c71",
   "metadata": {},
   "outputs": [
    {
     "data": {
      "text/plain": [
       "(array([-1,  0,  1,  2,  3,  4,  5,  6,  7,  8,  9, 10, 11, 13, 16, 17, 18]),\n",
       " array([-1,  0,  1,  2,  3,  4,  5,  6,  7,  8, 10, 11, 16, 17, 18]))"
      ]
     },
     "execution_count": 22,
     "metadata": {},
     "output_type": "execute_result"
    }
   ],
   "source": [
    "np.unique(y_test), np.unique(y_pred_test)"
   ]
  },
  {
   "cell_type": "code",
   "execution_count": 23,
   "id": "ec11c574",
   "metadata": {},
   "outputs": [
    {
     "data": {
      "text/html": [
       "<div>\n",
       "<style scoped>\n",
       "    .dataframe tbody tr th:only-of-type {\n",
       "        vertical-align: middle;\n",
       "    }\n",
       "\n",
       "    .dataframe tbody tr th {\n",
       "        vertical-align: top;\n",
       "    }\n",
       "\n",
       "    .dataframe thead th {\n",
       "        text-align: right;\n",
       "    }\n",
       "</style>\n",
       "<table border=\"1\" class=\"dataframe\">\n",
       "  <thead>\n",
       "    <tr style=\"text-align: right;\">\n",
       "      <th></th>\n",
       "      <th>Class</th>\n",
       "      <th>TP</th>\n",
       "      <th>FP</th>\n",
       "      <th>TN</th>\n",
       "      <th>FN</th>\n",
       "      <th>TPR</th>\n",
       "      <th>FPR</th>\n",
       "      <th>Accuracy</th>\n",
       "    </tr>\n",
       "  </thead>\n",
       "  <tbody>\n",
       "    <tr>\n",
       "      <th>0</th>\n",
       "      <td>-1</td>\n",
       "      <td>437</td>\n",
       "      <td>82</td>\n",
       "      <td>55</td>\n",
       "      <td>1</td>\n",
       "      <td>0.997717</td>\n",
       "      <td>0.598540</td>\n",
       "      <td>0.855652</td>\n",
       "    </tr>\n",
       "    <tr>\n",
       "      <th>1</th>\n",
       "      <td>0</td>\n",
       "      <td>4</td>\n",
       "      <td>0</td>\n",
       "      <td>488</td>\n",
       "      <td>4</td>\n",
       "      <td>0.500000</td>\n",
       "      <td>0.000000</td>\n",
       "      <td>0.991935</td>\n",
       "    </tr>\n",
       "    <tr>\n",
       "      <th>2</th>\n",
       "      <td>1</td>\n",
       "      <td>7</td>\n",
       "      <td>2</td>\n",
       "      <td>485</td>\n",
       "      <td>4</td>\n",
       "      <td>0.636364</td>\n",
       "      <td>0.004107</td>\n",
       "      <td>0.987952</td>\n",
       "    </tr>\n",
       "    <tr>\n",
       "      <th>3</th>\n",
       "      <td>2</td>\n",
       "      <td>8</td>\n",
       "      <td>1</td>\n",
       "      <td>484</td>\n",
       "      <td>6</td>\n",
       "      <td>0.571429</td>\n",
       "      <td>0.002062</td>\n",
       "      <td>0.985972</td>\n",
       "    </tr>\n",
       "    <tr>\n",
       "      <th>4</th>\n",
       "      <td>3</td>\n",
       "      <td>9</td>\n",
       "      <td>2</td>\n",
       "      <td>483</td>\n",
       "      <td>13</td>\n",
       "      <td>0.409091</td>\n",
       "      <td>0.004124</td>\n",
       "      <td>0.970414</td>\n",
       "    </tr>\n",
       "    <tr>\n",
       "      <th>5</th>\n",
       "      <td>4</td>\n",
       "      <td>2</td>\n",
       "      <td>0</td>\n",
       "      <td>490</td>\n",
       "      <td>15</td>\n",
       "      <td>0.117647</td>\n",
       "      <td>0.000000</td>\n",
       "      <td>0.970414</td>\n",
       "    </tr>\n",
       "    <tr>\n",
       "      <th>6</th>\n",
       "      <td>5</td>\n",
       "      <td>4</td>\n",
       "      <td>0</td>\n",
       "      <td>488</td>\n",
       "      <td>4</td>\n",
       "      <td>0.500000</td>\n",
       "      <td>0.000000</td>\n",
       "      <td>0.991935</td>\n",
       "    </tr>\n",
       "    <tr>\n",
       "      <th>7</th>\n",
       "      <td>6</td>\n",
       "      <td>7</td>\n",
       "      <td>1</td>\n",
       "      <td>485</td>\n",
       "      <td>3</td>\n",
       "      <td>0.700000</td>\n",
       "      <td>0.002058</td>\n",
       "      <td>0.991935</td>\n",
       "    </tr>\n",
       "    <tr>\n",
       "      <th>8</th>\n",
       "      <td>7</td>\n",
       "      <td>11</td>\n",
       "      <td>0</td>\n",
       "      <td>481</td>\n",
       "      <td>5</td>\n",
       "      <td>0.687500</td>\n",
       "      <td>0.000000</td>\n",
       "      <td>0.989940</td>\n",
       "    </tr>\n",
       "    <tr>\n",
       "      <th>9</th>\n",
       "      <td>8</td>\n",
       "      <td>3</td>\n",
       "      <td>0</td>\n",
       "      <td>489</td>\n",
       "      <td>7</td>\n",
       "      <td>0.300000</td>\n",
       "      <td>0.000000</td>\n",
       "      <td>0.985972</td>\n",
       "    </tr>\n",
       "    <tr>\n",
       "      <th>10</th>\n",
       "      <td>10</td>\n",
       "      <td>5</td>\n",
       "      <td>9</td>\n",
       "      <td>487</td>\n",
       "      <td>1</td>\n",
       "      <td>0.833333</td>\n",
       "      <td>0.018145</td>\n",
       "      <td>0.980080</td>\n",
       "    </tr>\n",
       "    <tr>\n",
       "      <th>11</th>\n",
       "      <td>11</td>\n",
       "      <td>1</td>\n",
       "      <td>0</td>\n",
       "      <td>491</td>\n",
       "      <td>0</td>\n",
       "      <td>1.000000</td>\n",
       "      <td>0.000000</td>\n",
       "      <td>1.000000</td>\n",
       "    </tr>\n",
       "    <tr>\n",
       "      <th>12</th>\n",
       "      <td>16</td>\n",
       "      <td>2</td>\n",
       "      <td>0</td>\n",
       "      <td>490</td>\n",
       "      <td>23</td>\n",
       "      <td>0.080000</td>\n",
       "      <td>0.000000</td>\n",
       "      <td>0.955340</td>\n",
       "    </tr>\n",
       "    <tr>\n",
       "      <th>13</th>\n",
       "      <td>17</td>\n",
       "      <td>1</td>\n",
       "      <td>0</td>\n",
       "      <td>491</td>\n",
       "      <td>0</td>\n",
       "      <td>1.000000</td>\n",
       "      <td>0.000000</td>\n",
       "      <td>1.000000</td>\n",
       "    </tr>\n",
       "    <tr>\n",
       "      <th>14</th>\n",
       "      <td>18</td>\n",
       "      <td>2</td>\n",
       "      <td>0</td>\n",
       "      <td>490</td>\n",
       "      <td>6</td>\n",
       "      <td>0.250000</td>\n",
       "      <td>0.000000</td>\n",
       "      <td>0.987952</td>\n",
       "    </tr>\n",
       "  </tbody>\n",
       "</table>\n",
       "</div>"
      ],
      "text/plain": [
       "    Class   TP  FP   TN  FN       TPR       FPR  Accuracy\n",
       "0      -1  437  82   55   1  0.997717  0.598540  0.855652\n",
       "1       0    4   0  488   4  0.500000  0.000000  0.991935\n",
       "2       1    7   2  485   4  0.636364  0.004107  0.987952\n",
       "3       2    8   1  484   6  0.571429  0.002062  0.985972\n",
       "4       3    9   2  483  13  0.409091  0.004124  0.970414\n",
       "5       4    2   0  490  15  0.117647  0.000000  0.970414\n",
       "6       5    4   0  488   4  0.500000  0.000000  0.991935\n",
       "7       6    7   1  485   3  0.700000  0.002058  0.991935\n",
       "8       7   11   0  481   5  0.687500  0.000000  0.989940\n",
       "9       8    3   0  489   7  0.300000  0.000000  0.985972\n",
       "10     10    5   9  487   1  0.833333  0.018145  0.980080\n",
       "11     11    1   0  491   0  1.000000  0.000000  1.000000\n",
       "12     16    2   0  490  23  0.080000  0.000000  0.955340\n",
       "13     17    1   0  491   0  1.000000  0.000000  1.000000\n",
       "14     18    2   0  490   6  0.250000  0.000000  0.987952"
      ]
     },
     "execution_count": 23,
     "metadata": {},
     "output_type": "execute_result"
    }
   ],
   "source": [
    "dfConfusion=confusionMatrixAcc(y_test, y_pred_test)\n",
    "dfConfusion.sort_values(by='Class')"
   ]
  },
  {
   "cell_type": "markdown",
   "id": "8f525c66",
   "metadata": {},
   "source": [
    "## Regression logistique"
   ]
  },
  {
   "cell_type": "code",
   "execution_count": 59,
   "id": "f66c7cc0",
   "metadata": {},
   "outputs": [],
   "source": [
    "lr = linear_model.LogisticRegression(multi_class='ovr', solver='liblinear')"
   ]
  },
  {
   "cell_type": "code",
   "execution_count": 60,
   "id": "075bf657",
   "metadata": {},
   "outputs": [
    {
     "data": {
      "text/plain": [
       "array([-1,  0,  1,  2,  3,  4,  5,  6,  7,  8,  9, 10, 11, 13, 14, 16, 17,\n",
       "       18])"
      ]
     },
     "execution_count": 60,
     "metadata": {},
     "output_type": "execute_result"
    }
   ],
   "source": [
    "np.unique(y_train)"
   ]
  },
  {
   "cell_type": "code",
   "execution_count": 61,
   "id": "79dc4773",
   "metadata": {},
   "outputs": [
    {
     "data": {
      "text/plain": [
       "LogisticRegression(multi_class='ovr', solver='liblinear')"
      ]
     },
     "execution_count": 61,
     "metadata": {},
     "output_type": "execute_result"
    }
   ],
   "source": [
    "lr.fit(X_train, y_train)"
   ]
  },
  {
   "cell_type": "code",
   "execution_count": 62,
   "id": "c0d8d515",
   "metadata": {},
   "outputs": [
    {
     "data": {
      "text/plain": [
       "0.73"
      ]
     },
     "execution_count": 62,
     "metadata": {},
     "output_type": "execute_result"
    }
   ],
   "source": [
    "lr.score(X_test,y_test)"
   ]
  },
  {
   "cell_type": "code",
   "execution_count": 65,
   "id": "c22545c2",
   "metadata": {},
   "outputs": [
    {
     "data": {
      "text/plain": [
       "array([-1])"
      ]
     },
     "execution_count": 65,
     "metadata": {},
     "output_type": "execute_result"
    }
   ],
   "source": [
    "y_pred_train=lr.predict(X_train)\n",
    "y_pred_test=lr.predict(X_test)\n",
    "np.unique(y_pred_train)"
   ]
  },
  {
   "cell_type": "code",
   "execution_count": 66,
   "id": "3ecfc167",
   "metadata": {},
   "outputs": [
    {
     "data": {
      "text/plain": [
       "array([-1, -1, -1, ..., -1, -1, -1])"
      ]
     },
     "execution_count": 66,
     "metadata": {},
     "output_type": "execute_result"
    }
   ],
   "source": [
    "y_pred_train"
   ]
  },
  {
   "cell_type": "code",
   "execution_count": 69,
   "id": "8e70e566",
   "metadata": {},
   "outputs": [
    {
     "data": {
      "text/plain": [
       "(array([], dtype=float64), array([-1]), <BarContainer object of 0 artists>)"
      ]
     },
     "execution_count": 69,
     "metadata": {},
     "output_type": "execute_result"
    },
    {
     "data": {
      "image/png": "[encoded data removed]",
      "text/plain": [
       "<Figure size 432x288 with 1 Axes>"
      ]
     },
     "metadata": {},
     "output_type": "display_data"
    }
   ],
   "source": [
    "bins=np.unique(y_pred_train)\n",
    "plt.hist(y_pred_train,bins=bins)"
   ]
  },
  {
   "cell_type": "code",
   "execution_count": 45,
   "id": "b84ff05b",
   "metadata": {},
   "outputs": [
    {
     "data": {
      "text/plain": [
       "(0.73, -0.22597190170669235)"
      ]
     },
     "execution_count": 45,
     "metadata": {},
     "output_type": "execute_result"
    }
   ],
   "source": [
    "# scores exactitude, r2\n",
    "accuracy = accuracy_score(y_test, y_pred_test) \n",
    "r2 = r2_score(y_test,y_pred_test)\n",
    "accuracy, r2"
   ]
  },
  {
   "cell_type": "code",
   "execution_count": 46,
   "id": "eac2631c",
   "metadata": {},
   "outputs": [
    {
     "data": {
      "text/html": [
       "<div>\n",
       "<style scoped>\n",
       "    .dataframe tbody tr th:only-of-type {\n",
       "        vertical-align: middle;\n",
       "    }\n",
       "\n",
       "    .dataframe tbody tr th {\n",
       "        vertical-align: top;\n",
       "    }\n",
       "\n",
       "    .dataframe thead th {\n",
       "        text-align: right;\n",
       "    }\n",
       "</style>\n",
       "<table border=\"1\" class=\"dataframe\">\n",
       "  <thead>\n",
       "    <tr style=\"text-align: right;\">\n",
       "      <th></th>\n",
       "      <th>Class</th>\n",
       "      <th>TP</th>\n",
       "      <th>FP</th>\n",
       "      <th>TN</th>\n",
       "      <th>FN</th>\n",
       "      <th>TPR</th>\n",
       "      <th>FPR</th>\n",
       "      <th>Accuracy</th>\n",
       "    </tr>\n",
       "  </thead>\n",
       "  <tbody>\n",
       "    <tr>\n",
       "      <th>0</th>\n",
       "      <td>-1</td>\n",
       "      <td>438</td>\n",
       "      <td>162</td>\n",
       "      <td>0</td>\n",
       "      <td>0</td>\n",
       "      <td>1.0</td>\n",
       "      <td>1.0</td>\n",
       "      <td>0.73</td>\n",
       "    </tr>\n",
       "  </tbody>\n",
       "</table>\n",
       "</div>"
      ],
      "text/plain": [
       "   Class   TP   FP  TN  FN  TPR  FPR  Accuracy\n",
       "0     -1  438  162   0   0  1.0  1.0      0.73"
      ]
     },
     "execution_count": 46,
     "metadata": {},
     "output_type": "execute_result"
    }
   ],
   "source": [
    "dfConfusion=confusionMatrixAcc(y_test, y_pred_test)\n",
    "dfConfusion"
   ]
  },
  {
   "cell_type": "markdown",
   "id": "8dba5d03",
   "metadata": {},
   "source": [
    "## XGBoost"
   ]
  },
  {
   "cell_type": "code",
   "execution_count": 32,
   "id": "dff86cdc",
   "metadata": {},
   "outputs": [
    {
     "name": "stderr",
     "output_type": "stream",
     "text": [
      "/Users/hui-guan/opt/miniconda3/envs/python3.8/lib/python3.8/site-packages/xgboost/sklearn.py:1224: UserWarning: The use of label encoder in XGBClassifier is deprecated and will be removed in a future release. To remove this warning, do the following: 1) Pass option use_label_encoder=False when constructing XGBClassifier object; and 2) Encode your labels (y) as integers starting with 0, i.e. 0, 1, 2, ..., [num_class - 1].\n",
      "  warnings.warn(label_encoder_deprecation_msg, UserWarning)\n"
     ]
    },
    {
     "name": "stdout",
     "output_type": "stream",
     "text": [
      "[11:02:24] WARNING: /Users/runner/miniforge3/conda-bld/xgboost-split_1634712680264/work/src/learner.cc:1115: Starting in XGBoost 1.3.0, the default evaluation metric used with the objective 'multi:softprob' was changed from 'merror' to 'mlogloss'. Explicitly set eval_metric if you'd like to restore the old behavior.\n"
     ]
    },
    {
     "data": {
      "text/plain": [
       "XGBClassifier(base_score=0.5, booster='gbtree', colsample_bylevel=1,\n",
       "              colsample_bynode=1, colsample_bytree=0.8,\n",
       "              enable_categorical=False, eta=0.1, gamma=0, gpu_id=-1,\n",
       "              importance_type=None, interaction_constraints='',\n",
       "              learning_rate=0.100000001, max_delta_step=0, max_depth=4,\n",
       "              min_child_weight=1, missing=nan, monotone_constraints='()',\n",
       "              n_estimators=100, n_jobs=12, num_parallel_tree=1,\n",
       "              objective='multi:softprob', predictor='auto', random_state=0,\n",
       "              reg_alpha=0, reg_lambda=1, scale_pos_weight=None, subsample=1,\n",
       "              tree_method='exact', validate_parameters=1, verbosity=None)"
      ]
     },
     "execution_count": 32,
     "metadata": {},
     "output_type": "execute_result"
    }
   ],
   "source": [
    "model=XGBClassifier(eta=0.1,n_estimators=100,max_depth=4,subsample=1,colsample_bytree=0.8,objective='multi:softmax')\n",
    "model.fit(X_train,y_train)"
   ]
  },
  {
   "cell_type": "code",
   "execution_count": 33,
   "id": "2a9f2edc",
   "metadata": {},
   "outputs": [
    {
     "data": {
      "text/plain": [
       "array([-1,  0,  1,  2,  3,  4,  5,  6,  7,  8, 10, 16, 18])"
      ]
     },
     "execution_count": 33,
     "metadata": {},
     "output_type": "execute_result"
    }
   ],
   "source": [
    "y_pred_train=model.predict(X_train)\n",
    "y_pred_test=model.predict(X_test)\n",
    "np.unique(y_pred_train)"
   ]
  },
  {
   "cell_type": "code",
   "execution_count": 34,
   "id": "ebbf96da",
   "metadata": {},
   "outputs": [
    {
     "data": {
      "text/plain": [
       "(array([1191.,   53.,   50.,   19.,   36.,   27.,    0.,    0.,   19.,\n",
       "           5.]),\n",
       " array([-1. ,  0.9,  2.8,  4.7,  6.6,  8.5, 10.4, 12.3, 14.2, 16.1, 18. ]),\n",
       " <BarContainer object of 10 artists>)"
      ]
     },
     "execution_count": 34,
     "metadata": {},
     "output_type": "execute_result"
    },
    {
     "data": {
      "image/png": "[encoded data removed]",
      "text/plain": [
       "<Figure size 432x288 with 1 Axes>"
      ]
     },
     "metadata": {},
     "output_type": "display_data"
    }
   ],
   "source": [
    "plt.hist(y_pred_train)"
   ]
  },
  {
   "cell_type": "code",
   "execution_count": 35,
   "id": "2b43d583",
   "metadata": {},
   "outputs": [
    {
     "data": {
      "text/plain": [
       "(0.8116666666666666, 0.037449598052392785)"
      ]
     },
     "execution_count": 35,
     "metadata": {},
     "output_type": "execute_result"
    }
   ],
   "source": [
    "# scores exactitude, r2\n",
    "accuracy = accuracy_score(y_test, y_pred_test) \n",
    "r2 = r2_score(y_test,y_pred_test)\n",
    "accuracy, r2"
   ]
  },
  {
   "cell_type": "code",
   "execution_count": 36,
   "id": "1829e450",
   "metadata": {},
   "outputs": [
    {
     "data": {
      "text/html": [
       "<div>\n",
       "<style scoped>\n",
       "    .dataframe tbody tr th:only-of-type {\n",
       "        vertical-align: middle;\n",
       "    }\n",
       "\n",
       "    .dataframe tbody tr th {\n",
       "        vertical-align: top;\n",
       "    }\n",
       "\n",
       "    .dataframe thead th {\n",
       "        text-align: right;\n",
       "    }\n",
       "</style>\n",
       "<table border=\"1\" class=\"dataframe\">\n",
       "  <thead>\n",
       "    <tr style=\"text-align: right;\">\n",
       "      <th></th>\n",
       "      <th>Class</th>\n",
       "      <th>TP</th>\n",
       "      <th>FP</th>\n",
       "      <th>TN</th>\n",
       "      <th>FN</th>\n",
       "      <th>TPR</th>\n",
       "      <th>FPR</th>\n",
       "      <th>Accuracy</th>\n",
       "    </tr>\n",
       "  </thead>\n",
       "  <tbody>\n",
       "    <tr>\n",
       "      <th>0</th>\n",
       "      <td>-1</td>\n",
       "      <td>436</td>\n",
       "      <td>100</td>\n",
       "      <td>42</td>\n",
       "      <td>2</td>\n",
       "      <td>0.995434</td>\n",
       "      <td>0.704225</td>\n",
       "      <td>0.824138</td>\n",
       "    </tr>\n",
       "    <tr>\n",
       "      <th>1</th>\n",
       "      <td>0</td>\n",
       "      <td>2</td>\n",
       "      <td>0</td>\n",
       "      <td>476</td>\n",
       "      <td>6</td>\n",
       "      <td>0.250000</td>\n",
       "      <td>0.000000</td>\n",
       "      <td>0.987603</td>\n",
       "    </tr>\n",
       "    <tr>\n",
       "      <th>2</th>\n",
       "      <td>1</td>\n",
       "      <td>5</td>\n",
       "      <td>1</td>\n",
       "      <td>473</td>\n",
       "      <td>6</td>\n",
       "      <td>0.454545</td>\n",
       "      <td>0.002110</td>\n",
       "      <td>0.985567</td>\n",
       "    </tr>\n",
       "    <tr>\n",
       "      <th>3</th>\n",
       "      <td>2</td>\n",
       "      <td>7</td>\n",
       "      <td>1</td>\n",
       "      <td>471</td>\n",
       "      <td>7</td>\n",
       "      <td>0.500000</td>\n",
       "      <td>0.002119</td>\n",
       "      <td>0.983539</td>\n",
       "    </tr>\n",
       "    <tr>\n",
       "      <th>4</th>\n",
       "      <td>3</td>\n",
       "      <td>9</td>\n",
       "      <td>2</td>\n",
       "      <td>469</td>\n",
       "      <td>13</td>\n",
       "      <td>0.409091</td>\n",
       "      <td>0.004246</td>\n",
       "      <td>0.969574</td>\n",
       "    </tr>\n",
       "    <tr>\n",
       "      <th>5</th>\n",
       "      <td>4</td>\n",
       "      <td>5</td>\n",
       "      <td>1</td>\n",
       "      <td>473</td>\n",
       "      <td>12</td>\n",
       "      <td>0.294118</td>\n",
       "      <td>0.002110</td>\n",
       "      <td>0.973523</td>\n",
       "    </tr>\n",
       "    <tr>\n",
       "      <th>6</th>\n",
       "      <td>5</td>\n",
       "      <td>1</td>\n",
       "      <td>0</td>\n",
       "      <td>477</td>\n",
       "      <td>7</td>\n",
       "      <td>0.125000</td>\n",
       "      <td>0.000000</td>\n",
       "      <td>0.985567</td>\n",
       "    </tr>\n",
       "    <tr>\n",
       "      <th>7</th>\n",
       "      <td>6</td>\n",
       "      <td>3</td>\n",
       "      <td>0</td>\n",
       "      <td>475</td>\n",
       "      <td>7</td>\n",
       "      <td>0.300000</td>\n",
       "      <td>0.000000</td>\n",
       "      <td>0.985567</td>\n",
       "    </tr>\n",
       "    <tr>\n",
       "      <th>8</th>\n",
       "      <td>7</td>\n",
       "      <td>10</td>\n",
       "      <td>2</td>\n",
       "      <td>468</td>\n",
       "      <td>6</td>\n",
       "      <td>0.625000</td>\n",
       "      <td>0.004255</td>\n",
       "      <td>0.983539</td>\n",
       "    </tr>\n",
       "    <tr>\n",
       "      <th>9</th>\n",
       "      <td>8</td>\n",
       "      <td>0</td>\n",
       "      <td>2</td>\n",
       "      <td>478</td>\n",
       "      <td>10</td>\n",
       "      <td>0.000000</td>\n",
       "      <td>0.004167</td>\n",
       "      <td>0.975510</td>\n",
       "    </tr>\n",
       "    <tr>\n",
       "      <th>10</th>\n",
       "      <td>10</td>\n",
       "      <td>5</td>\n",
       "      <td>4</td>\n",
       "      <td>473</td>\n",
       "      <td>1</td>\n",
       "      <td>0.833333</td>\n",
       "      <td>0.008386</td>\n",
       "      <td>0.989648</td>\n",
       "    </tr>\n",
       "    <tr>\n",
       "      <th>11</th>\n",
       "      <td>16</td>\n",
       "      <td>2</td>\n",
       "      <td>0</td>\n",
       "      <td>476</td>\n",
       "      <td>23</td>\n",
       "      <td>0.080000</td>\n",
       "      <td>0.000000</td>\n",
       "      <td>0.954092</td>\n",
       "    </tr>\n",
       "    <tr>\n",
       "      <th>12</th>\n",
       "      <td>18</td>\n",
       "      <td>2</td>\n",
       "      <td>0</td>\n",
       "      <td>476</td>\n",
       "      <td>6</td>\n",
       "      <td>0.250000</td>\n",
       "      <td>0.000000</td>\n",
       "      <td>0.987603</td>\n",
       "    </tr>\n",
       "  </tbody>\n",
       "</table>\n",
       "</div>"
      ],
      "text/plain": [
       "    Class   TP   FP   TN  FN       TPR       FPR  Accuracy\n",
       "0      -1  436  100   42   2  0.995434  0.704225  0.824138\n",
       "1       0    2    0  476   6  0.250000  0.000000  0.987603\n",
       "2       1    5    1  473   6  0.454545  0.002110  0.985567\n",
       "3       2    7    1  471   7  0.500000  0.002119  0.983539\n",
       "4       3    9    2  469  13  0.409091  0.004246  0.969574\n",
       "5       4    5    1  473  12  0.294118  0.002110  0.973523\n",
       "6       5    1    0  477   7  0.125000  0.000000  0.985567\n",
       "7       6    3    0  475   7  0.300000  0.000000  0.985567\n",
       "8       7   10    2  468   6  0.625000  0.004255  0.983539\n",
       "9       8    0    2  478  10  0.000000  0.004167  0.975510\n",
       "10     10    5    4  473   1  0.833333  0.008386  0.989648\n",
       "11     16    2    0  476  23  0.080000  0.000000  0.954092\n",
       "12     18    2    0  476   6  0.250000  0.000000  0.987603"
      ]
     },
     "execution_count": 36,
     "metadata": {},
     "output_type": "execute_result"
    }
   ],
   "source": [
    "dfConfusion=confusionMatrixAcc(y_test, y_pred_test)\n",
    "dfConfusion.sort_values(by='Class')"
   ]
  },
  {
   "cell_type": "markdown",
   "id": "07b76fbf",
   "metadata": {},
   "source": [
    "## Reseau de neurones"
   ]
  },
  {
   "cell_type": "markdown",
   "id": "348b9efb",
   "metadata": {},
   "source": [
    "### Monocouche"
   ]
  },
  {
   "cell_type": "code",
   "execution_count": 83,
   "id": "166e5e7e",
   "metadata": {},
   "outputs": [
    {
     "data": {
      "text/plain": [
       "(1400, 2964)"
      ]
     },
     "execution_count": 83,
     "metadata": {},
     "output_type": "execute_result"
    }
   ],
   "source": [
    "X_train.shape"
   ]
  },
  {
   "cell_type": "code",
   "execution_count": 98,
   "id": "2b1d5c3d",
   "metadata": {},
   "outputs": [],
   "source": [
    "tf.config.run_functions_eagerly(True) #activation de l'execution en mode dynamique\n",
    "\n",
    "# Parametres du reseau de neurones\n",
    "EPOCHS = 60 # iterations\n",
    "BATCH_SIZE = 256 #taille de l'echantillon par iteration\n",
    "VERBOSE = 0\n",
    "NB_CLASSES = 1   # nombre de neurones en sortie\n",
    "N_HIDDEN = 350 # nombre de neurones des couches cachees = nombre d'observations/(2*(nombre de neurones input + nombre de neurones output))\n",
    "VALIDATION_SPLIT = 0.2 # pourcentage des donnees d'entrainement reservées pour la validation\n",
    "DROPOUT = 0.3\n",
    "\n",
    "INPUT_SHAPE = X_train.shape"
   ]
  },
  {
   "cell_type": "code",
   "execution_count": 99,
   "id": "4f85fb83",
   "metadata": {},
   "outputs": [
    {
     "data": {
      "text/plain": [
       "((1400, 2964),\n",
       " 1636    -1\n",
       " 897     -1\n",
       " 60      -1\n",
       " 905     -1\n",
       " 37      -1\n",
       " 1145    -1\n",
       " 796     -1\n",
       " 1934    -1\n",
       " 1862    -1\n",
       " 1742     8\n",
       " 686      5\n",
       " 974     -1\n",
       "         ..\n",
       " 892     -1\n",
       " 638     -1\n",
       " 1925    -1\n",
       " 453     16\n",
       " 908      2\n",
       " 1906    10\n",
       " 1780    -1\n",
       " 1206     6\n",
       " 1525     1\n",
       " 424     -1\n",
       " 1709    -1\n",
       " 426      1\n",
       " Length: 1400, dtype: int64)"
      ]
     },
     "execution_count": 99,
     "metadata": {},
     "output_type": "execute_result"
    }
   ],
   "source": [
    "INPUT_SHAPE,y_train"
   ]
  },
  {
   "cell_type": "code",
   "execution_count": 100,
   "id": "615839b5",
   "metadata": {},
   "outputs": [],
   "source": [
    "# Creation du modele\n",
    "model = tf.keras.models.Sequential()\n",
    "model.add(tf.keras.layers.Dense(2964,\n",
    "    input_shape=INPUT_SHAPE,\n",
    "    name='input_layer', \n",
    "    activation='relu'))\n",
    "#model.add(tf.keras.layers.Dropout(DROPOUT))\n",
    "model.add(tf.keras.layers.Dense(N_HIDDEN,\n",
    "    name='hidden_layer_1',\n",
    "    activation='relu'))\n",
    "#model.add(tf.keras.layers.Dropout(DROPOUT))\n",
    "#model.add(tf.keras.layers.Dense(N_HIDDEN,\n",
    "#    name='hidden_layer_2',\n",
    "#    activation='relu'))\n",
    "#model.add(tf.keras.layers.Dropout(DROPOUT))\n",
    "model.add(tf.keras.layers.Dense(NB_CLASSES,\n",
    "    name='output_layer',\n",
    "    activation='linear'))"
   ]
  },
  {
   "cell_type": "code",
   "execution_count": 101,
   "id": "d5393936",
   "metadata": {},
   "outputs": [
    {
     "name": "stdout",
     "output_type": "stream",
     "text": [
      "Model: \"sequential_3\"\n",
      "_________________________________________________________________\n",
      "Layer (type)                 Output Shape              Param #   \n",
      "=================================================================\n",
      "input_layer (Dense)          (None, 1400, 2964)        8788260   \n",
      "_________________________________________________________________\n",
      "hidden_layer_1 (Dense)       (None, 1400, 350)         1037750   \n",
      "_________________________________________________________________\n",
      "output_layer (Dense)         (None, 1400, 1)           351       \n",
      "=================================================================\n",
      "Total params: 9,826,361\n",
      "Trainable params: 9,826,361\n",
      "Non-trainable params: 0\n",
      "_________________________________________________________________\n"
     ]
    }
   ],
   "source": [
    "# Caracteristique/description du modele\n",
    "model.summary()"
   ]
  },
  {
   "cell_type": "code",
   "execution_count": 102,
   "id": "e50d5726",
   "metadata": {},
   "outputs": [],
   "source": [
    "# Compilation\n",
    "model.compile(optimizer='SGD', #Stochastic Gradient Descent\n",
    "              loss='MSE', # methode de calcul de cout\n",
    "              metrics=['mean_squared_error']) # methode d'evaluation"
   ]
  },
  {
   "cell_type": "code",
   "execution_count": 103,
   "id": "230fb0ba",
   "metadata": {},
   "outputs": [
    {
     "name": "stdout",
     "output_type": "stream",
     "text": [
      "CPU times: user 1min 48s, sys: 27.4 s, total: 2min 15s\n",
      "Wall time: 20.9 s\n"
     ]
    }
   ],
   "source": [
    "%%time\n",
    "callbacks = [\n",
    "  #  Objet History pour monitorer les iterations\n",
    "  tf.keras.callbacks.History(),\n",
    "  # Logs pour TensorBoard dans le repertoire './logs' \n",
    "  #tf.keras.callbacks.TensorBoard(log_dir='./logs') # activation des logs pour TensorBoard\n",
    "]\n",
    "\n",
    "history = model.fit(X_train, y_train, batch_size=BATCH_SIZE, epochs=EPOCHS , verbose = VERBOSE, validation_split = 0.2, callbacks = callbacks)"
   ]
  },
  {
   "cell_type": "code",
   "execution_count": 104,
   "id": "d1e278a1",
   "metadata": {},
   "outputs": [
    {
     "data": {
      "image/png": "[encoded data removed]",
      "text/plain": [
       "<Figure size 432x288 with 1 Axes>"
      ]
     },
     "metadata": {},
     "output_type": "display_data"
    }
   ],
   "source": [
    "import matplotlib.pyplot as plt\n",
    "\n",
    "plt.plot(history.history['mean_squared_error'])\n",
    "plt.plot(history.history['val_mean_squared_error'])\n",
    "plt.title('reseau neuronal - 1 couche')\n",
    "plt.ylabel('MSE')\n",
    "plt.xlabel('iterations')\n",
    "plt.legend(['train' , 'validation'] , loc = 'upper right')\n",
    "plt.show()"
   ]
  },
  {
   "cell_type": "code",
   "execution_count": 105,
   "id": "6ca072ca",
   "metadata": {},
   "outputs": [],
   "source": [
    "y_pred_train=np.squeeze(model.predict_on_batch(X_train)) #helps to get rid of useless one dimension arrays "
   ]
  },
  {
   "cell_type": "code",
   "execution_count": 106,
   "id": "8597c66b",
   "metadata": {},
   "outputs": [
    {
     "data": {
      "text/plain": [
       "array([1.2477052, 1.2478904, 1.2479858, ..., 1.7113051, 1.7134821,\n",
       "       1.7359655], dtype=float32)"
      ]
     },
     "execution_count": 106,
     "metadata": {},
     "output_type": "execute_result"
    }
   ],
   "source": [
    "np.unique(y_pred_train)"
   ]
  },
  {
   "cell_type": "markdown",
   "id": "cfdef032",
   "metadata": {},
   "source": [
    "## LDA"
   ]
  },
  {
   "cell_type": "code",
   "execution_count": 37,
   "id": "4614c7a7",
   "metadata": {},
   "outputs": [
    {
     "name": "stdout",
     "output_type": "stream",
     "text": [
      "Topic 0:  ['file server', 'type error', 'display image', 'groupby string', 'sql server', 'one problem', 'tzinfo timezone']\n",
      "Topic 1:  ['android studio', 'xml file', 'key value', 'sort nsarray', 'file struct', 'second hide', 'first row']\n",
      "Topic 2:  ['java code', 'command line', 'node module', 'ezini instance', 'configure proxy', 'function python', 'android text']\n",
      "Topic 3:  ['work properly', 'search engine', 'unique key', 'argument fopen', 'use argument', 'contest prize', 'app run']\n",
      "Topic 4:  ['visual studio', 'include file', 'get result', 'def foo', 'android widget', 'bit integer', 'dialog iphone']\n",
      "Topic 5:  ['ajax request', 'pattern match', 'pitfall avoid', 'remove string', 'web page', 'virtual function', 'resolv conf']\n",
      "Topic 6:  ['name use', 'java need', 'return client', 'extension boost', 'list group', 'use regex', 'gi extension']\n",
      "Topic 7:  ['change icon', 'file descriptor', 'multiple line', 'give error', 'infinite loop', 'descriptor assignment', 'circular dependency']\n",
      "Topic 8:  ['dropdown menu', 'want create', 'bug gtk', 'dot net', 'multiple select', 'imageview android', 'double relation']\n",
      "Topic 9:  ['regular expression', 'class hierarchy', 'element display', 'listview element', 'random number', 'send bluetooth', 'bluetooth message']\n",
      "Topic 10:  ['window api', 'generate multiple', 'group result', 'result interval', 'multiple dropdownlists', 'system xaml', 'get value']\n",
      "Topic 11:  ['asp net', 'use jquery', 'net core', 'throw exception', 'rhino parse', 'exception destructor', 'flash player']\n",
      "Topic 12:  ['wxstring unichar', 'socket time', 'instance class', 'give number', 'comment code', 'create instance', 'myobject mean']\n",
      "Topic 13:  ['array javascript', 'java servlet', 'unit test', 'google drive', 'php mysql', 'npm start', 'gmail chat']\n",
      "Topic 14:  ['get rid', 'maven project', 'java ee', 'iphone game', 'create desktop', 'computer vision', 'ee api']\n",
      "Topic 15:  ['file use', 'save button', 'cluster index', 'rename work', 'php rename', 'web page', 'selenium rc']\n",
      "Topic 16:  ['sql server', 'query return', 'file browser', 'combine two', 'google map', 'post nssystemdefined', 'get start']\n",
      "Topic 17:  ['jquery ui', 'php file', 'error message', 'get error', 'asp net', 'zend framework', 'open image']\n",
      "Topic 18:  ['element element', 'arithmetic operation', 'insert statement', 'static pointer', 'string format', 'use gson', 'prefix sum']\n",
      "Topic 19:  ['app use', 'get request', 'user control', 'parameter value', 'sql query', 'angular universal', 'rr value']\n"
     ]
    }
   ],
   "source": [
    "# instanciation du modele\n",
    "model=LatentDirichletAllocation(n_components=20)\n",
    "\n",
    "lda_matrix = model.fit_transform(X_train)\n",
    "\n",
    "# recuperation des composantes\n",
    "lda_components=model.components_\n",
    "\n",
    "# termes des thematiques\n",
    "terms = dfTFIDFCommon.columns\n",
    "\n",
    "for index, component in enumerate(lda_components):\n",
    "    zipped = zip(terms, component)\n",
    "    top_terms_key=sorted(zipped, key = lambda t: t[1], reverse=True)[:7]\n",
    "    top_terms_list=list(dict(top_terms_key).keys())\n",
    "    print(\"Topic \"+str(index)+\": \",top_terms_list)"
   ]
  }
 ],
 "metadata": {
  "kernelspec": {
   "display_name": "Python 3.8",
   "language": "python",
   "name": "python3.8"
  },
  "language_info": {
   "codemirror_mode": {
    "name": "ipython",
    "version": 3
   },
   "file_extension": ".py",
   "mimetype": "text/x-python",
   "name": "python",
   "nbconvert_exporter": "python",
   "pygments_lexer": "ipython3",
   "version": "3.8.12"
  }
 },
 "nbformat": 4,
 "nbformat_minor": 5
}
