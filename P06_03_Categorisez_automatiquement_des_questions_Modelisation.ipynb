{
 "cells": [
  {
   "cell_type": "markdown",
   "id": "93374aa3",
   "metadata": {},
   "source": [
    "# Categorisez automatiquement des questions - Modelisation"
   ]
  },
  {
   "cell_type": "code",
   "execution_count": 1,
   "id": "4250a5a1",
   "metadata": {},
   "outputs": [
    {
     "name": "stdout",
     "output_type": "stream",
     "text": [
      "skipping\n"
     ]
    }
   ],
   "source": [
    "%%script echo skipping\n",
    "from google.colab import drive\n",
    "drive.mount('/content/drive')"
   ]
  },
  {
   "cell_type": "markdown",
   "id": "7e2a1746",
   "metadata": {},
   "source": [
    "# SOMMAIRE\n",
    "* [PREPARATION](#PREPARATION)\n",
    "* [CHARGEMENT](#CHARGEMENT)\n",
    "* [MODELISATION](#Modelisation)\n",
    "    * [Bayes naïf](#Bayes-naïf)\n",
    "    * [Random forest](#Random-forest)\n",
    "    * [XGBoost](#XGBoost)\n",
    "    * [Reseau de neurones](#Reseau-de-neurones)\n",
    "    * [LDA](#LDA)"
   ]
  },
  {
   "cell_type": "markdown",
   "id": "5c76e975",
   "metadata": {},
   "source": [
    "# PREPARATION"
   ]
  },
  {
   "cell_type": "markdown",
   "id": "0f40d58e",
   "metadata": {},
   "source": [
    "## import des librairies"
   ]
  },
  {
   "cell_type": "code",
   "execution_count": 2,
   "id": "1ad69e03",
   "metadata": {},
   "outputs": [],
   "source": [
    "import joblib\n",
    "import pandas as pd\n",
    "import matplotlib as mplt\n",
    "import matplotlib.pyplot as plt\n",
    "from matplotlib import cm #colormap\n",
    "import numpy as np\n",
    "\n",
    "import seaborn as sns\n",
    "import re\n",
    "\n",
    "from sklearn.decomposition import LatentDirichletAllocation\n",
    "\n",
    "from sklearn.model_selection import train_test_split\n",
    "from sklearn import naive_bayes\n",
    "from sklearn.metrics import r2_score, accuracy_score\n",
    "from sklearn.ensemble import RandomForestClassifier\n",
    "\n",
    "from sklearn import linear_model\n",
    "\n",
    "from xgboost import XGBClassifier\n",
    "\n",
    "import tensorflow as tf"
   ]
  },
  {
   "cell_type": "markdown",
   "id": "3b659d76",
   "metadata": {},
   "source": [
    "## Paramétrage du notebook"
   ]
  },
  {
   "cell_type": "code",
   "execution_count": 3,
   "id": "30a4c424",
   "metadata": {},
   "outputs": [],
   "source": [
    "from matplotlib import font_manager\n",
    "\n",
    "font_dirs = ['/Library/Fonts/']\n",
    "font_files = font_manager.findSystemFonts(fontpaths=font_dirs)\n",
    "\n",
    "for font_file in font_files:\n",
    "    font_manager.fontManager.addfont(font_file)\n",
    "\n",
    "# set font\n",
    "plt.rcParams['font.family'] = 'Comic Sans'\n",
    "plt.rcParams['font.sans-serif'] = 'Franklin Gothic Book'"
   ]
  },
  {
   "cell_type": "code",
   "execution_count": 4,
   "id": "28150c41",
   "metadata": {},
   "outputs": [],
   "source": [
    "sns.set(rc={\n",
    " 'axes.axisbelow': False,\n",
    " 'axes.edgecolor': 'lightgrey',\n",
    " 'axes.facecolor': 'None',\n",
    " 'axes.grid': False,\n",
    " 'axes.labelcolor': 'dimgrey',\n",
    " 'axes.spines.right': False,\n",
    " 'axes.spines.top': False,\n",
    " 'figure.facecolor': 'white',\n",
    " 'lines.solid_capstyle': 'round',\n",
    " 'patch.edgecolor': 'w',\n",
    " 'patch.force_edgecolor': True,\n",
    " 'text.color': 'dimgrey',\n",
    " 'xtick.bottom': False,\n",
    " 'xtick.color': 'dimgrey',\n",
    " 'xtick.direction': 'out',\n",
    " 'xtick.top': False,\n",
    " 'ytick.color': 'dimgrey',\n",
    " 'ytick.direction': 'out',\n",
    " 'ytick.left': False,\n",
    " 'ytick.right': False})\n",
    "\n",
    "#mplt.font_manager._rebuild()\n",
    "#mplt.font_manager.findfont('Franklin Gothic Book',rebuild_if_missing=True)\n",
    "\n",
    "\n",
    "pd.options.display.max_colwidth=200\n",
    "pd.options.display.min_rows=25\n",
    "pd.options.display.max_columns=50"
   ]
  },
  {
   "cell_type": "markdown",
   "id": "83b171ff",
   "metadata": {},
   "source": [
    "## Declaration des fonctions"
   ]
  },
  {
   "cell_type": "code",
   "execution_count": 5,
   "id": "f9f021ea",
   "metadata": {},
   "outputs": [],
   "source": [
    "def confusionMatrixAcc(y_true, y_pred):\n",
    "    \"\"\"\n",
    "    Fonction qui retourne la matrice de confusion\n",
    "\n",
    "    Parameters\n",
    "    ----------\n",
    "    y_true : pandas Series\n",
    "        une Serie de valeurs (labels) reelles\n",
    "    y_pred : pandas Series\n",
    "        une Serie de valeurs (labels) predites\n",
    "    Returns\n",
    "    -------\n",
    "    confusionMatrix : DataFrame\n",
    "        la matrice de confusion\n",
    "    \"\"\"\n",
    "\n",
    "    dfConfusion=pd.crosstab(y_test, y_pred_test,rownames=['Reel'], colnames=['Predit'], margins=False)\n",
    "    confusionMatrix=pd.DataFrame()\n",
    "\n",
    "    for c in dfConfusion.columns:\n",
    "        TP=dfConfusion.loc[c,c]\n",
    "        FP=dfConfusion.loc[:,c].sum()-dfConfusion.loc[c,c]\n",
    "        TN=np.diagonal(dfConfusion).sum()-dfConfusion.loc[c,c]\n",
    "        FN=dfConfusion.loc[c,:].sum()-dfConfusion.loc[c,c]\n",
    "        TPR=TP/(TP+FN) # taux de vrai positif\n",
    "        FPR=FP/(FP+TN) # taux de faux positifs\n",
    "        Accuracy=(TP+TN)/(TP+FP+TN+FN)\n",
    "        confusionMatrix=pd.concat([confusionMatrix,\n",
    "        pd.DataFrame({\n",
    "            'Class':c,\n",
    "            'TP':[TP],\n",
    "            'FP':[FP],\n",
    "            'TN':[TN],\n",
    "            'FN':[FN],\n",
    "            'TPR':[TPR],\n",
    "            'FPR':[FPR],\n",
    "            'Accuracy':[Accuracy]})\n",
    "            ])\n",
    "    \n",
    "    confusionMatrix.reset_index(drop=True,inplace=True)\n",
    "    confusionMatrix=confusionMatrix.sort_values('Accuracy',ascending=False)\n",
    "    return confusionMatrix\n",
    "\n",
    "def getClass(row):\n",
    "    # no de colonne ayant le TFIDF max\n",
    "    if row.max()==0: # TF IDF nul pour toute la ligne\n",
    "        return 0\n",
    "    else:\n",
    "        tags=row.idxmax().split() #separation du bigramme\n",
    "        #print(tags)\n",
    "        rowclass=tagclass.get(tags[0],0)\n",
    "        if rowclass==0:\n",
    "            #print('row null')\n",
    "            rowclass=tagclass.get(tags[1],0)\n",
    "        return rowclass\n",
    "\n",
    "def r2_score_tf(y_true, y_pred):\n",
    "    SS_tot = tf.reduce_sum(tf.square(y_true - tf.reduce_mean(y_true))) \n",
    "    SS_res = tf.reduce_sum(tf.square(y_true - y_pred))     \n",
    "    return ( 1 - tf.divide(SS_res,SS_tot) )\n"
   ]
  },
  {
   "cell_type": "markdown",
   "id": "cdf9f265",
   "metadata": {},
   "source": [
    "# CHARGEMENT"
   ]
  },
  {
   "cell_type": "code",
   "execution_count": 6,
   "id": "17b49e3e",
   "metadata": {},
   "outputs": [],
   "source": [
    "dfCleaned=joblib.load('dfCleaned5000.jbl.bz2')\n",
    "dfTFIDFCommon=joblib.load('dfTFIDFCommon.jbl.bz2')\n",
    "dfTFIDFCommonTarget=joblib.load('dfTFIDFCommonTarget.jbl.bz2')\n",
    "tagclass=joblib.load('tagclass.jbl.bz2')"
   ]
  },
  {
   "cell_type": "markdown",
   "id": "a1b825ad",
   "metadata": {},
   "source": [
    "# Modelisation"
   ]
  },
  {
   "cell_type": "code",
   "execution_count": 7,
   "id": "628938bc",
   "metadata": {},
   "outputs": [
    {
     "data": {
      "text/plain": [
       "{'javascript': 1,\n",
       " 'net': 2,\n",
       " 'python': 3,\n",
       " 'php': 4,\n",
       " 'java': 5,\n",
       " 'android': 6,\n",
       " 'jquery': 7,\n",
       " 'sql': 8,\n",
       " 'html': 9,\n",
       " 'asp': 10,\n",
       " 'mysql': 11,\n",
       " 'css': 12,\n",
       " 'iphone': 13,\n",
       " 'ruby': 14,\n",
       " 'server': 15,\n",
       " 'objective': 16,\n",
       " 'ios': 17,\n",
       " 'js': 18,\n",
       " 'on': 19,\n",
       " 'rails': 20}"
      ]
     },
     "execution_count": 7,
     "metadata": {},
     "output_type": "execute_result"
    }
   ],
   "source": [
    "tagclass"
   ]
  },
  {
   "cell_type": "code",
   "execution_count": 8,
   "id": "9344d686",
   "metadata": {},
   "outputs": [],
   "source": [
    "X=dfTFIDFCommon.values"
   ]
  },
  {
   "cell_type": "code",
   "execution_count": 9,
   "id": "ad4bb2de",
   "metadata": {},
   "outputs": [],
   "source": [
    "y=dfTFIDFCommonTarget.apply(lambda row:getClass(row),axis=1)"
   ]
  },
  {
   "cell_type": "code",
   "execution_count": 10,
   "id": "d4945f0c",
   "metadata": {},
   "outputs": [
    {
     "data": {
      "text/plain": [
       "<AxesSubplot:>"
      ]
     },
     "execution_count": 10,
     "metadata": {},
     "output_type": "execute_result"
    },
    {
     "data": {
      "image/png": "[encoded data removed]",
      "text/plain": [
       "<Figure size 432x288 with 1 Axes>"
      ]
     },
     "metadata": {},
     "output_type": "display_data"
    }
   ],
   "source": [
    "y.hist()"
   ]
  },
  {
   "cell_type": "code",
   "execution_count": 11,
   "id": "452e0020",
   "metadata": {},
   "outputs": [
    {
     "data": {
      "text/plain": [
       "array([ 0,  1,  2,  3,  4,  5,  6,  7,  8,  9, 10, 11, 13, 14, 15, 16])"
      ]
     },
     "execution_count": 11,
     "metadata": {},
     "output_type": "execute_result"
    }
   ],
   "source": [
    "np.unique(y)"
   ]
  },
  {
   "cell_type": "code",
   "execution_count": 12,
   "id": "3e9eb62c",
   "metadata": {},
   "outputs": [
    {
     "data": {
      "text/plain": [
       "((3500, 7697), (1500, 7697), (3500,), (1500,))"
      ]
     },
     "execution_count": 12,
     "metadata": {},
     "output_type": "execute_result"
    }
   ],
   "source": [
    "X_train, X_test, y_train, y_test=train_test_split(X,y,test_size=0.3,random_state = 49)\n",
    "X_train.shape, X_test.shape, y_train.shape, y_test.shape"
   ]
  },
  {
   "cell_type": "markdown",
   "id": "697aa171",
   "metadata": {},
   "source": [
    "## Bayes naïf"
   ]
  },
  {
   "cell_type": "code",
   "execution_count": 13,
   "id": "93258c6f",
   "metadata": {},
   "outputs": [
    {
     "data": {
      "text/plain": [
       "((3500,), (1500,))"
      ]
     },
     "execution_count": 13,
     "metadata": {},
     "output_type": "execute_result"
    }
   ],
   "source": [
    "NaiveBayes = naive_bayes.GaussianNB().fit(X_train, y_train)\n",
    "y_pred_train=NaiveBayes.predict(X_train)\n",
    "y_pred_test=NaiveBayes.predict(X_test)\n",
    "y_pred_train.shape,y_pred_test.shape"
   ]
  },
  {
   "cell_type": "code",
   "execution_count": 14,
   "id": "9d09a7dc",
   "metadata": {},
   "outputs": [
    {
     "data": {
      "text/plain": [
       "array([ 0,  1,  2,  3,  4,  5,  6,  7,  8,  9, 10, 11, 13, 14, 15, 16])"
      ]
     },
     "execution_count": 14,
     "metadata": {},
     "output_type": "execute_result"
    }
   ],
   "source": [
    "np.unique(y_pred_train)"
   ]
  },
  {
   "cell_type": "code",
   "execution_count": 15,
   "id": "3638b1b6",
   "metadata": {},
   "outputs": [
    {
     "data": {
      "text/plain": [
       "(array([2473.,  157.,  116.,  179.,   74.,  168.,   95.,    0.,   59.,\n",
       "         179.]),\n",
       " array([ 0. ,  1.6,  3.2,  4.8,  6.4,  8. ,  9.6, 11.2, 12.8, 14.4, 16. ]),\n",
       " <BarContainer object of 10 artists>)"
      ]
     },
     "execution_count": 15,
     "metadata": {},
     "output_type": "execute_result"
    },
    {
     "data": {
      "image/png": "[encoded data removed]",
      "text/plain": [
       "<Figure size 432x288 with 1 Axes>"
      ]
     },
     "metadata": {},
     "output_type": "display_data"
    }
   ],
   "source": [
    "plt.hist(y_pred_train)"
   ]
  },
  {
   "cell_type": "code",
   "execution_count": 16,
   "id": "c4d8e797",
   "metadata": {},
   "outputs": [
    {
     "data": {
      "text/plain": [
       "(0.6473333333333333, -1.315055443716545)"
      ]
     },
     "execution_count": 16,
     "metadata": {},
     "output_type": "execute_result"
    }
   ],
   "source": [
    "# scores exactitude, r2\n",
    "accuracy = accuracy_score(y_test, y_pred_test) \n",
    "r2 = r2_score(y_test,y_pred_test)\n",
    "accuracy, r2"
   ]
  },
  {
   "cell_type": "code",
   "execution_count": 17,
   "id": "e07951bf",
   "metadata": {},
   "outputs": [
    {
     "data": {
      "text/plain": [
       "(array([ 0,  1,  2,  3,  4,  5,  6,  7,  8,  9, 10, 11, 13, 14, 15, 16]),\n",
       " array([ 0,  1,  2,  3,  4,  5,  6,  7,  8,  9, 10, 11, 13, 14, 15, 16]))"
      ]
     },
     "execution_count": 17,
     "metadata": {},
     "output_type": "execute_result"
    }
   ],
   "source": [
    "np.unique(y_test), np.unique(y_pred_test)"
   ]
  },
  {
   "cell_type": "code",
   "execution_count": 18,
   "id": "f0c687b9",
   "metadata": {},
   "outputs": [
    {
     "data": {
      "text/html": [
       "<div>\n",
       "<style scoped>\n",
       "    .dataframe tbody tr th:only-of-type {\n",
       "        vertical-align: middle;\n",
       "    }\n",
       "\n",
       "    .dataframe tbody tr th {\n",
       "        vertical-align: top;\n",
       "    }\n",
       "\n",
       "    .dataframe thead th {\n",
       "        text-align: right;\n",
       "    }\n",
       "</style>\n",
       "<table border=\"1\" class=\"dataframe\">\n",
       "  <thead>\n",
       "    <tr style=\"text-align: right;\">\n",
       "      <th></th>\n",
       "      <th>Class</th>\n",
       "      <th>TP</th>\n",
       "      <th>FP</th>\n",
       "      <th>TN</th>\n",
       "      <th>FN</th>\n",
       "      <th>TPR</th>\n",
       "      <th>FPR</th>\n",
       "      <th>Accuracy</th>\n",
       "    </tr>\n",
       "  </thead>\n",
       "  <tbody>\n",
       "    <tr>\n",
       "      <th>0</th>\n",
       "      <td>0</td>\n",
       "      <td>893</td>\n",
       "      <td>246</td>\n",
       "      <td>78</td>\n",
       "      <td>230</td>\n",
       "      <td>0.795191</td>\n",
       "      <td>0.759259</td>\n",
       "      <td>0.671044</td>\n",
       "    </tr>\n",
       "    <tr>\n",
       "      <th>1</th>\n",
       "      <td>1</td>\n",
       "      <td>3</td>\n",
       "      <td>17</td>\n",
       "      <td>968</td>\n",
       "      <td>16</td>\n",
       "      <td>0.157895</td>\n",
       "      <td>0.017259</td>\n",
       "      <td>0.967131</td>\n",
       "    </tr>\n",
       "    <tr>\n",
       "      <th>2</th>\n",
       "      <td>2</td>\n",
       "      <td>4</td>\n",
       "      <td>14</td>\n",
       "      <td>967</td>\n",
       "      <td>27</td>\n",
       "      <td>0.129032</td>\n",
       "      <td>0.014271</td>\n",
       "      <td>0.959486</td>\n",
       "    </tr>\n",
       "    <tr>\n",
       "      <th>3</th>\n",
       "      <td>3</td>\n",
       "      <td>4</td>\n",
       "      <td>13</td>\n",
       "      <td>967</td>\n",
       "      <td>24</td>\n",
       "      <td>0.142857</td>\n",
       "      <td>0.013265</td>\n",
       "      <td>0.963294</td>\n",
       "    </tr>\n",
       "    <tr>\n",
       "      <th>4</th>\n",
       "      <td>4</td>\n",
       "      <td>14</td>\n",
       "      <td>27</td>\n",
       "      <td>957</td>\n",
       "      <td>34</td>\n",
       "      <td>0.291667</td>\n",
       "      <td>0.027439</td>\n",
       "      <td>0.940891</td>\n",
       "    </tr>\n",
       "    <tr>\n",
       "      <th>5</th>\n",
       "      <td>5</td>\n",
       "      <td>6</td>\n",
       "      <td>21</td>\n",
       "      <td>965</td>\n",
       "      <td>31</td>\n",
       "      <td>0.162162</td>\n",
       "      <td>0.021298</td>\n",
       "      <td>0.949169</td>\n",
       "    </tr>\n",
       "    <tr>\n",
       "      <th>6</th>\n",
       "      <td>6</td>\n",
       "      <td>10</td>\n",
       "      <td>15</td>\n",
       "      <td>961</td>\n",
       "      <td>15</td>\n",
       "      <td>0.400000</td>\n",
       "      <td>0.015369</td>\n",
       "      <td>0.970030</td>\n",
       "    </tr>\n",
       "    <tr>\n",
       "      <th>7</th>\n",
       "      <td>7</td>\n",
       "      <td>8</td>\n",
       "      <td>19</td>\n",
       "      <td>963</td>\n",
       "      <td>19</td>\n",
       "      <td>0.296296</td>\n",
       "      <td>0.019348</td>\n",
       "      <td>0.962339</td>\n",
       "    </tr>\n",
       "    <tr>\n",
       "      <th>8</th>\n",
       "      <td>8</td>\n",
       "      <td>8</td>\n",
       "      <td>19</td>\n",
       "      <td>963</td>\n",
       "      <td>32</td>\n",
       "      <td>0.200000</td>\n",
       "      <td>0.019348</td>\n",
       "      <td>0.950098</td>\n",
       "    </tr>\n",
       "    <tr>\n",
       "      <th>9</th>\n",
       "      <td>9</td>\n",
       "      <td>5</td>\n",
       "      <td>11</td>\n",
       "      <td>966</td>\n",
       "      <td>35</td>\n",
       "      <td>0.125000</td>\n",
       "      <td>0.011259</td>\n",
       "      <td>0.954769</td>\n",
       "    </tr>\n",
       "    <tr>\n",
       "      <th>10</th>\n",
       "      <td>10</td>\n",
       "      <td>1</td>\n",
       "      <td>15</td>\n",
       "      <td>970</td>\n",
       "      <td>16</td>\n",
       "      <td>0.058824</td>\n",
       "      <td>0.015228</td>\n",
       "      <td>0.969062</td>\n",
       "    </tr>\n",
       "    <tr>\n",
       "      <th>11</th>\n",
       "      <td>11</td>\n",
       "      <td>5</td>\n",
       "      <td>12</td>\n",
       "      <td>966</td>\n",
       "      <td>13</td>\n",
       "      <td>0.277778</td>\n",
       "      <td>0.012270</td>\n",
       "      <td>0.974900</td>\n",
       "    </tr>\n",
       "    <tr>\n",
       "      <th>12</th>\n",
       "      <td>13</td>\n",
       "      <td>2</td>\n",
       "      <td>7</td>\n",
       "      <td>969</td>\n",
       "      <td>7</td>\n",
       "      <td>0.222222</td>\n",
       "      <td>0.007172</td>\n",
       "      <td>0.985787</td>\n",
       "    </tr>\n",
       "    <tr>\n",
       "      <th>13</th>\n",
       "      <td>14</td>\n",
       "      <td>3</td>\n",
       "      <td>13</td>\n",
       "      <td>968</td>\n",
       "      <td>6</td>\n",
       "      <td>0.333333</td>\n",
       "      <td>0.013252</td>\n",
       "      <td>0.980808</td>\n",
       "    </tr>\n",
       "    <tr>\n",
       "      <th>14</th>\n",
       "      <td>15</td>\n",
       "      <td>5</td>\n",
       "      <td>21</td>\n",
       "      <td>966</td>\n",
       "      <td>22</td>\n",
       "      <td>0.185185</td>\n",
       "      <td>0.021277</td>\n",
       "      <td>0.957594</td>\n",
       "    </tr>\n",
       "    <tr>\n",
       "      <th>15</th>\n",
       "      <td>16</td>\n",
       "      <td>0</td>\n",
       "      <td>59</td>\n",
       "      <td>971</td>\n",
       "      <td>2</td>\n",
       "      <td>0.000000</td>\n",
       "      <td>0.057282</td>\n",
       "      <td>0.940891</td>\n",
       "    </tr>\n",
       "  </tbody>\n",
       "</table>\n",
       "</div>"
      ],
      "text/plain": [
       "    Class   TP   FP   TN   FN       TPR       FPR  Accuracy\n",
       "0       0  893  246   78  230  0.795191  0.759259  0.671044\n",
       "1       1    3   17  968   16  0.157895  0.017259  0.967131\n",
       "2       2    4   14  967   27  0.129032  0.014271  0.959486\n",
       "3       3    4   13  967   24  0.142857  0.013265  0.963294\n",
       "4       4   14   27  957   34  0.291667  0.027439  0.940891\n",
       "5       5    6   21  965   31  0.162162  0.021298  0.949169\n",
       "6       6   10   15  961   15  0.400000  0.015369  0.970030\n",
       "7       7    8   19  963   19  0.296296  0.019348  0.962339\n",
       "8       8    8   19  963   32  0.200000  0.019348  0.950098\n",
       "9       9    5   11  966   35  0.125000  0.011259  0.954769\n",
       "10     10    1   15  970   16  0.058824  0.015228  0.969062\n",
       "11     11    5   12  966   13  0.277778  0.012270  0.974900\n",
       "12     13    2    7  969    7  0.222222  0.007172  0.985787\n",
       "13     14    3   13  968    6  0.333333  0.013252  0.980808\n",
       "14     15    5   21  966   22  0.185185  0.021277  0.957594\n",
       "15     16    0   59  971    2  0.000000  0.057282  0.940891"
      ]
     },
     "execution_count": 18,
     "metadata": {},
     "output_type": "execute_result"
    }
   ],
   "source": [
    "dfConfusion=confusionMatrixAcc(y_test, y_pred_test)\n",
    "dfConfusion.sort_values(by='Class')"
   ]
  },
  {
   "cell_type": "markdown",
   "id": "b529d4c0",
   "metadata": {},
   "source": [
    "## Random forest"
   ]
  },
  {
   "cell_type": "code",
   "execution_count": 19,
   "id": "7192b640",
   "metadata": {},
   "outputs": [
    {
     "data": {
      "text/plain": [
       "RandomForestClassifier(random_state=0)"
      ]
     },
     "execution_count": 19,
     "metadata": {},
     "output_type": "execute_result"
    }
   ],
   "source": [
    "rfc = RandomForestClassifier(random_state=0)\n",
    "\n",
    "rfc.fit(X_train, y_train)"
   ]
  },
  {
   "cell_type": "code",
   "execution_count": 20,
   "id": "431fd560",
   "metadata": {},
   "outputs": [
    {
     "data": {
      "text/plain": [
       "array([ 0,  1,  2,  3,  4,  5,  6,  7,  8,  9, 10, 11, 13, 14, 15, 16])"
      ]
     },
     "execution_count": 20,
     "metadata": {},
     "output_type": "execute_result"
    }
   ],
   "source": [
    "y_pred_train=rfc.predict(X_train)\n",
    "y_pred_test=rfc.predict(X_test)\n",
    "np.unique(y_pred_train)"
   ]
  },
  {
   "cell_type": "code",
   "execution_count": 21,
   "id": "cbecef0e",
   "metadata": {},
   "outputs": [
    {
     "data": {
      "text/plain": [
       "(array([2616.,   57.,   51.,   74.,  104.,   84.,   75.,   65.,   81.,\n",
       "          75.,   40.,   35.,    0.,   22.,   18.,  103.]),\n",
       " array([ 0.,  1.,  2.,  3.,  4.,  5.,  6.,  7.,  8.,  9., 10., 11., 12.,\n",
       "        13., 14., 15., 16.]),\n",
       " <BarContainer object of 16 artists>)"
      ]
     },
     "execution_count": 21,
     "metadata": {},
     "output_type": "execute_result"
    },
    {
     "data": {
      "image/png": "[encoded data removed]",
      "text/plain": [
       "<Figure size 432x288 with 1 Axes>"
      ]
     },
     "metadata": {},
     "output_type": "display_data"
    }
   ],
   "source": [
    "bins=len(np.unique(y_pred_train))\n",
    "plt.hist(y_pred_train,bins=bins)"
   ]
  },
  {
   "cell_type": "code",
   "execution_count": 22,
   "id": "49464975",
   "metadata": {},
   "outputs": [
    {
     "data": {
      "text/plain": [
       "(0.8026666666666666, 0.08684326676848853)"
      ]
     },
     "execution_count": 22,
     "metadata": {},
     "output_type": "execute_result"
    }
   ],
   "source": [
    "# scores exactitude, r2\n",
    "accuracy = accuracy_score(y_test, y_pred_test) \n",
    "r2 = r2_score(y_test,y_pred_test)\n",
    "accuracy, r2"
   ]
  },
  {
   "cell_type": "code",
   "execution_count": 23,
   "id": "1a2b25df",
   "metadata": {},
   "outputs": [
    {
     "data": {
      "text/plain": [
       "((1500,), (1500,))"
      ]
     },
     "execution_count": 23,
     "metadata": {},
     "output_type": "execute_result"
    }
   ],
   "source": [
    "y_test.shape,y_pred_test.shape"
   ]
  },
  {
   "cell_type": "code",
   "execution_count": 24,
   "id": "c3264bfa",
   "metadata": {},
   "outputs": [
    {
     "data": {
      "text/plain": [
       "(array([ 0,  1,  2,  3,  4,  5,  6,  7,  8,  9, 10, 11, 13, 14, 15, 16]),\n",
       " array([ 0,  1,  2,  3,  4,  5,  6,  7,  8,  9, 10, 11, 13, 14, 15]))"
      ]
     },
     "execution_count": 24,
     "metadata": {},
     "output_type": "execute_result"
    }
   ],
   "source": [
    "np.unique(y_test), np.unique(y_pred_test)"
   ]
  },
  {
   "cell_type": "code",
   "execution_count": 25,
   "id": "e88ced73",
   "metadata": {},
   "outputs": [
    {
     "data": {
      "text/html": [
       "<div>\n",
       "<style scoped>\n",
       "    .dataframe tbody tr th:only-of-type {\n",
       "        vertical-align: middle;\n",
       "    }\n",
       "\n",
       "    .dataframe tbody tr th {\n",
       "        vertical-align: top;\n",
       "    }\n",
       "\n",
       "    .dataframe thead th {\n",
       "        text-align: right;\n",
       "    }\n",
       "</style>\n",
       "<table border=\"1\" class=\"dataframe\">\n",
       "  <thead>\n",
       "    <tr style=\"text-align: right;\">\n",
       "      <th></th>\n",
       "      <th>Class</th>\n",
       "      <th>TP</th>\n",
       "      <th>FP</th>\n",
       "      <th>TN</th>\n",
       "      <th>FN</th>\n",
       "      <th>TPR</th>\n",
       "      <th>FPR</th>\n",
       "      <th>Accuracy</th>\n",
       "    </tr>\n",
       "  </thead>\n",
       "  <tbody>\n",
       "    <tr>\n",
       "      <th>0</th>\n",
       "      <td>0</td>\n",
       "      <td>1083</td>\n",
       "      <td>234</td>\n",
       "      <td>121</td>\n",
       "      <td>40</td>\n",
       "      <td>0.964381</td>\n",
       "      <td>0.659155</td>\n",
       "      <td>0.814614</td>\n",
       "    </tr>\n",
       "    <tr>\n",
       "      <th>1</th>\n",
       "      <td>1</td>\n",
       "      <td>2</td>\n",
       "      <td>3</td>\n",
       "      <td>1202</td>\n",
       "      <td>17</td>\n",
       "      <td>0.105263</td>\n",
       "      <td>0.002490</td>\n",
       "      <td>0.983660</td>\n",
       "    </tr>\n",
       "    <tr>\n",
       "      <th>2</th>\n",
       "      <td>2</td>\n",
       "      <td>9</td>\n",
       "      <td>5</td>\n",
       "      <td>1195</td>\n",
       "      <td>22</td>\n",
       "      <td>0.290323</td>\n",
       "      <td>0.004167</td>\n",
       "      <td>0.978067</td>\n",
       "    </tr>\n",
       "    <tr>\n",
       "      <th>3</th>\n",
       "      <td>3</td>\n",
       "      <td>8</td>\n",
       "      <td>1</td>\n",
       "      <td>1196</td>\n",
       "      <td>20</td>\n",
       "      <td>0.285714</td>\n",
       "      <td>0.000835</td>\n",
       "      <td>0.982857</td>\n",
       "    </tr>\n",
       "    <tr>\n",
       "      <th>4</th>\n",
       "      <td>4</td>\n",
       "      <td>22</td>\n",
       "      <td>10</td>\n",
       "      <td>1182</td>\n",
       "      <td>26</td>\n",
       "      <td>0.458333</td>\n",
       "      <td>0.008389</td>\n",
       "      <td>0.970968</td>\n",
       "    </tr>\n",
       "    <tr>\n",
       "      <th>5</th>\n",
       "      <td>5</td>\n",
       "      <td>7</td>\n",
       "      <td>11</td>\n",
       "      <td>1197</td>\n",
       "      <td>30</td>\n",
       "      <td>0.189189</td>\n",
       "      <td>0.009106</td>\n",
       "      <td>0.967068</td>\n",
       "    </tr>\n",
       "    <tr>\n",
       "      <th>6</th>\n",
       "      <td>6</td>\n",
       "      <td>11</td>\n",
       "      <td>4</td>\n",
       "      <td>1193</td>\n",
       "      <td>14</td>\n",
       "      <td>0.440000</td>\n",
       "      <td>0.003342</td>\n",
       "      <td>0.985270</td>\n",
       "    </tr>\n",
       "    <tr>\n",
       "      <th>7</th>\n",
       "      <td>7</td>\n",
       "      <td>10</td>\n",
       "      <td>3</td>\n",
       "      <td>1194</td>\n",
       "      <td>17</td>\n",
       "      <td>0.370370</td>\n",
       "      <td>0.002506</td>\n",
       "      <td>0.983660</td>\n",
       "    </tr>\n",
       "    <tr>\n",
       "      <th>8</th>\n",
       "      <td>8</td>\n",
       "      <td>21</td>\n",
       "      <td>4</td>\n",
       "      <td>1183</td>\n",
       "      <td>19</td>\n",
       "      <td>0.525000</td>\n",
       "      <td>0.003370</td>\n",
       "      <td>0.981255</td>\n",
       "    </tr>\n",
       "    <tr>\n",
       "      <th>9</th>\n",
       "      <td>9</td>\n",
       "      <td>3</td>\n",
       "      <td>3</td>\n",
       "      <td>1201</td>\n",
       "      <td>37</td>\n",
       "      <td>0.075000</td>\n",
       "      <td>0.002492</td>\n",
       "      <td>0.967846</td>\n",
       "    </tr>\n",
       "    <tr>\n",
       "      <th>10</th>\n",
       "      <td>10</td>\n",
       "      <td>13</td>\n",
       "      <td>12</td>\n",
       "      <td>1191</td>\n",
       "      <td>4</td>\n",
       "      <td>0.764706</td>\n",
       "      <td>0.009975</td>\n",
       "      <td>0.986885</td>\n",
       "    </tr>\n",
       "    <tr>\n",
       "      <th>11</th>\n",
       "      <td>11</td>\n",
       "      <td>2</td>\n",
       "      <td>2</td>\n",
       "      <td>1202</td>\n",
       "      <td>16</td>\n",
       "      <td>0.111111</td>\n",
       "      <td>0.001661</td>\n",
       "      <td>0.985270</td>\n",
       "    </tr>\n",
       "    <tr>\n",
       "      <th>12</th>\n",
       "      <td>13</td>\n",
       "      <td>5</td>\n",
       "      <td>1</td>\n",
       "      <td>1199</td>\n",
       "      <td>4</td>\n",
       "      <td>0.555556</td>\n",
       "      <td>0.000833</td>\n",
       "      <td>0.995864</td>\n",
       "    </tr>\n",
       "    <tr>\n",
       "      <th>13</th>\n",
       "      <td>14</td>\n",
       "      <td>1</td>\n",
       "      <td>1</td>\n",
       "      <td>1203</td>\n",
       "      <td>8</td>\n",
       "      <td>0.111111</td>\n",
       "      <td>0.000831</td>\n",
       "      <td>0.992580</td>\n",
       "    </tr>\n",
       "    <tr>\n",
       "      <th>14</th>\n",
       "      <td>15</td>\n",
       "      <td>7</td>\n",
       "      <td>2</td>\n",
       "      <td>1197</td>\n",
       "      <td>20</td>\n",
       "      <td>0.259259</td>\n",
       "      <td>0.001668</td>\n",
       "      <td>0.982055</td>\n",
       "    </tr>\n",
       "  </tbody>\n",
       "</table>\n",
       "</div>"
      ],
      "text/plain": [
       "    Class    TP   FP    TN  FN       TPR       FPR  Accuracy\n",
       "0       0  1083  234   121  40  0.964381  0.659155  0.814614\n",
       "1       1     2    3  1202  17  0.105263  0.002490  0.983660\n",
       "2       2     9    5  1195  22  0.290323  0.004167  0.978067\n",
       "3       3     8    1  1196  20  0.285714  0.000835  0.982857\n",
       "4       4    22   10  1182  26  0.458333  0.008389  0.970968\n",
       "5       5     7   11  1197  30  0.189189  0.009106  0.967068\n",
       "6       6    11    4  1193  14  0.440000  0.003342  0.985270\n",
       "7       7    10    3  1194  17  0.370370  0.002506  0.983660\n",
       "8       8    21    4  1183  19  0.525000  0.003370  0.981255\n",
       "9       9     3    3  1201  37  0.075000  0.002492  0.967846\n",
       "10     10    13   12  1191   4  0.764706  0.009975  0.986885\n",
       "11     11     2    2  1202  16  0.111111  0.001661  0.985270\n",
       "12     13     5    1  1199   4  0.555556  0.000833  0.995864\n",
       "13     14     1    1  1203   8  0.111111  0.000831  0.992580\n",
       "14     15     7    2  1197  20  0.259259  0.001668  0.982055"
      ]
     },
     "execution_count": 25,
     "metadata": {},
     "output_type": "execute_result"
    }
   ],
   "source": [
    "dfConfusion=confusionMatrixAcc(y_test, y_pred_test)\n",
    "dfConfusion.sort_values(by='Class')"
   ]
  },
  {
   "cell_type": "markdown",
   "id": "35b2b17f",
   "metadata": {},
   "source": [
    "## Regression logistique"
   ]
  },
  {
   "cell_type": "code",
   "execution_count": 26,
   "id": "2411776a",
   "metadata": {},
   "outputs": [],
   "source": [
    "lr = linear_model.LogisticRegression(multi_class='ovr', solver='liblinear')"
   ]
  },
  {
   "cell_type": "code",
   "execution_count": 27,
   "id": "9842e7df",
   "metadata": {},
   "outputs": [
    {
     "data": {
      "text/plain": [
       "array([ 0,  1,  2,  3,  4,  5,  6,  7,  8,  9, 10, 11, 13, 14, 15, 16])"
      ]
     },
     "execution_count": 27,
     "metadata": {},
     "output_type": "execute_result"
    }
   ],
   "source": [
    "np.unique(y_train)"
   ]
  },
  {
   "cell_type": "code",
   "execution_count": 28,
   "id": "f3d0ff5f",
   "metadata": {},
   "outputs": [
    {
     "data": {
      "text/plain": [
       "LogisticRegression(multi_class='ovr', solver='liblinear')"
      ]
     },
     "execution_count": 28,
     "metadata": {},
     "output_type": "execute_result"
    }
   ],
   "source": [
    "lr.fit(X_train, y_train)"
   ]
  },
  {
   "cell_type": "code",
   "execution_count": 29,
   "id": "d7d920d6",
   "metadata": {},
   "outputs": [
    {
     "data": {
      "text/plain": [
       "array([0])"
      ]
     },
     "execution_count": 29,
     "metadata": {},
     "output_type": "execute_result"
    }
   ],
   "source": [
    "y_pred_train=lr.predict(X_train)\n",
    "y_pred_test=lr.predict(X_test)\n",
    "np.unique(y_pred_train)"
   ]
  },
  {
   "cell_type": "code",
   "execution_count": 30,
   "id": "80ac5233",
   "metadata": {},
   "outputs": [
    {
     "data": {
      "text/plain": [
       "(array([], dtype=float64), array([0]), <BarContainer object of 0 artists>)"
      ]
     },
     "execution_count": 30,
     "metadata": {},
     "output_type": "execute_result"
    },
    {
     "data": {
      "image/png": "[encoded data removed]",
      "text/plain": [
       "<Figure size 432x288 with 1 Axes>"
      ]
     },
     "metadata": {},
     "output_type": "display_data"
    }
   ],
   "source": [
    "bins=np.unique(y_pred_train)\n",
    "plt.hist(y_pred_train,bins=bins)"
   ]
  },
  {
   "cell_type": "code",
   "execution_count": 31,
   "id": "309d95d8",
   "metadata": {},
   "outputs": [
    {
     "data": {
      "text/plain": [
       "(0.7486666666666667, -0.23484459119507473)"
      ]
     },
     "execution_count": 31,
     "metadata": {},
     "output_type": "execute_result"
    }
   ],
   "source": [
    "# scores exactitude, r2\n",
    "accuracy = accuracy_score(y_test, y_pred_test) \n",
    "r2 = r2_score(y_test,y_pred_test)\n",
    "accuracy, r2"
   ]
  },
  {
   "cell_type": "code",
   "execution_count": 32,
   "id": "273a77f5",
   "metadata": {},
   "outputs": [
    {
     "data": {
      "text/html": [
       "<div>\n",
       "<style scoped>\n",
       "    .dataframe tbody tr th:only-of-type {\n",
       "        vertical-align: middle;\n",
       "    }\n",
       "\n",
       "    .dataframe tbody tr th {\n",
       "        vertical-align: top;\n",
       "    }\n",
       "\n",
       "    .dataframe thead th {\n",
       "        text-align: right;\n",
       "    }\n",
       "</style>\n",
       "<table border=\"1\" class=\"dataframe\">\n",
       "  <thead>\n",
       "    <tr style=\"text-align: right;\">\n",
       "      <th></th>\n",
       "      <th>Class</th>\n",
       "      <th>TP</th>\n",
       "      <th>FP</th>\n",
       "      <th>TN</th>\n",
       "      <th>FN</th>\n",
       "      <th>TPR</th>\n",
       "      <th>FPR</th>\n",
       "      <th>Accuracy</th>\n",
       "    </tr>\n",
       "  </thead>\n",
       "  <tbody>\n",
       "    <tr>\n",
       "      <th>0</th>\n",
       "      <td>0</td>\n",
       "      <td>1123</td>\n",
       "      <td>377</td>\n",
       "      <td>0</td>\n",
       "      <td>0</td>\n",
       "      <td>1.0</td>\n",
       "      <td>1.0</td>\n",
       "      <td>0.748667</td>\n",
       "    </tr>\n",
       "  </tbody>\n",
       "</table>\n",
       "</div>"
      ],
      "text/plain": [
       "   Class    TP   FP  TN  FN  TPR  FPR  Accuracy\n",
       "0      0  1123  377   0   0  1.0  1.0  0.748667"
      ]
     },
     "execution_count": 32,
     "metadata": {},
     "output_type": "execute_result"
    }
   ],
   "source": [
    "dfConfusion=confusionMatrixAcc(y_test, y_pred_test)\n",
    "dfConfusion"
   ]
  },
  {
   "cell_type": "markdown",
   "id": "50f50e48",
   "metadata": {},
   "source": [
    "## XGBoost"
   ]
  },
  {
   "cell_type": "code",
   "execution_count": 33,
   "id": "071329b4",
   "metadata": {},
   "outputs": [
    {
     "name": "stderr",
     "output_type": "stream",
     "text": [
      "/Users/hui-guan/opt/miniconda3/envs/python3.8/lib/python3.8/site-packages/xgboost/sklearn.py:1224: UserWarning: The use of label encoder in XGBClassifier is deprecated and will be removed in a future release. To remove this warning, do the following: 1) Pass option use_label_encoder=False when constructing XGBClassifier object; and 2) Encode your labels (y) as integers starting with 0, i.e. 0, 1, 2, ..., [num_class - 1].\n",
      "  warnings.warn(label_encoder_deprecation_msg, UserWarning)\n"
     ]
    },
    {
     "name": "stdout",
     "output_type": "stream",
     "text": [
      "[16:07:56] WARNING: /Users/runner/miniforge3/conda-bld/xgboost-split_1634712680264/work/src/learner.cc:1115: Starting in XGBoost 1.3.0, the default evaluation metric used with the objective 'multi:softprob' was changed from 'merror' to 'mlogloss'. Explicitly set eval_metric if you'd like to restore the old behavior.\n"
     ]
    },
    {
     "data": {
      "text/plain": [
       "XGBClassifier(base_score=0.5, booster='gbtree', colsample_bylevel=1,\n",
       "              colsample_bynode=1, colsample_bytree=0.8,\n",
       "              enable_categorical=False, eta=0.1, gamma=0, gpu_id=-1,\n",
       "              importance_type=None, interaction_constraints='',\n",
       "              learning_rate=0.100000001, max_delta_step=0, max_depth=4,\n",
       "              min_child_weight=1, missing=nan, monotone_constraints='()',\n",
       "              n_estimators=100, n_jobs=12, num_parallel_tree=1,\n",
       "              objective='multi:softprob', predictor='auto', random_state=0,\n",
       "              reg_alpha=0, reg_lambda=1, scale_pos_weight=None, subsample=1,\n",
       "              tree_method='exact', validate_parameters=1, verbosity=None)"
      ]
     },
     "execution_count": 33,
     "metadata": {},
     "output_type": "execute_result"
    }
   ],
   "source": [
    "model=XGBClassifier(eta=0.1,n_estimators=100,max_depth=4,subsample=1,colsample_bytree=0.8,objective='multi:softmax')\n",
    "model.fit(X_train,y_train)"
   ]
  },
  {
   "cell_type": "code",
   "execution_count": 34,
   "id": "7ba3a0b7",
   "metadata": {},
   "outputs": [
    {
     "data": {
      "text/plain": [
       "array([ 0,  1,  2,  3,  4,  5,  6,  7,  8,  9, 10, 11, 13, 14, 15])"
      ]
     },
     "execution_count": 34,
     "metadata": {},
     "output_type": "execute_result"
    }
   ],
   "source": [
    "y_pred_train=model.predict(X_train)\n",
    "y_pred_test=model.predict(X_test)\n",
    "np.unique(y_pred_train)"
   ]
  },
  {
   "cell_type": "code",
   "execution_count": 35,
   "id": "241cbcb7",
   "metadata": {},
   "outputs": [
    {
     "data": {
      "text/plain": [
       "(array([3065.,   27.,   87.,   40.,   79.,   57.,   73.,   12.,    8.,\n",
       "          52.]),\n",
       " array([ 0. ,  1.5,  3. ,  4.5,  6. ,  7.5,  9. , 10.5, 12. , 13.5, 15. ]),\n",
       " <BarContainer object of 10 artists>)"
      ]
     },
     "execution_count": 35,
     "metadata": {},
     "output_type": "execute_result"
    },
    {
     "data": {
      "image/png": "[encoded data removed]",
      "text/plain": [
       "<Figure size 432x288 with 1 Axes>"
      ]
     },
     "metadata": {},
     "output_type": "display_data"
    }
   ],
   "source": [
    "plt.hist(y_pred_train)"
   ]
  },
  {
   "cell_type": "code",
   "execution_count": 36,
   "id": "78f0d318",
   "metadata": {},
   "outputs": [
    {
     "data": {
      "text/plain": [
       "(0.792, 0.009267639502178793)"
      ]
     },
     "execution_count": 36,
     "metadata": {},
     "output_type": "execute_result"
    }
   ],
   "source": [
    "# scores exactitude, r2\n",
    "accuracy = accuracy_score(y_test, y_pred_test) \n",
    "r2 = r2_score(y_test,y_pred_test)\n",
    "accuracy, r2"
   ]
  },
  {
   "cell_type": "code",
   "execution_count": 37,
   "id": "98064e11",
   "metadata": {},
   "outputs": [
    {
     "data": {
      "text/html": [
       "<div>\n",
       "<style scoped>\n",
       "    .dataframe tbody tr th:only-of-type {\n",
       "        vertical-align: middle;\n",
       "    }\n",
       "\n",
       "    .dataframe tbody tr th {\n",
       "        vertical-align: top;\n",
       "    }\n",
       "\n",
       "    .dataframe thead th {\n",
       "        text-align: right;\n",
       "    }\n",
       "</style>\n",
       "<table border=\"1\" class=\"dataframe\">\n",
       "  <thead>\n",
       "    <tr style=\"text-align: right;\">\n",
       "      <th></th>\n",
       "      <th>Class</th>\n",
       "      <th>TP</th>\n",
       "      <th>FP</th>\n",
       "      <th>TN</th>\n",
       "      <th>FN</th>\n",
       "      <th>TPR</th>\n",
       "      <th>FPR</th>\n",
       "      <th>Accuracy</th>\n",
       "    </tr>\n",
       "  </thead>\n",
       "  <tbody>\n",
       "    <tr>\n",
       "      <th>0</th>\n",
       "      <td>0</td>\n",
       "      <td>1093</td>\n",
       "      <td>264</td>\n",
       "      <td>95</td>\n",
       "      <td>30</td>\n",
       "      <td>0.973286</td>\n",
       "      <td>0.735376</td>\n",
       "      <td>0.801619</td>\n",
       "    </tr>\n",
       "    <tr>\n",
       "      <th>1</th>\n",
       "      <td>1</td>\n",
       "      <td>2</td>\n",
       "      <td>1</td>\n",
       "      <td>1186</td>\n",
       "      <td>17</td>\n",
       "      <td>0.105263</td>\n",
       "      <td>0.000842</td>\n",
       "      <td>0.985075</td>\n",
       "    </tr>\n",
       "    <tr>\n",
       "      <th>2</th>\n",
       "      <td>2</td>\n",
       "      <td>7</td>\n",
       "      <td>7</td>\n",
       "      <td>1181</td>\n",
       "      <td>24</td>\n",
       "      <td>0.225806</td>\n",
       "      <td>0.005892</td>\n",
       "      <td>0.974569</td>\n",
       "    </tr>\n",
       "    <tr>\n",
       "      <th>3</th>\n",
       "      <td>3</td>\n",
       "      <td>9</td>\n",
       "      <td>1</td>\n",
       "      <td>1179</td>\n",
       "      <td>19</td>\n",
       "      <td>0.321429</td>\n",
       "      <td>0.000847</td>\n",
       "      <td>0.983444</td>\n",
       "    </tr>\n",
       "    <tr>\n",
       "      <th>4</th>\n",
       "      <td>4</td>\n",
       "      <td>15</td>\n",
       "      <td>7</td>\n",
       "      <td>1173</td>\n",
       "      <td>33</td>\n",
       "      <td>0.312500</td>\n",
       "      <td>0.005932</td>\n",
       "      <td>0.967427</td>\n",
       "    </tr>\n",
       "    <tr>\n",
       "      <th>5</th>\n",
       "      <td>5</td>\n",
       "      <td>4</td>\n",
       "      <td>7</td>\n",
       "      <td>1184</td>\n",
       "      <td>33</td>\n",
       "      <td>0.108108</td>\n",
       "      <td>0.005877</td>\n",
       "      <td>0.967427</td>\n",
       "    </tr>\n",
       "    <tr>\n",
       "      <th>6</th>\n",
       "      <td>6</td>\n",
       "      <td>9</td>\n",
       "      <td>5</td>\n",
       "      <td>1179</td>\n",
       "      <td>16</td>\n",
       "      <td>0.360000</td>\n",
       "      <td>0.004223</td>\n",
       "      <td>0.982630</td>\n",
       "    </tr>\n",
       "    <tr>\n",
       "      <th>7</th>\n",
       "      <td>7</td>\n",
       "      <td>8</td>\n",
       "      <td>3</td>\n",
       "      <td>1180</td>\n",
       "      <td>19</td>\n",
       "      <td>0.296296</td>\n",
       "      <td>0.002536</td>\n",
       "      <td>0.981818</td>\n",
       "    </tr>\n",
       "    <tr>\n",
       "      <th>8</th>\n",
       "      <td>8</td>\n",
       "      <td>19</td>\n",
       "      <td>3</td>\n",
       "      <td>1169</td>\n",
       "      <td>21</td>\n",
       "      <td>0.475000</td>\n",
       "      <td>0.002560</td>\n",
       "      <td>0.980198</td>\n",
       "    </tr>\n",
       "    <tr>\n",
       "      <th>9</th>\n",
       "      <td>9</td>\n",
       "      <td>5</td>\n",
       "      <td>3</td>\n",
       "      <td>1183</td>\n",
       "      <td>35</td>\n",
       "      <td>0.125000</td>\n",
       "      <td>0.002530</td>\n",
       "      <td>0.969005</td>\n",
       "    </tr>\n",
       "    <tr>\n",
       "      <th>10</th>\n",
       "      <td>10</td>\n",
       "      <td>9</td>\n",
       "      <td>7</td>\n",
       "      <td>1179</td>\n",
       "      <td>8</td>\n",
       "      <td>0.529412</td>\n",
       "      <td>0.005902</td>\n",
       "      <td>0.987531</td>\n",
       "    </tr>\n",
       "    <tr>\n",
       "      <th>11</th>\n",
       "      <td>11</td>\n",
       "      <td>1</td>\n",
       "      <td>2</td>\n",
       "      <td>1187</td>\n",
       "      <td>17</td>\n",
       "      <td>0.055556</td>\n",
       "      <td>0.001682</td>\n",
       "      <td>0.984258</td>\n",
       "    </tr>\n",
       "    <tr>\n",
       "      <th>12</th>\n",
       "      <td>13</td>\n",
       "      <td>1</td>\n",
       "      <td>1</td>\n",
       "      <td>1187</td>\n",
       "      <td>8</td>\n",
       "      <td>0.111111</td>\n",
       "      <td>0.000842</td>\n",
       "      <td>0.992481</td>\n",
       "    </tr>\n",
       "    <tr>\n",
       "      <th>13</th>\n",
       "      <td>14</td>\n",
       "      <td>3</td>\n",
       "      <td>1</td>\n",
       "      <td>1185</td>\n",
       "      <td>6</td>\n",
       "      <td>0.333333</td>\n",
       "      <td>0.000843</td>\n",
       "      <td>0.994142</td>\n",
       "    </tr>\n",
       "    <tr>\n",
       "      <th>14</th>\n",
       "      <td>15</td>\n",
       "      <td>3</td>\n",
       "      <td>0</td>\n",
       "      <td>1185</td>\n",
       "      <td>24</td>\n",
       "      <td>0.111111</td>\n",
       "      <td>0.000000</td>\n",
       "      <td>0.980198</td>\n",
       "    </tr>\n",
       "  </tbody>\n",
       "</table>\n",
       "</div>"
      ],
      "text/plain": [
       "    Class    TP   FP    TN  FN       TPR       FPR  Accuracy\n",
       "0       0  1093  264    95  30  0.973286  0.735376  0.801619\n",
       "1       1     2    1  1186  17  0.105263  0.000842  0.985075\n",
       "2       2     7    7  1181  24  0.225806  0.005892  0.974569\n",
       "3       3     9    1  1179  19  0.321429  0.000847  0.983444\n",
       "4       4    15    7  1173  33  0.312500  0.005932  0.967427\n",
       "5       5     4    7  1184  33  0.108108  0.005877  0.967427\n",
       "6       6     9    5  1179  16  0.360000  0.004223  0.982630\n",
       "7       7     8    3  1180  19  0.296296  0.002536  0.981818\n",
       "8       8    19    3  1169  21  0.475000  0.002560  0.980198\n",
       "9       9     5    3  1183  35  0.125000  0.002530  0.969005\n",
       "10     10     9    7  1179   8  0.529412  0.005902  0.987531\n",
       "11     11     1    2  1187  17  0.055556  0.001682  0.984258\n",
       "12     13     1    1  1187   8  0.111111  0.000842  0.992481\n",
       "13     14     3    1  1185   6  0.333333  0.000843  0.994142\n",
       "14     15     3    0  1185  24  0.111111  0.000000  0.980198"
      ]
     },
     "execution_count": 37,
     "metadata": {},
     "output_type": "execute_result"
    }
   ],
   "source": [
    "dfConfusion=confusionMatrixAcc(y_test, y_pred_test)\n",
    "dfConfusion.sort_values(by='Class')"
   ]
  },
  {
   "cell_type": "markdown",
   "id": "6c8ce2d9",
   "metadata": {},
   "source": [
    "## Reseau de neurones"
   ]
  },
  {
   "cell_type": "code",
   "execution_count": 38,
   "id": "67ce930f",
   "metadata": {},
   "outputs": [],
   "source": [
    "tf.config.run_functions_eagerly(True) #activation de l'execution en mode dynamique\n",
    "\n",
    "# Parametres du reseau de neurones\n",
    "EPOCHS = 60 # iterations\n",
    "BATCH_SIZE = 256 #taille de l'echantillon par iteration\n",
    "VERBOSE = 1\n",
    "NB_CLASSES = 20   # nombre de neurones/classe en sortie\n",
    "N_HIDDEN = 34 # nombre de neurones des couches cachees = nombre d'observations/(2*(nombre de neurones input + nombre de neurones output))\n",
    "VALIDATION_SPLIT = 0.2 # pourcentage des donnees d'entrainement reservées pour la validation\n",
    "DROPOUT = 0.3\n",
    "\n",
    "INPUT_SHAPE = X_train.shape"
   ]
  },
  {
   "cell_type": "code",
   "execution_count": 39,
   "id": "4238a88c",
   "metadata": {},
   "outputs": [
    {
     "data": {
      "text/plain": [
       "7697"
      ]
     },
     "execution_count": 39,
     "metadata": {},
     "output_type": "execute_result"
    }
   ],
   "source": [
    "INPUT_SHAPE[1]"
   ]
  },
  {
   "cell_type": "code",
   "execution_count": 40,
   "id": "48db530c",
   "metadata": {},
   "outputs": [
    {
     "name": "stderr",
     "output_type": "stream",
     "text": [
      "2021-11-18 16:11:12.437586: I tensorflow/core/platform/cpu_feature_guard.cc:142] This TensorFlow binary is optimized with oneAPI Deep Neural Network Library (oneDNN) to use the following CPU instructions in performance-critical operations:  SSE4.1 SSE4.2 AVX AVX2 FMA\n",
      "To enable them in other operations, rebuild TensorFlow with the appropriate compiler flags.\n"
     ]
    }
   ],
   "source": [
    "# Creation du modele\n",
    "model = tf.keras.models.Sequential()\n",
    "model.add(tf.keras.layers.Dense(INPUT_SHAPE[1],\n",
    "    input_shape=INPUT_SHAPE,\n",
    "    name='input_layer', \n",
    "    activation='relu'))\n",
    "model.add(tf.keras.layers.Dense(N_HIDDEN,\n",
    "    name='hidden_layer_1',\n",
    "    activation='relu'))\n",
    "model.add(tf.keras.layers.Dense(N_HIDDEN,\n",
    "    name='hidden_layer_2',\n",
    "    activation='relu'))\n",
    "model.add(tf.keras.layers.Dense(NB_CLASSES,\n",
    "    name='output_layer',\n",
    "    activation='softmax'))"
   ]
  },
  {
   "cell_type": "code",
   "execution_count": 41,
   "id": "a0d402fe",
   "metadata": {},
   "outputs": [
    {
     "name": "stdout",
     "output_type": "stream",
     "text": [
      "Model: \"sequential\"\n",
      "_________________________________________________________________\n",
      "Layer (type)                 Output Shape              Param #   \n",
      "=================================================================\n",
      "input_layer (Dense)          (None, 3500, 7697)        59251506  \n",
      "_________________________________________________________________\n",
      "hidden_layer_1 (Dense)       (None, 3500, 34)          261732    \n",
      "_________________________________________________________________\n",
      "hidden_layer_2 (Dense)       (None, 3500, 34)          1190      \n",
      "_________________________________________________________________\n",
      "output_layer (Dense)         (None, 3500, 20)          700       \n",
      "=================================================================\n",
      "Total params: 59,515,128\n",
      "Trainable params: 59,515,128\n",
      "Non-trainable params: 0\n",
      "_________________________________________________________________\n"
     ]
    }
   ],
   "source": [
    "# Caracteristique/description du modele\n",
    "model.summary()"
   ]
  },
  {
   "cell_type": "code",
   "execution_count": 42,
   "id": "a910535d",
   "metadata": {},
   "outputs": [],
   "source": [
    "# Compilation\n",
    "model.compile(optimizer='adam',\n",
    "              loss='sparse_categorical_crossentropy', # methode de calcul de cout\n",
    "              metrics=['mean_squared_error']) # methode d'evaluation"
   ]
  },
  {
   "cell_type": "code",
   "execution_count": 43,
   "id": "7e4cc56b",
   "metadata": {},
   "outputs": [
    {
     "name": "stdout",
     "output_type": "stream",
     "text": [
      "Epoch 1/60\n"
     ]
    },
    {
     "name": "stderr",
     "output_type": "stream",
     "text": [
      "/Users/hui-guan/opt/miniconda3/envs/python3.8/lib/python3.8/site-packages/tensorflow/python/data/ops/dataset_ops.py:3503: UserWarning: Even though the tf.config.experimental_run_functions_eagerly option is set, this option does not apply to tf.data functions. tf.data functions are still traced and executed as graphs.\n",
      "  warnings.warn(\n",
      "2021-11-18 16:11:12.844550: I tensorflow/compiler/mlir/mlir_graph_optimization_pass.cc:116] None of the MLIR optimization passes are enabled (registered 2)\n"
     ]
    },
    {
     "name": "stdout",
     "output_type": "stream",
     "text": [
      "11/11 [==============================] - 5s 428ms/step - loss: 2.7842 - mean_squared_error: 16.2870 - val_loss: 1.7796 - val_mean_squared_error: 20.0573\n",
      "Epoch 2/60\n",
      "11/11 [==============================] - 4s 344ms/step - loss: 1.4366 - mean_squared_error: 16.9449 - val_loss: 1.6239 - val_mean_squared_error: 20.0871\n",
      "Epoch 3/60\n",
      "11/11 [==============================] - 4s 345ms/step - loss: 1.0831 - mean_squared_error: 17.1658 - val_loss: 1.4365 - val_mean_squared_error: 20.0692\n",
      "Epoch 4/60\n",
      "11/11 [==============================] - 4s 346ms/step - loss: 0.9834 - mean_squared_error: 16.7382 - val_loss: 1.4271 - val_mean_squared_error: 20.0839\n",
      "Epoch 5/60\n",
      "11/11 [==============================] - 4s 348ms/step - loss: 0.8261 - mean_squared_error: 15.9719 - val_loss: 1.3680 - val_mean_squared_error: 20.0796\n",
      "Epoch 6/60\n",
      "11/11 [==============================] - 4s 346ms/step - loss: 0.7987 - mean_squared_error: 15.8181 - val_loss: 1.3769 - val_mean_squared_error: 20.0821\n",
      "Epoch 7/60\n",
      "11/11 [==============================] - 4s 345ms/step - loss: 0.7322 - mean_squared_error: 16.7756 - val_loss: 1.4033 - val_mean_squared_error: 20.0845\n",
      "Epoch 8/60\n",
      "11/11 [==============================] - 4s 345ms/step - loss: 0.6884 - mean_squared_error: 16.1695 - val_loss: 1.4011 - val_mean_squared_error: 20.0844\n",
      "Epoch 9/60\n",
      "11/11 [==============================] - 4s 350ms/step - loss: 0.5842 - mean_squared_error: 16.0981 - val_loss: 1.3909 - val_mean_squared_error: 20.0826\n",
      "Epoch 10/60\n",
      "11/11 [==============================] - 4s 347ms/step - loss: 0.5113 - mean_squared_error: 16.4649 - val_loss: 1.3956 - val_mean_squared_error: 20.0844\n",
      "Epoch 11/60\n",
      "11/11 [==============================] - 4s 346ms/step - loss: 0.4392 - mean_squared_error: 16.4728 - val_loss: 1.4131 - val_mean_squared_error: 20.0853\n",
      "Epoch 12/60\n",
      "11/11 [==============================] - 4s 346ms/step - loss: 0.3315 - mean_squared_error: 15.7843 - val_loss: 1.4271 - val_mean_squared_error: 20.0859\n",
      "Epoch 13/60\n",
      "11/11 [==============================] - 4s 345ms/step - loss: 0.2674 - mean_squared_error: 16.9533 - val_loss: 1.4402 - val_mean_squared_error: 20.0855\n",
      "Epoch 14/60\n",
      "11/11 [==============================] - 4s 345ms/step - loss: 0.2135 - mean_squared_error: 15.4830 - val_loss: 1.4709 - val_mean_squared_error: 20.0836\n",
      "Epoch 15/60\n",
      "11/11 [==============================] - 4s 345ms/step - loss: 0.1800 - mean_squared_error: 15.6547 - val_loss: 1.5634 - val_mean_squared_error: 20.0840\n",
      "Epoch 16/60\n",
      "11/11 [==============================] - 4s 344ms/step - loss: 0.1648 - mean_squared_error: 15.3607 - val_loss: 1.5647 - val_mean_squared_error: 20.0856\n",
      "Epoch 17/60\n",
      "11/11 [==============================] - 4s 347ms/step - loss: 0.1375 - mean_squared_error: 15.4932 - val_loss: 1.6969 - val_mean_squared_error: 20.0895\n",
      "Epoch 18/60\n",
      "11/11 [==============================] - 4s 345ms/step - loss: 0.1004 - mean_squared_error: 16.9767 - val_loss: 1.7798 - val_mean_squared_error: 20.0899\n",
      "Epoch 19/60\n",
      "11/11 [==============================] - 4s 347ms/step - loss: 0.0936 - mean_squared_error: 16.6167 - val_loss: 1.8216 - val_mean_squared_error: 20.0879\n",
      "Epoch 20/60\n",
      "11/11 [==============================] - 4s 346ms/step - loss: 0.0791 - mean_squared_error: 15.8622 - val_loss: 1.9244 - val_mean_squared_error: 20.0896\n",
      "Epoch 21/60\n",
      "11/11 [==============================] - 4s 346ms/step - loss: 0.0768 - mean_squared_error: 17.2024 - val_loss: 2.0720 - val_mean_squared_error: 20.0917\n",
      "Epoch 22/60\n",
      "11/11 [==============================] - 4s 345ms/step - loss: 0.0607 - mean_squared_error: 16.5449 - val_loss: 2.1091 - val_mean_squared_error: 20.0902\n",
      "Epoch 23/60\n",
      "11/11 [==============================] - 4s 346ms/step - loss: 0.0562 - mean_squared_error: 16.6309 - val_loss: 2.2185 - val_mean_squared_error: 20.0910\n",
      "Epoch 24/60\n",
      "11/11 [==============================] - 4s 346ms/step - loss: 0.0572 - mean_squared_error: 17.3233 - val_loss: 2.3021 - val_mean_squared_error: 20.0920\n",
      "Epoch 25/60\n",
      "11/11 [==============================] - 4s 347ms/step - loss: 0.0535 - mean_squared_error: 17.6082 - val_loss: 2.3834 - val_mean_squared_error: 20.0923\n",
      "Epoch 26/60\n",
      "11/11 [==============================] - 4s 345ms/step - loss: 0.0422 - mean_squared_error: 17.2621 - val_loss: 2.4759 - val_mean_squared_error: 20.0930\n",
      "Epoch 27/60\n",
      "11/11 [==============================] - 4s 344ms/step - loss: 0.0384 - mean_squared_error: 16.9814 - val_loss: 2.5293 - val_mean_squared_error: 20.0922\n",
      "Epoch 28/60\n",
      "11/11 [==============================] - 4s 347ms/step - loss: 0.0349 - mean_squared_error: 17.3312 - val_loss: 2.6014 - val_mean_squared_error: 20.0925\n",
      "Epoch 29/60\n",
      "11/11 [==============================] - 4s 345ms/step - loss: 0.0300 - mean_squared_error: 17.5243 - val_loss: 2.7218 - val_mean_squared_error: 20.0939\n",
      "Epoch 30/60\n",
      "11/11 [==============================] - 4s 347ms/step - loss: 0.0280 - mean_squared_error: 17.0886 - val_loss: 2.7836 - val_mean_squared_error: 20.0940\n",
      "Epoch 31/60\n",
      "11/11 [==============================] - 4s 346ms/step - loss: 0.0309 - mean_squared_error: 16.3320 - val_loss: 2.8267 - val_mean_squared_error: 20.0932\n",
      "Epoch 32/60\n",
      "11/11 [==============================] - 4s 347ms/step - loss: 0.0207 - mean_squared_error: 16.1710 - val_loss: 2.9110 - val_mean_squared_error: 20.0942\n",
      "Epoch 33/60\n",
      "11/11 [==============================] - 4s 347ms/step - loss: 0.0164 - mean_squared_error: 15.6783 - val_loss: 2.9434 - val_mean_squared_error: 20.0936\n",
      "Epoch 34/60\n",
      "11/11 [==============================] - 4s 346ms/step - loss: 0.0192 - mean_squared_error: 16.1830 - val_loss: 3.0278 - val_mean_squared_error: 20.0943\n",
      "Epoch 35/60\n",
      "11/11 [==============================] - 4s 349ms/step - loss: 0.0158 - mean_squared_error: 16.0345 - val_loss: 3.0754 - val_mean_squared_error: 20.0942\n",
      "Epoch 36/60\n",
      "11/11 [==============================] - 4s 349ms/step - loss: 0.0147 - mean_squared_error: 16.8635 - val_loss: 3.1317 - val_mean_squared_error: 20.0943\n",
      "Epoch 37/60\n",
      "11/11 [==============================] - 4s 346ms/step - loss: 0.0118 - mean_squared_error: 18.0089 - val_loss: 3.1900 - val_mean_squared_error: 20.0946\n",
      "Epoch 38/60\n",
      "11/11 [==============================] - 4s 349ms/step - loss: 0.0105 - mean_squared_error: 16.1405 - val_loss: 3.2431 - val_mean_squared_error: 20.0947\n",
      "Epoch 39/60\n",
      "11/11 [==============================] - 4s 346ms/step - loss: 0.0090 - mean_squared_error: 16.6128 - val_loss: 3.2984 - val_mean_squared_error: 20.0949\n",
      "Epoch 40/60\n",
      "11/11 [==============================] - 4s 357ms/step - loss: 0.0094 - mean_squared_error: 14.9329 - val_loss: 3.3471 - val_mean_squared_error: 20.0949\n",
      "Epoch 41/60\n",
      "11/11 [==============================] - 4s 349ms/step - loss: 0.0068 - mean_squared_error: 16.4714 - val_loss: 3.3906 - val_mean_squared_error: 20.0950\n",
      "Epoch 42/60\n",
      "11/11 [==============================] - 4s 348ms/step - loss: 0.0093 - mean_squared_error: 15.1310 - val_loss: 3.4449 - val_mean_squared_error: 20.0952\n",
      "Epoch 43/60\n",
      "11/11 [==============================] - 4s 346ms/step - loss: 0.0084 - mean_squared_error: 15.7925 - val_loss: 3.4886 - val_mean_squared_error: 20.0953\n",
      "Epoch 44/60\n",
      "11/11 [==============================] - 4s 348ms/step - loss: 0.0088 - mean_squared_error: 16.9354 - val_loss: 3.5606 - val_mean_squared_error: 20.0956\n",
      "Epoch 45/60\n",
      "11/11 [==============================] - 4s 347ms/step - loss: 0.0071 - mean_squared_error: 16.9646 - val_loss: 3.5712 - val_mean_squared_error: 20.0954\n",
      "Epoch 46/60\n",
      "11/11 [==============================] - 4s 348ms/step - loss: 0.0054 - mean_squared_error: 16.5464 - val_loss: 3.5999 - val_mean_squared_error: 20.0954\n",
      "Epoch 47/60\n",
      "11/11 [==============================] - 4s 349ms/step - loss: 0.0060 - mean_squared_error: 16.2266 - val_loss: 3.6894 - val_mean_squared_error: 20.0959\n",
      "Epoch 48/60\n",
      "11/11 [==============================] - 4s 347ms/step - loss: 0.0057 - mean_squared_error: 16.3359 - val_loss: 3.6733 - val_mean_squared_error: 20.0955\n",
      "Epoch 49/60\n",
      "11/11 [==============================] - 4s 348ms/step - loss: 0.0047 - mean_squared_error: 15.6803 - val_loss: 3.7692 - val_mean_squared_error: 20.0960\n",
      "Epoch 50/60\n",
      "11/11 [==============================] - 4s 350ms/step - loss: 0.0043 - mean_squared_error: 16.5393 - val_loss: 3.7449 - val_mean_squared_error: 20.0956\n"
     ]
    },
    {
     "name": "stdout",
     "output_type": "stream",
     "text": [
      "Epoch 51/60\n",
      "11/11 [==============================] - 4s 347ms/step - loss: 0.0049 - mean_squared_error: 16.2624 - val_loss: 3.8383 - val_mean_squared_error: 20.0961\n",
      "Epoch 52/60\n",
      "11/11 [==============================] - 4s 346ms/step - loss: 0.0039 - mean_squared_error: 16.4752 - val_loss: 3.8154 - val_mean_squared_error: 20.0957\n",
      "Epoch 53/60\n",
      "11/11 [==============================] - 4s 345ms/step - loss: 0.0033 - mean_squared_error: 16.5343 - val_loss: 3.9001 - val_mean_squared_error: 20.0962\n",
      "Epoch 54/60\n",
      "11/11 [==============================] - 4s 346ms/step - loss: 0.0033 - mean_squared_error: 15.6960 - val_loss: 3.8874 - val_mean_squared_error: 20.0959\n",
      "Epoch 55/60\n",
      "11/11 [==============================] - 4s 345ms/step - loss: 0.0030 - mean_squared_error: 15.9131 - val_loss: 3.9598 - val_mean_squared_error: 20.0963\n",
      "Epoch 56/60\n",
      "11/11 [==============================] - 4s 349ms/step - loss: 0.0030 - mean_squared_error: 15.4074 - val_loss: 3.9506 - val_mean_squared_error: 20.0960\n",
      "Epoch 57/60\n",
      "11/11 [==============================] - 4s 384ms/step - loss: 0.0027 - mean_squared_error: 17.0635 - val_loss: 4.0200 - val_mean_squared_error: 20.0963\n",
      "Epoch 58/60\n",
      "11/11 [==============================] - 4s 356ms/step - loss: 0.0024 - mean_squared_error: 16.3450 - val_loss: 4.0167 - val_mean_squared_error: 20.0962\n",
      "Epoch 59/60\n",
      "11/11 [==============================] - 4s 347ms/step - loss: 0.0026 - mean_squared_error: 16.3131 - val_loss: 4.0657 - val_mean_squared_error: 20.0963\n",
      "Epoch 60/60\n",
      "11/11 [==============================] - 4s 347ms/step - loss: 0.0025 - mean_squared_error: 16.6824 - val_loss: 4.0889 - val_mean_squared_error: 20.0963\n",
      "CPU times: user 33min 30s, sys: 3min 33s, total: 37min 3s\n",
      "Wall time: 3min 48s\n"
     ]
    }
   ],
   "source": [
    "%%time\n",
    "callbacks = [\n",
    "  #  Objet History pour monitorer les iterations\n",
    "  tf.keras.callbacks.History(),\n",
    "  # Logs pour TensorBoard dans le repertoire './logs' \n",
    "  #tf.keras.callbacks.TensorBoard(log_dir='./logs') # activation des logs pour TensorBoard\n",
    "]\n",
    "\n",
    "history = model.fit(X_train, y_train, batch_size=BATCH_SIZE, epochs=EPOCHS , verbose = VERBOSE, validation_split = 0.2, callbacks = callbacks)"
   ]
  },
  {
   "cell_type": "code",
   "execution_count": 44,
   "id": "7b8ebb0a",
   "metadata": {},
   "outputs": [
    {
     "data": {
      "image/png": "[encoded data removed]",
      "text/plain": [
       "<Figure size 432x288 with 1 Axes>"
      ]
     },
     "metadata": {},
     "output_type": "display_data"
    }
   ],
   "source": [
    "import matplotlib.pyplot as plt\n",
    "\n",
    "plt.plot(history.history['mean_squared_error'])\n",
    "plt.plot(history.history['val_mean_squared_error'])\n",
    "plt.title('reseau neuronal - 1 couche')\n",
    "plt.ylabel('MSE')\n",
    "plt.xlabel('iterations')\n",
    "plt.legend(['train' , 'validation'] , loc = 'upper right')\n",
    "plt.show()"
   ]
  },
  {
   "cell_type": "code",
   "execution_count": 45,
   "id": "dc254dad",
   "metadata": {},
   "outputs": [
    {
     "name": "stderr",
     "output_type": "stream",
     "text": [
      "/Users/hui-guan/opt/miniconda3/envs/python3.8/lib/python3.8/site-packages/tensorflow/python/keras/engine/sequential.py:450: UserWarning: `model.predict_classes()` is deprecated and will be removed after 2021-01-01. Please use instead:* `np.argmax(model.predict(x), axis=-1)`,   if your model does multi-class classification   (e.g. if it uses a `softmax` last-layer activation).* `(model.predict(x) > 0.5).astype(\"int32\")`,   if your model does binary classification   (e.g. if it uses a `sigmoid` last-layer activation).\n",
      "  warnings.warn('`model.predict_classes()` is deprecated and '\n"
     ]
    }
   ],
   "source": [
    "y_pred_train=np.squeeze(model.predict_classes(X_train)) #helps to get rid of useless one dimension arrays  and predict classes directly instead of probability\n",
    "y_pred_test=np.squeeze(model.predict_classes(X_test)) #helps to get rid of useless one dimension arrays  and predict classes directly instead of probability"
   ]
  },
  {
   "cell_type": "code",
   "execution_count": 46,
   "id": "94371eaf",
   "metadata": {},
   "outputs": [
    {
     "data": {
      "text/plain": [
       "(array([ 0,  1,  2,  3,  4,  5,  6,  7,  8,  9, 10, 11, 13, 14, 15]), 1500)"
      ]
     },
     "execution_count": 46,
     "metadata": {},
     "output_type": "execute_result"
    }
   ],
   "source": [
    "np.unique(y_pred_test),len(y_pred_test)"
   ]
  },
  {
   "cell_type": "code",
   "execution_count": 47,
   "id": "43388761",
   "metadata": {},
   "outputs": [
    {
     "data": {
      "text/plain": [
       "(0.7293333333333333, -0.3948087432165315)"
      ]
     },
     "execution_count": 47,
     "metadata": {},
     "output_type": "execute_result"
    }
   ],
   "source": [
    "# scores exactitude, r2\n",
    "accuracy = accuracy_score(y_test, y_pred_test) \n",
    "r2 = r2_score(y_test,y_pred_test)\n",
    "accuracy, r2"
   ]
  },
  {
   "cell_type": "code",
   "execution_count": 48,
   "id": "ab8165d0",
   "metadata": {},
   "outputs": [
    {
     "data": {
      "text/plain": [
       "<tf.Tensor: shape=(), dtype=float64, numpy=-0.3380330635952937>"
      ]
     },
     "execution_count": 48,
     "metadata": {},
     "output_type": "execute_result"
    }
   ],
   "source": [
    "r2_score_tf(y_test,y_pred_test)"
   ]
  },
  {
   "cell_type": "code",
   "execution_count": 49,
   "id": "d32c5288",
   "metadata": {},
   "outputs": [
    {
     "data": {
      "text/html": [
       "<div>\n",
       "<style scoped>\n",
       "    .dataframe tbody tr th:only-of-type {\n",
       "        vertical-align: middle;\n",
       "    }\n",
       "\n",
       "    .dataframe tbody tr th {\n",
       "        vertical-align: top;\n",
       "    }\n",
       "\n",
       "    .dataframe thead th {\n",
       "        text-align: right;\n",
       "    }\n",
       "</style>\n",
       "<table border=\"1\" class=\"dataframe\">\n",
       "  <thead>\n",
       "    <tr style=\"text-align: right;\">\n",
       "      <th></th>\n",
       "      <th>Class</th>\n",
       "      <th>TP</th>\n",
       "      <th>FP</th>\n",
       "      <th>TN</th>\n",
       "      <th>FN</th>\n",
       "      <th>TPR</th>\n",
       "      <th>FPR</th>\n",
       "      <th>Accuracy</th>\n",
       "    </tr>\n",
       "  </thead>\n",
       "  <tbody>\n",
       "    <tr>\n",
       "      <th>13</th>\n",
       "      <td>14</td>\n",
       "      <td>3</td>\n",
       "      <td>2</td>\n",
       "      <td>1091</td>\n",
       "      <td>6</td>\n",
       "      <td>0.333333</td>\n",
       "      <td>0.001830</td>\n",
       "      <td>0.992740</td>\n",
       "    </tr>\n",
       "    <tr>\n",
       "      <th>12</th>\n",
       "      <td>13</td>\n",
       "      <td>3</td>\n",
       "      <td>5</td>\n",
       "      <td>1091</td>\n",
       "      <td>6</td>\n",
       "      <td>0.333333</td>\n",
       "      <td>0.004562</td>\n",
       "      <td>0.990045</td>\n",
       "    </tr>\n",
       "    <tr>\n",
       "      <th>10</th>\n",
       "      <td>10</td>\n",
       "      <td>8</td>\n",
       "      <td>10</td>\n",
       "      <td>1086</td>\n",
       "      <td>9</td>\n",
       "      <td>0.470588</td>\n",
       "      <td>0.009124</td>\n",
       "      <td>0.982929</td>\n",
       "    </tr>\n",
       "    <tr>\n",
       "      <th>1</th>\n",
       "      <td>1</td>\n",
       "      <td>2</td>\n",
       "      <td>8</td>\n",
       "      <td>1092</td>\n",
       "      <td>17</td>\n",
       "      <td>0.105263</td>\n",
       "      <td>0.007273</td>\n",
       "      <td>0.977659</td>\n",
       "    </tr>\n",
       "    <tr>\n",
       "      <th>7</th>\n",
       "      <td>7</td>\n",
       "      <td>11</td>\n",
       "      <td>10</td>\n",
       "      <td>1083</td>\n",
       "      <td>16</td>\n",
       "      <td>0.407407</td>\n",
       "      <td>0.009149</td>\n",
       "      <td>0.976786</td>\n",
       "    </tr>\n",
       "    <tr>\n",
       "      <th>11</th>\n",
       "      <td>11</td>\n",
       "      <td>4</td>\n",
       "      <td>13</td>\n",
       "      <td>1090</td>\n",
       "      <td>14</td>\n",
       "      <td>0.222222</td>\n",
       "      <td>0.011786</td>\n",
       "      <td>0.975914</td>\n",
       "    </tr>\n",
       "    <tr>\n",
       "      <th>2</th>\n",
       "      <td>2</td>\n",
       "      <td>11</td>\n",
       "      <td>8</td>\n",
       "      <td>1083</td>\n",
       "      <td>20</td>\n",
       "      <td>0.354839</td>\n",
       "      <td>0.007333</td>\n",
       "      <td>0.975045</td>\n",
       "    </tr>\n",
       "    <tr>\n",
       "      <th>3</th>\n",
       "      <td>3</td>\n",
       "      <td>6</td>\n",
       "      <td>15</td>\n",
       "      <td>1088</td>\n",
       "      <td>22</td>\n",
       "      <td>0.214286</td>\n",
       "      <td>0.013599</td>\n",
       "      <td>0.967286</td>\n",
       "    </tr>\n",
       "    <tr>\n",
       "      <th>8</th>\n",
       "      <td>8</td>\n",
       "      <td>14</td>\n",
       "      <td>11</td>\n",
       "      <td>1080</td>\n",
       "      <td>26</td>\n",
       "      <td>0.350000</td>\n",
       "      <td>0.010082</td>\n",
       "      <td>0.967286</td>\n",
       "    </tr>\n",
       "    <tr>\n",
       "      <th>6</th>\n",
       "      <td>6</td>\n",
       "      <td>14</td>\n",
       "      <td>28</td>\n",
       "      <td>1080</td>\n",
       "      <td>11</td>\n",
       "      <td>0.560000</td>\n",
       "      <td>0.025271</td>\n",
       "      <td>0.965578</td>\n",
       "    </tr>\n",
       "    <tr>\n",
       "      <th>5</th>\n",
       "      <td>5</td>\n",
       "      <td>9</td>\n",
       "      <td>17</td>\n",
       "      <td>1085</td>\n",
       "      <td>28</td>\n",
       "      <td>0.243243</td>\n",
       "      <td>0.015426</td>\n",
       "      <td>0.960492</td>\n",
       "    </tr>\n",
       "    <tr>\n",
       "      <th>9</th>\n",
       "      <td>9</td>\n",
       "      <td>8</td>\n",
       "      <td>17</td>\n",
       "      <td>1086</td>\n",
       "      <td>32</td>\n",
       "      <td>0.200000</td>\n",
       "      <td>0.015413</td>\n",
       "      <td>0.957130</td>\n",
       "    </tr>\n",
       "    <tr>\n",
       "      <th>14</th>\n",
       "      <td>15</td>\n",
       "      <td>8</td>\n",
       "      <td>31</td>\n",
       "      <td>1086</td>\n",
       "      <td>19</td>\n",
       "      <td>0.296296</td>\n",
       "      <td>0.027753</td>\n",
       "      <td>0.956294</td>\n",
       "    </tr>\n",
       "    <tr>\n",
       "      <th>4</th>\n",
       "      <td>4</td>\n",
       "      <td>15</td>\n",
       "      <td>27</td>\n",
       "      <td>1079</td>\n",
       "      <td>33</td>\n",
       "      <td>0.312500</td>\n",
       "      <td>0.024412</td>\n",
       "      <td>0.948007</td>\n",
       "    </tr>\n",
       "    <tr>\n",
       "      <th>0</th>\n",
       "      <td>0</td>\n",
       "      <td>978</td>\n",
       "      <td>204</td>\n",
       "      <td>116</td>\n",
       "      <td>145</td>\n",
       "      <td>0.870882</td>\n",
       "      <td>0.637500</td>\n",
       "      <td>0.758143</td>\n",
       "    </tr>\n",
       "  </tbody>\n",
       "</table>\n",
       "</div>"
      ],
      "text/plain": [
       "    Class   TP   FP    TN   FN       TPR       FPR  Accuracy\n",
       "13     14    3    2  1091    6  0.333333  0.001830  0.992740\n",
       "12     13    3    5  1091    6  0.333333  0.004562  0.990045\n",
       "10     10    8   10  1086    9  0.470588  0.009124  0.982929\n",
       "1       1    2    8  1092   17  0.105263  0.007273  0.977659\n",
       "7       7   11   10  1083   16  0.407407  0.009149  0.976786\n",
       "11     11    4   13  1090   14  0.222222  0.011786  0.975914\n",
       "2       2   11    8  1083   20  0.354839  0.007333  0.975045\n",
       "3       3    6   15  1088   22  0.214286  0.013599  0.967286\n",
       "8       8   14   11  1080   26  0.350000  0.010082  0.967286\n",
       "6       6   14   28  1080   11  0.560000  0.025271  0.965578\n",
       "5       5    9   17  1085   28  0.243243  0.015426  0.960492\n",
       "9       9    8   17  1086   32  0.200000  0.015413  0.957130\n",
       "14     15    8   31  1086   19  0.296296  0.027753  0.956294\n",
       "4       4   15   27  1079   33  0.312500  0.024412  0.948007\n",
       "0       0  978  204   116  145  0.870882  0.637500  0.758143"
      ]
     },
     "execution_count": 49,
     "metadata": {},
     "output_type": "execute_result"
    }
   ],
   "source": [
    "dfConfusion=confusionMatrixAcc(y_test, y_pred_test)\n",
    "dfConfusion"
   ]
  },
  {
   "cell_type": "markdown",
   "id": "839e37f8",
   "metadata": {},
   "source": [
    "## LDA"
   ]
  },
  {
   "cell_type": "code",
   "execution_count": 50,
   "id": "6e5ea539",
   "metadata": {},
   "outputs": [
    {
     "name": "stdout",
     "output_type": "stream",
     "text": [
      "Topic 0:  ['server side', 'ajax request', 'list item', 'multiple instance', 'primary key', 'array object', 'source control']\n",
      "Topic 1:  ['binary file', 'best way', 'class use', 'excel file', 'android sdk', 'submit form', 'design class']\n",
      "Topic 2:  ['net mvc', 'asp net', 'memory leak', 'template function', 'file folder', 'php mysql', 'htmlstring mvchtmlstring']\n",
      "Topic 3:  ['insert string', 'jquery javascript', 'string string', 'element array', 'asp net', 'first line', 'single page']\n",
      "Topic 4:  ['sql query', 'unit test', 'byte array', 'custom control', 'write unit', 'rel nofollow', 'version number']\n",
      "Topic 5:  ['get file', 'optimize query', 'move file', 'method use', 'phone number', 'int int', 'wcf service']\n",
      "Topic 6:  ['android studio', 'file use', 'property object', 'pas value', 'text file', 'list control', 'share library']\n",
      "Topic 7:  ['get record', 'prepared statement', 'http response', 'column value', 'use powershell', 'run command', 'alternative robohelp']\n",
      "Topic 8:  ['regular expression', 'asp net', 'jquery append', 'php curl', 'vb net', 'connect mysql', 'ruby rail']\n",
      "Topic 9:  ['strange behavior', 'set value', 'object use', 'create file', 'infinite loop', 'dialog box', 'tense verb']\n",
      "Topic 10:  ['open source', 'shell command', 'display image', 'iphone app', 'option infer', 'two different', 'char array']\n",
      "Topic 11:  ['store procedure', 'syntax error', 'soap request', 'openid oauth', 'mysql store', 'xml use', 'spinner android']\n",
      "Topic 12:  ['web service', 'image url', 'return null', 'mysql query', 'default value', 'multiple row', 'javascript code']\n",
      "Topic 13:  ['visual studio', 'jquery ui', 'use regex', 'well way', 'java class', 'orient program', 'object orient']\n",
      "Topic 14:  ['asp net', 'spring boot', 'easy way', 'deploy django', 'part string', 'output console', 'git repo']\n",
      "Topic 15:  ['virtual function', 'index work', 'send mail', 'element list', 'time zone', 'create custom', 'grid view']\n",
      "Topic 16:  ['server use', 'remote server', 'iphone sdk', 'two string', 'sql parameter', 'upper triangular', 'compare two']\n",
      "Topic 17:  ['click event', 'use ajax', 'get set', 'need help', 'many relation', 'html use', 'multi dimensional']\n",
      "Topic 18:  ['send email', 'app engine', 'google app', 'operator javascript', 'spring security', 'text box', 'program use']\n",
      "Topic 19:  ['sql server', 'reporting service', 'font size', 'class library', 'line file', 'make work', 'use python']\n"
     ]
    }
   ],
   "source": [
    "# instanciation du modele\n",
    "model=LatentDirichletAllocation(n_components=20)\n",
    "\n",
    "lda_matrix = model.fit_transform(X_train)\n",
    "\n",
    "# recuperation des composantes\n",
    "lda_components=model.components_\n",
    "\n",
    "# termes des thematiques\n",
    "terms = dfTFIDFCommon.columns\n",
    "\n",
    "for index, component in enumerate(lda_components):\n",
    "    zipped = zip(terms, component)\n",
    "    top_terms_key=sorted(zipped, key = lambda t: t[1], reverse=True)[:7]\n",
    "    top_terms_list=list(dict(top_terms_key).keys())\n",
    "    print(\"Topic \"+str(index)+\": \",top_terms_list)"
   ]
  }
 ],
 "metadata": {
  "kernelspec": {
   "display_name": "Python 3.8",
   "language": "python",
   "name": "python3.8"
  },
  "language_info": {
   "codemirror_mode": {
    "name": "ipython",
    "version": 3
   },
   "file_extension": ".py",
   "mimetype": "text/x-python",
   "name": "python",
   "nbconvert_exporter": "python",
   "pygments_lexer": "ipython3",
   "version": "3.8.12"
  }
 },
 "nbformat": 4,
 "nbformat_minor": 5
}
